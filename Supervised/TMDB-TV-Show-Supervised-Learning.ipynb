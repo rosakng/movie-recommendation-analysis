{
 "cells": [
  {
   "cell_type": "markdown",
   "metadata": {},
   "source": [
    "# Data prep to make multiple categorical variables useable"
   ]
  },
  {
   "cell_type": "code",
   "execution_count": 1,
   "metadata": {},
   "outputs": [],
   "source": [
    "# Data Imports\n",
    "import numpy as np\n",
    "import pandas as pd\n",
    "\n",
    "\n",
    "# Math\n",
    "import math\n",
    "\n",
    "# Plot imports\n",
    "import matplotlib.pyplot as plt\n",
    "import seaborn as sns\n",
    "sns.set_style('whitegrid')\n",
    "%matplotlib inline\n",
    "\n",
    "# Machine Learning Imports\n",
    "from sklearn.linear_model import LogisticRegression\n",
    "from sklearn.model_selection import train_test_split\n",
    "\n",
    "# For evaluating our ML results\n",
    "from sklearn import metrics"
   ]
  },
  {
   "cell_type": "code",
   "execution_count": 2,
   "metadata": {},
   "outputs": [
    {
     "data": {
      "text/html": [
       "<div>\n",
       "<style scoped>\n",
       "    .dataframe tbody tr th:only-of-type {\n",
       "        vertical-align: middle;\n",
       "    }\n",
       "\n",
       "    .dataframe tbody tr th {\n",
       "        vertical-align: top;\n",
       "    }\n",
       "\n",
       "    .dataframe thead th {\n",
       "        text-align: right;\n",
       "    }\n",
       "</style>\n",
       "<table border=\"1\" class=\"dataframe\">\n",
       "  <thead>\n",
       "    <tr style=\"text-align: right;\">\n",
       "      <th></th>\n",
       "      <th>id</th>\n",
       "      <th>popularity</th>\n",
       "      <th>vote_count</th>\n",
       "      <th>name</th>\n",
       "      <th>first_air_date</th>\n",
       "      <th>backdrop_path</th>\n",
       "      <th>overview</th>\n",
       "      <th>genre_ids</th>\n",
       "      <th>original_name</th>\n",
       "      <th>original_language</th>\n",
       "      <th>...</th>\n",
       "      <th>number_of_episodes</th>\n",
       "      <th>number_of_seasons</th>\n",
       "      <th>origin_country_y</th>\n",
       "      <th>production_companies</th>\n",
       "      <th>production_countries</th>\n",
       "      <th>seasons</th>\n",
       "      <th>spoken_languages</th>\n",
       "      <th>status</th>\n",
       "      <th>tagline</th>\n",
       "      <th>type</th>\n",
       "    </tr>\n",
       "  </thead>\n",
       "  <tbody>\n",
       "    <tr>\n",
       "      <th>0</th>\n",
       "      <td>76773</td>\n",
       "      <td>238.249</td>\n",
       "      <td>550</td>\n",
       "      <td>Station 19</td>\n",
       "      <td>2018-03-22</td>\n",
       "      <td>/PB1agKtni7zo4fea8yk6y4iE5L.jpg</td>\n",
       "      <td>A group of heroic firefighters at Seattle Fire...</td>\n",
       "      <td>[10759, 18]</td>\n",
       "      <td>Station 19</td>\n",
       "      <td>en</td>\n",
       "      <td>...</td>\n",
       "      <td>46</td>\n",
       "      <td>4</td>\n",
       "      <td>['US']</td>\n",
       "      <td>[{'id': 34209, 'logo_path': '/chuOOQxixQL4fa9L...</td>\n",
       "      <td>[{'iso_3166_1': 'US', 'name': 'United States o...</td>\n",
       "      <td>[{'air_date': '2018-03-22', 'episode_count': 1...</td>\n",
       "      <td>[{'english_name': 'English', 'iso_639_1': 'en'...</td>\n",
       "      <td>Returning Series</td>\n",
       "      <td>Courage under fire.</td>\n",
       "      <td>Scripted</td>\n",
       "    </tr>\n",
       "    <tr>\n",
       "      <th>1</th>\n",
       "      <td>71790</td>\n",
       "      <td>230.154</td>\n",
       "      <td>303</td>\n",
       "      <td>S.W.A.T.</td>\n",
       "      <td>2017-11-02</td>\n",
       "      <td>/gJSqr2prvTegFbL0cEWK9Qti3Vs.jpg</td>\n",
       "      <td>A locally born and bred S.W.A.T. lieutenant is...</td>\n",
       "      <td>[10759, 80, 18]</td>\n",
       "      <td>S.W.A.T.</td>\n",
       "      <td>en</td>\n",
       "      <td>...</td>\n",
       "      <td>71</td>\n",
       "      <td>4</td>\n",
       "      <td>['US']</td>\n",
       "      <td>[{'id': 11073, 'logo_path': '/wHs44fktdoj6c378...</td>\n",
       "      <td>[{'iso_3166_1': 'US', 'name': 'United States o...</td>\n",
       "      <td>[{'air_date': '2017-11-02', 'episode_count': 2...</td>\n",
       "      <td>[{'english_name': 'English', 'iso_639_1': 'en'...</td>\n",
       "      <td>Returning Series</td>\n",
       "      <td>Serve • Protect • Unite</td>\n",
       "      <td>Scripted</td>\n",
       "    </tr>\n",
       "    <tr>\n",
       "      <th>2</th>\n",
       "      <td>65494</td>\n",
       "      <td>253.691</td>\n",
       "      <td>647</td>\n",
       "      <td>The Crown</td>\n",
       "      <td>2016-11-04</td>\n",
       "      <td>/4InrdamBEM31unNiuEHGYTPX1e2.jpg</td>\n",
       "      <td>The gripping, decades-spanning inside story of...</td>\n",
       "      <td>[18]</td>\n",
       "      <td>The Crown</td>\n",
       "      <td>en</td>\n",
       "      <td>...</td>\n",
       "      <td>40</td>\n",
       "      <td>4</td>\n",
       "      <td>['GB', 'US']</td>\n",
       "      <td>[{'id': 5340, 'logo_path': '/zHQ48Hg1In6SJB7WW...</td>\n",
       "      <td>[{'iso_3166_1': 'GB', 'name': 'United Kingdom'...</td>\n",
       "      <td>[{'air_date': '2016-11-04', 'episode_count': 1...</td>\n",
       "      <td>[{'english_name': 'English', 'iso_639_1': 'en'...</td>\n",
       "      <td>Returning Series</td>\n",
       "      <td>Times change. Duty endures.</td>\n",
       "      <td>Scripted</td>\n",
       "    </tr>\n",
       "    <tr>\n",
       "      <th>3</th>\n",
       "      <td>60735</td>\n",
       "      <td>231.088</td>\n",
       "      <td>6222</td>\n",
       "      <td>The Flash</td>\n",
       "      <td>2014-10-07</td>\n",
       "      <td>/z59kJfcElR9eHO9rJbWp4qWMuee.jpg</td>\n",
       "      <td>After a particle accelerator causes a freak st...</td>\n",
       "      <td>[18, 10765]</td>\n",
       "      <td>The Flash</td>\n",
       "      <td>en</td>\n",
       "      <td>...</td>\n",
       "      <td>134</td>\n",
       "      <td>7</td>\n",
       "      <td>['US']</td>\n",
       "      <td>[{'id': 1957, 'logo_path': '/3T19XSr6yqaLNK8uJ...</td>\n",
       "      <td>[{'iso_3166_1': 'US', 'name': 'United States o...</td>\n",
       "      <td>[{'air_date': '2016-04-19', 'episode_count': 5...</td>\n",
       "      <td>[{'english_name': 'English', 'iso_639_1': 'en'...</td>\n",
       "      <td>Returning Series</td>\n",
       "      <td>The fastest man alive.</td>\n",
       "      <td>Scripted</td>\n",
       "    </tr>\n",
       "    <tr>\n",
       "      <th>4</th>\n",
       "      <td>44006</td>\n",
       "      <td>214.268</td>\n",
       "      <td>965</td>\n",
       "      <td>Chicago Fire</td>\n",
       "      <td>2012-10-10</td>\n",
       "      <td>/W5geO8tq68ng4TsXyZ81phcPiz.jpg</td>\n",
       "      <td>An edge-of-your-seat view into the lives of ev...</td>\n",
       "      <td>[18]</td>\n",
       "      <td>Chicago Fire</td>\n",
       "      <td>en</td>\n",
       "      <td>...</td>\n",
       "      <td>182</td>\n",
       "      <td>9</td>\n",
       "      <td>['US']</td>\n",
       "      <td>[{'id': 26727, 'logo_path': '/jeTxdjXhzgKZyLr3...</td>\n",
       "      <td>[{'iso_3166_1': 'US', 'name': 'United States o...</td>\n",
       "      <td>[{'air_date': '2012-10-10', 'episode_count': 2...</td>\n",
       "      <td>[{'english_name': 'English', 'iso_639_1': 'en'...</td>\n",
       "      <td>Returning Series</td>\n",
       "      <td>Feel the heat</td>\n",
       "      <td>Scripted</td>\n",
       "    </tr>\n",
       "  </tbody>\n",
       "</table>\n",
       "<p>5 rows × 33 columns</p>\n",
       "</div>"
      ],
      "text/plain": [
       "      id  popularity  vote_count          name first_air_date  \\\n",
       "0  76773     238.249         550    Station 19     2018-03-22   \n",
       "1  71790     230.154         303      S.W.A.T.     2017-11-02   \n",
       "2  65494     253.691         647     The Crown     2016-11-04   \n",
       "3  60735     231.088        6222     The Flash     2014-10-07   \n",
       "4  44006     214.268         965  Chicago Fire     2012-10-10   \n",
       "\n",
       "                      backdrop_path  \\\n",
       "0   /PB1agKtni7zo4fea8yk6y4iE5L.jpg   \n",
       "1  /gJSqr2prvTegFbL0cEWK9Qti3Vs.jpg   \n",
       "2  /4InrdamBEM31unNiuEHGYTPX1e2.jpg   \n",
       "3  /z59kJfcElR9eHO9rJbWp4qWMuee.jpg   \n",
       "4   /W5geO8tq68ng4TsXyZ81phcPiz.jpg   \n",
       "\n",
       "                                            overview        genre_ids  \\\n",
       "0  A group of heroic firefighters at Seattle Fire...      [10759, 18]   \n",
       "1  A locally born and bred S.W.A.T. lieutenant is...  [10759, 80, 18]   \n",
       "2  The gripping, decades-spanning inside story of...             [18]   \n",
       "3  After a particle accelerator causes a freak st...      [18, 10765]   \n",
       "4  An edge-of-your-seat view into the lives of ev...             [18]   \n",
       "\n",
       "  original_name original_language  ...  number_of_episodes number_of_seasons  \\\n",
       "0    Station 19                en  ...                  46                 4   \n",
       "1      S.W.A.T.                en  ...                  71                 4   \n",
       "2     The Crown                en  ...                  40                 4   \n",
       "3     The Flash                en  ...                 134                 7   \n",
       "4  Chicago Fire                en  ...                 182                 9   \n",
       "\n",
       "  origin_country_y                               production_companies  \\\n",
       "0           ['US']  [{'id': 34209, 'logo_path': '/chuOOQxixQL4fa9L...   \n",
       "1           ['US']  [{'id': 11073, 'logo_path': '/wHs44fktdoj6c378...   \n",
       "2     ['GB', 'US']  [{'id': 5340, 'logo_path': '/zHQ48Hg1In6SJB7WW...   \n",
       "3           ['US']  [{'id': 1957, 'logo_path': '/3T19XSr6yqaLNK8uJ...   \n",
       "4           ['US']  [{'id': 26727, 'logo_path': '/jeTxdjXhzgKZyLr3...   \n",
       "\n",
       "                                production_countries  \\\n",
       "0  [{'iso_3166_1': 'US', 'name': 'United States o...   \n",
       "1  [{'iso_3166_1': 'US', 'name': 'United States o...   \n",
       "2  [{'iso_3166_1': 'GB', 'name': 'United Kingdom'...   \n",
       "3  [{'iso_3166_1': 'US', 'name': 'United States o...   \n",
       "4  [{'iso_3166_1': 'US', 'name': 'United States o...   \n",
       "\n",
       "                                             seasons  \\\n",
       "0  [{'air_date': '2018-03-22', 'episode_count': 1...   \n",
       "1  [{'air_date': '2017-11-02', 'episode_count': 2...   \n",
       "2  [{'air_date': '2016-11-04', 'episode_count': 1...   \n",
       "3  [{'air_date': '2016-04-19', 'episode_count': 5...   \n",
       "4  [{'air_date': '2012-10-10', 'episode_count': 2...   \n",
       "\n",
       "                                    spoken_languages            status  \\\n",
       "0  [{'english_name': 'English', 'iso_639_1': 'en'...  Returning Series   \n",
       "1  [{'english_name': 'English', 'iso_639_1': 'en'...  Returning Series   \n",
       "2  [{'english_name': 'English', 'iso_639_1': 'en'...  Returning Series   \n",
       "3  [{'english_name': 'English', 'iso_639_1': 'en'...  Returning Series   \n",
       "4  [{'english_name': 'English', 'iso_639_1': 'en'...  Returning Series   \n",
       "\n",
       "                       tagline      type  \n",
       "0          Courage under fire.  Scripted  \n",
       "1      Serve • Protect • Unite  Scripted  \n",
       "2  Times change. Duty endures.  Scripted  \n",
       "3       The fastest man alive.  Scripted  \n",
       "4                Feel the heat  Scripted  \n",
       "\n",
       "[5 rows x 33 columns]"
      ]
     },
     "execution_count": 2,
     "metadata": {},
     "output_type": "execute_result"
    }
   ],
   "source": [
    "df = pd.read_csv('tmdb_tv_dataset_small.csv', converters={'genres': eval, 'episode_run_time': eval})\n",
    "df.head()"
   ]
  },
  {
   "cell_type": "code",
   "execution_count": 3,
   "metadata": {},
   "outputs": [
    {
     "data": {
      "text/plain": [
       "id                         0\n",
       "popularity                 0\n",
       "vote_count                 0\n",
       "name                       0\n",
       "first_air_date             0\n",
       "backdrop_path             94\n",
       "overview                  54\n",
       "genre_ids                  0\n",
       "original_name              0\n",
       "original_language          0\n",
       "vote_average               0\n",
       "poster_path               24\n",
       "origin_country_x           0\n",
       "created_by                 0\n",
       "episode_run_time           0\n",
       "genres                     0\n",
       "homepage                 365\n",
       "in_production              0\n",
       "languages                  0\n",
       "last_air_date              3\n",
       "last_episode_to_air        3\n",
       "next_episode_to_air     1451\n",
       "networks                   0\n",
       "number_of_episodes         0\n",
       "number_of_seasons          0\n",
       "origin_country_y           0\n",
       "production_companies       0\n",
       "production_countries       0\n",
       "seasons                    0\n",
       "spoken_languages           0\n",
       "status                     0\n",
       "tagline                 1239\n",
       "type                       0\n",
       "dtype: int64"
      ]
     },
     "execution_count": 3,
     "metadata": {},
     "output_type": "execute_result"
    }
   ],
   "source": [
    "df.isnull().sum()"
   ]
  },
  {
   "cell_type": "code",
   "execution_count": 4,
   "metadata": {},
   "outputs": [],
   "source": [
    "# drop rows with empty episode run times\n",
    "df = df[df['episode_run_time'].map(lambda d: len(d)) > 0]"
   ]
  },
  {
   "cell_type": "code",
   "execution_count": 5,
   "metadata": {},
   "outputs": [
    {
     "data": {
      "text/plain": [
       "(1507, 33)"
      ]
     },
     "execution_count": 5,
     "metadata": {},
     "output_type": "execute_result"
    }
   ],
   "source": [
    "df.shape"
   ]
  },
  {
   "cell_type": "markdown",
   "metadata": {},
   "source": [
    "\"The TV series data recorded on IMDb websites were extracted and provided by Andrej Krevl from the Stanford SNAP\n",
    "Research Group. We filtered and cleaned the data by excluding the TV series with very small numbers of ratings, say\n",
    "less than 10 viewer ratings, and those with missing feature information for the accuracy of prediction. Features of the\n",
    "data set include the genre (vector of Booleans), release year (numeric), number of seasons (numeric), number of\n",
    "episodes for each season (numeric), number of ratings (numeric), number of critics (numeric), number of reviewers\n",
    "(numeric), runtime (numeric), aspect ratio (categorical), and color (Boolean). We randomly selected 450 complete\n",
    "samples from the data set for testing and training purposes.\""
   ]
  },
  {
   "cell_type": "markdown",
   "metadata": {},
   "source": [
    "First, we will try to replicate the dataset created in the research paper, using TMDB data instead of IMDB data. There will be differences and columns that differ between each dataset, and we will observe the overall prediction power using columns that are unique to TMDB"
   ]
  },
  {
   "cell_type": "code",
   "execution_count": 6,
   "metadata": {},
   "outputs": [],
   "source": [
    "# create a data frame with the above features\n",
    "\n",
    "# FEATURES\n",
    "# genres (is an array of objects, [{id, name}]. first convert to array of strings, then one hot encode)\n",
    "genres_col = df['genres'].copy()\n",
    "\n",
    "# release year (is a string)\n",
    "first_air_date_col = df['first_air_date'].copy()\n",
    "\n",
    "# number of seasons\n",
    "number_of_seasons_col = df['number_of_seasons'].copy()\n",
    "\n",
    "# number of episodes\n",
    "number_of_episodes_col = df['number_of_episodes'].copy()\n",
    "\n",
    "# number of ratings\n",
    "vote_count_col = df['vote_count'].copy()\n",
    "\n",
    "# number of critics: not available\n",
    "\n",
    "# number of reviewers: not available\n",
    "\n",
    "# runtime (is an array[int])\n",
    "episode_run_time_col = df['episode_run_time'].copy()\n",
    "\n",
    "# aspect ratio: not available\n",
    "\n",
    "# color: not available\n",
    "\n",
    "# TARGET\n",
    "# average rating\n",
    "vote_average_col = df['vote_average'].copy()"
   ]
  },
  {
   "cell_type": "markdown",
   "metadata": {},
   "source": [
    "Now, we have to further transform the genres and episode_run_time columns to make them useable in logistic regression"
   ]
  },
  {
   "cell_type": "code",
   "execution_count": 7,
   "metadata": {},
   "outputs": [
    {
     "data": {
      "text/plain": [
       "pandas.core.series.Series"
      ]
     },
     "execution_count": 7,
     "metadata": {},
     "output_type": "execute_result"
    }
   ],
   "source": [
    "type(genres_col)"
   ]
  },
  {
   "cell_type": "code",
   "execution_count": 8,
   "metadata": {},
   "outputs": [
    {
     "data": {
      "text/plain": [
       "pandas.core.series.Series"
      ]
     },
     "execution_count": 8,
     "metadata": {},
     "output_type": "execute_result"
    }
   ],
   "source": [
    "type(episode_run_time_col)"
   ]
  },
  {
   "cell_type": "code",
   "execution_count": 9,
   "metadata": {},
   "outputs": [
    {
     "data": {
      "text/plain": [
       "0    [{'id': 10759, 'name': 'Action & Adventure'}, ...\n",
       "1    [{'id': 10759, 'name': 'Action & Adventure'}, ...\n",
       "2                        [{'id': 18, 'name': 'Drama'}]\n",
       "3    [{'id': 18, 'name': 'Drama'}, {'id': 10765, 'n...\n",
       "4                        [{'id': 18, 'name': 'Drama'}]\n",
       "Name: genres, dtype: object"
      ]
     },
     "execution_count": 9,
     "metadata": {},
     "output_type": "execute_result"
    }
   ],
   "source": [
    "genres_col.head()"
   ]
  },
  {
   "cell_type": "code",
   "execution_count": 10,
   "metadata": {},
   "outputs": [
    {
     "data": {
      "text/plain": [
       "0    [43]\n",
       "1    [42]\n",
       "2    [52]\n",
       "3    [44]\n",
       "4    [60]\n",
       "Name: episode_run_time, dtype: object"
      ]
     },
     "execution_count": 10,
     "metadata": {},
     "output_type": "execute_result"
    }
   ],
   "source": [
    "episode_run_time_col.head()"
   ]
  },
  {
   "cell_type": "code",
   "execution_count": 11,
   "metadata": {},
   "outputs": [],
   "source": [
    "# transform all entries in genres_df from [{id, name}] to [name]\n",
    "genre_strings_col = genres_col.apply(lambda x: [genre['name'] for genre in x])"
   ]
  },
  {
   "cell_type": "code",
   "execution_count": 12,
   "metadata": {},
   "outputs": [
    {
     "data": {
      "text/plain": [
       "['Action & Adventure', 'Drama']"
      ]
     },
     "execution_count": 12,
     "metadata": {},
     "output_type": "execute_result"
    }
   ],
   "source": [
    "genre_strings_col[0]"
   ]
  },
  {
   "cell_type": "code",
   "execution_count": 13,
   "metadata": {},
   "outputs": [],
   "source": [
    "import statistics"
   ]
  },
  {
   "cell_type": "code",
   "execution_count": 14,
   "metadata": {},
   "outputs": [
    {
     "data": {
      "text/plain": [
       "0"
      ]
     },
     "execution_count": 14,
     "metadata": {},
     "output_type": "execute_result"
    }
   ],
   "source": [
    "episode_run_time_col.isnull().sum()"
   ]
  },
  {
   "cell_type": "code",
   "execution_count": 15,
   "metadata": {},
   "outputs": [],
   "source": [
    "# get the mean episode runtimes to represent runtime\n",
    "mean_runtime_col = episode_run_time_col.apply(lambda x: statistics.mean(x))"
   ]
  },
  {
   "cell_type": "code",
   "execution_count": 16,
   "metadata": {},
   "outputs": [
    {
     "data": {
      "text/plain": [
       "0    43.0\n",
       "1    42.0\n",
       "2    52.0\n",
       "3    44.0\n",
       "4    60.0\n",
       "Name: episode_run_time, dtype: float64"
      ]
     },
     "execution_count": 16,
     "metadata": {},
     "output_type": "execute_result"
    }
   ],
   "source": [
    "mean_runtime_col.head()"
   ]
  },
  {
   "cell_type": "code",
   "execution_count": 17,
   "metadata": {},
   "outputs": [
    {
     "data": {
      "text/plain": [
       "0    2018-03-22\n",
       "1    2017-11-02\n",
       "2    2016-11-04\n",
       "3    2014-10-07\n",
       "4    2012-10-10\n",
       "Name: first_air_date, dtype: object"
      ]
     },
     "execution_count": 17,
     "metadata": {},
     "output_type": "execute_result"
    }
   ],
   "source": [
    "first_air_date_col.head()"
   ]
  },
  {
   "cell_type": "markdown",
   "metadata": {},
   "source": [
    "Realized I have to handle date times... \n",
    "https://stackoverflow.com/a/16456128\n",
    "\n",
    "https://stackoverflow.com/questions/16453644/regression-with-date-variable-using-scikit-learn"
   ]
  },
  {
   "cell_type": "code",
   "execution_count": 18,
   "metadata": {},
   "outputs": [],
   "source": [
    "# convert string start dates to be datetime values, \n",
    "# and then further transform to ordinal values so that classifier can properly interpret the meaning of dates\n",
    "first_air_datetime_ordinal_col = first_air_date_col.apply(lambda x: pd.to_datetime(x).toordinal())"
   ]
  },
  {
   "cell_type": "code",
   "execution_count": 19,
   "metadata": {},
   "outputs": [
    {
     "data": {
      "text/plain": [
       "0    736775\n",
       "1    736635\n",
       "2    736272\n",
       "3    735513\n",
       "4    734786\n",
       "Name: first_air_date, dtype: int64"
      ]
     },
     "execution_count": 19,
     "metadata": {},
     "output_type": "execute_result"
    }
   ],
   "source": [
    "first_air_datetime_ordinal_col.head()"
   ]
  },
  {
   "cell_type": "code",
   "execution_count": 20,
   "metadata": {},
   "outputs": [],
   "source": [
    "# one-hot encode the genres and finish initial data preprocessing\n",
    "from sklearn.preprocessing import MultiLabelBinarizer\n",
    "mlb = MultiLabelBinarizer()"
   ]
  },
  {
   "cell_type": "markdown",
   "metadata": {},
   "source": [
    "In order to properly one-hot encode our genres column, we need to use the MultiLabelBinarizer from sklearn. This handles nested categorical data, which is what our genres column is (a series of list of string).\n",
    "\n",
    "https://stackoverflow.com/questions/45312377/how-to-one-hot-encode-from-a-pandas-column-containing-a-list\n",
    "\n",
    "We start by forming the final starting dataframe"
   ]
  },
  {
   "cell_type": "code",
   "execution_count": 21,
   "metadata": {},
   "outputs": [],
   "source": [
    "start_df = pd.DataFrame(\n",
    "        {\n",
    "            'first_air_datetime_ordinal': first_air_datetime_ordinal_col, \n",
    "            'number_of_seasons': number_of_seasons_col, \n",
    "            'number_of_episodes': number_of_episodes_col, \n",
    "            'vote_count': vote_count_col, \n",
    "            'mean_runtime': mean_runtime_col,\n",
    "            'vote_average' : vote_average_col\n",
    "        })"
   ]
  },
  {
   "cell_type": "markdown",
   "metadata": {},
   "source": [
    "Now, we one-hot encode the genres and add it to our dataframe"
   ]
  },
  {
   "cell_type": "code",
   "execution_count": 22,
   "metadata": {},
   "outputs": [],
   "source": [
    "start_df = start_df.join(\n",
    "    pd.DataFrame(\n",
    "        mlb.fit_transform(genre_strings_col), \n",
    "        columns=mlb.classes_,\n",
    "        index=df.index))"
   ]
  },
  {
   "cell_type": "code",
   "execution_count": 23,
   "metadata": {},
   "outputs": [
    {
     "data": {
      "text/plain": [
       "Index(['first_air_datetime_ordinal', 'number_of_seasons', 'number_of_episodes',\n",
       "       'vote_count', 'mean_runtime', 'vote_average', 'Action',\n",
       "       'Action & Adventure', 'Adventure', 'Animation', 'Comedy', 'Crime',\n",
       "       'Documentary', 'Drama', 'Family', 'Fantasy', 'History', 'Horror',\n",
       "       'Kids', 'Music', 'Mystery', 'News', 'Reality', 'Romance',\n",
       "       'Sci-Fi & Fantasy', 'Science Fiction', 'Soap', 'Talk', 'War',\n",
       "       'War & Politics', 'Western'],\n",
       "      dtype='object')"
      ]
     },
     "execution_count": 23,
     "metadata": {},
     "output_type": "execute_result"
    }
   ],
   "source": [
    "start_df.columns"
   ]
  },
  {
   "cell_type": "code",
   "execution_count": 24,
   "metadata": {},
   "outputs": [
    {
     "data": {
      "text/html": [
       "<div>\n",
       "<style scoped>\n",
       "    .dataframe tbody tr th:only-of-type {\n",
       "        vertical-align: middle;\n",
       "    }\n",
       "\n",
       "    .dataframe tbody tr th {\n",
       "        vertical-align: top;\n",
       "    }\n",
       "\n",
       "    .dataframe thead th {\n",
       "        text-align: right;\n",
       "    }\n",
       "</style>\n",
       "<table border=\"1\" class=\"dataframe\">\n",
       "  <thead>\n",
       "    <tr style=\"text-align: right;\">\n",
       "      <th></th>\n",
       "      <th>first_air_datetime_ordinal</th>\n",
       "      <th>number_of_seasons</th>\n",
       "      <th>number_of_episodes</th>\n",
       "      <th>vote_count</th>\n",
       "      <th>mean_runtime</th>\n",
       "      <th>vote_average</th>\n",
       "      <th>Action</th>\n",
       "      <th>Action &amp; Adventure</th>\n",
       "      <th>Adventure</th>\n",
       "      <th>Animation</th>\n",
       "      <th>...</th>\n",
       "      <th>News</th>\n",
       "      <th>Reality</th>\n",
       "      <th>Romance</th>\n",
       "      <th>Sci-Fi &amp; Fantasy</th>\n",
       "      <th>Science Fiction</th>\n",
       "      <th>Soap</th>\n",
       "      <th>Talk</th>\n",
       "      <th>War</th>\n",
       "      <th>War &amp; Politics</th>\n",
       "      <th>Western</th>\n",
       "    </tr>\n",
       "  </thead>\n",
       "  <tbody>\n",
       "    <tr>\n",
       "      <th>0</th>\n",
       "      <td>736775</td>\n",
       "      <td>4</td>\n",
       "      <td>46</td>\n",
       "      <td>550</td>\n",
       "      <td>43.0</td>\n",
       "      <td>8.2</td>\n",
       "      <td>0</td>\n",
       "      <td>1</td>\n",
       "      <td>0</td>\n",
       "      <td>0</td>\n",
       "      <td>...</td>\n",
       "      <td>0</td>\n",
       "      <td>0</td>\n",
       "      <td>0</td>\n",
       "      <td>0</td>\n",
       "      <td>0</td>\n",
       "      <td>0</td>\n",
       "      <td>0</td>\n",
       "      <td>0</td>\n",
       "      <td>0</td>\n",
       "      <td>0</td>\n",
       "    </tr>\n",
       "    <tr>\n",
       "      <th>1</th>\n",
       "      <td>736635</td>\n",
       "      <td>4</td>\n",
       "      <td>71</td>\n",
       "      <td>303</td>\n",
       "      <td>42.0</td>\n",
       "      <td>7.6</td>\n",
       "      <td>0</td>\n",
       "      <td>1</td>\n",
       "      <td>0</td>\n",
       "      <td>0</td>\n",
       "      <td>...</td>\n",
       "      <td>0</td>\n",
       "      <td>0</td>\n",
       "      <td>0</td>\n",
       "      <td>0</td>\n",
       "      <td>0</td>\n",
       "      <td>0</td>\n",
       "      <td>0</td>\n",
       "      <td>0</td>\n",
       "      <td>0</td>\n",
       "      <td>0</td>\n",
       "    </tr>\n",
       "    <tr>\n",
       "      <th>2</th>\n",
       "      <td>736272</td>\n",
       "      <td>4</td>\n",
       "      <td>40</td>\n",
       "      <td>647</td>\n",
       "      <td>52.0</td>\n",
       "      <td>8.2</td>\n",
       "      <td>0</td>\n",
       "      <td>0</td>\n",
       "      <td>0</td>\n",
       "      <td>0</td>\n",
       "      <td>...</td>\n",
       "      <td>0</td>\n",
       "      <td>0</td>\n",
       "      <td>0</td>\n",
       "      <td>0</td>\n",
       "      <td>0</td>\n",
       "      <td>0</td>\n",
       "      <td>0</td>\n",
       "      <td>0</td>\n",
       "      <td>0</td>\n",
       "      <td>0</td>\n",
       "    </tr>\n",
       "    <tr>\n",
       "      <th>3</th>\n",
       "      <td>735513</td>\n",
       "      <td>7</td>\n",
       "      <td>134</td>\n",
       "      <td>6222</td>\n",
       "      <td>44.0</td>\n",
       "      <td>7.6</td>\n",
       "      <td>0</td>\n",
       "      <td>0</td>\n",
       "      <td>0</td>\n",
       "      <td>0</td>\n",
       "      <td>...</td>\n",
       "      <td>0</td>\n",
       "      <td>0</td>\n",
       "      <td>0</td>\n",
       "      <td>1</td>\n",
       "      <td>0</td>\n",
       "      <td>0</td>\n",
       "      <td>0</td>\n",
       "      <td>0</td>\n",
       "      <td>0</td>\n",
       "      <td>0</td>\n",
       "    </tr>\n",
       "    <tr>\n",
       "      <th>4</th>\n",
       "      <td>734786</td>\n",
       "      <td>9</td>\n",
       "      <td>182</td>\n",
       "      <td>965</td>\n",
       "      <td>60.0</td>\n",
       "      <td>8.3</td>\n",
       "      <td>0</td>\n",
       "      <td>0</td>\n",
       "      <td>0</td>\n",
       "      <td>0</td>\n",
       "      <td>...</td>\n",
       "      <td>0</td>\n",
       "      <td>0</td>\n",
       "      <td>0</td>\n",
       "      <td>0</td>\n",
       "      <td>0</td>\n",
       "      <td>0</td>\n",
       "      <td>0</td>\n",
       "      <td>0</td>\n",
       "      <td>0</td>\n",
       "      <td>0</td>\n",
       "    </tr>\n",
       "  </tbody>\n",
       "</table>\n",
       "<p>5 rows × 31 columns</p>\n",
       "</div>"
      ],
      "text/plain": [
       "   first_air_datetime_ordinal  number_of_seasons  number_of_episodes  \\\n",
       "0                      736775                  4                  46   \n",
       "1                      736635                  4                  71   \n",
       "2                      736272                  4                  40   \n",
       "3                      735513                  7                 134   \n",
       "4                      734786                  9                 182   \n",
       "\n",
       "   vote_count  mean_runtime  vote_average  Action  Action & Adventure  \\\n",
       "0         550          43.0           8.2       0                   1   \n",
       "1         303          42.0           7.6       0                   1   \n",
       "2         647          52.0           8.2       0                   0   \n",
       "3        6222          44.0           7.6       0                   0   \n",
       "4         965          60.0           8.3       0                   0   \n",
       "\n",
       "   Adventure  Animation  ...  News  Reality  Romance  Sci-Fi & Fantasy  \\\n",
       "0          0          0  ...     0        0        0                 0   \n",
       "1          0          0  ...     0        0        0                 0   \n",
       "2          0          0  ...     0        0        0                 0   \n",
       "3          0          0  ...     0        0        0                 1   \n",
       "4          0          0  ...     0        0        0                 0   \n",
       "\n",
       "   Science Fiction  Soap  Talk  War  War & Politics  Western  \n",
       "0                0     0     0    0               0        0  \n",
       "1                0     0     0    0               0        0  \n",
       "2                0     0     0    0               0        0  \n",
       "3                0     0     0    0               0        0  \n",
       "4                0     0     0    0               0        0  \n",
       "\n",
       "[5 rows x 31 columns]"
      ]
     },
     "execution_count": 24,
     "metadata": {},
     "output_type": "execute_result"
    }
   ],
   "source": [
    "start_df.head()"
   ]
  },
  {
   "cell_type": "code",
   "execution_count": 25,
   "metadata": {},
   "outputs": [
    {
     "data": {
      "text/plain": [
       "first_air_datetime_ordinal    0\n",
       "number_of_seasons             0\n",
       "number_of_episodes            0\n",
       "vote_count                    0\n",
       "mean_runtime                  0\n",
       "vote_average                  0\n",
       "Action                        0\n",
       "Action & Adventure            0\n",
       "Adventure                     0\n",
       "Animation                     0\n",
       "Comedy                        0\n",
       "Crime                         0\n",
       "Documentary                   0\n",
       "Drama                         0\n",
       "Family                        0\n",
       "Fantasy                       0\n",
       "History                       0\n",
       "Horror                        0\n",
       "Kids                          0\n",
       "Music                         0\n",
       "Mystery                       0\n",
       "News                          0\n",
       "Reality                       0\n",
       "Romance                       0\n",
       "Sci-Fi & Fantasy              0\n",
       "Science Fiction               0\n",
       "Soap                          0\n",
       "Talk                          0\n",
       "War                           0\n",
       "War & Politics                0\n",
       "Western                       0\n",
       "dtype: int64"
      ]
     },
     "execution_count": 25,
     "metadata": {},
     "output_type": "execute_result"
    }
   ],
   "source": [
    "start_df.isnull().sum()"
   ]
  },
  {
   "cell_type": "markdown",
   "metadata": {},
   "source": [
    "## Create a categorical column to represent overall popularity"
   ]
  },
  {
   "cell_type": "markdown",
   "metadata": {},
   "source": [
    "The final step to take is to convert our current target, vote_average, into a categorical class variable. The strategy used by the stanford students was to segment the vote_average data into multiple buckets (fair for below 8, good for 8-9, and Very popular for above 9). \n",
    "\n",
    "We will explore our data further to determine possible segmentation strategies"
   ]
  },
  {
   "cell_type": "code",
   "execution_count": 26,
   "metadata": {},
   "outputs": [],
   "source": [
    "import matplotlib.pyplot as plt"
   ]
  },
  {
   "cell_type": "code",
   "execution_count": 27,
   "metadata": {},
   "outputs": [
    {
     "data": {
      "text/plain": [
       "(array([ 21.,  11.,   7.,   7.,  25.,  63., 306., 704., 347.,  16.]),\n",
       " array([ 0.,  1.,  2.,  3.,  4.,  5.,  6.,  7.,  8.,  9., 10.]),\n",
       " <a list of 10 Patch objects>)"
      ]
     },
     "execution_count": 27,
     "metadata": {},
     "output_type": "execute_result"
    },
    {
     "data": {
      "image/png": "[encoded data removed]",
      "text/plain": [
       "<Figure size 432x288 with 1 Axes>"
      ]
     },
     "metadata": {
      "needs_background": "light"
     },
     "output_type": "display_data"
    }
   ],
   "source": [
    "# Histogram of vote_average (current target we are looking at)\n",
    "plt.hist(start_df['vote_average'])"
   ]
  },
  {
   "cell_type": "code",
   "execution_count": 28,
   "metadata": {},
   "outputs": [
    {
     "data": {
      "text/plain": [
       "count    1507.000000\n",
       "mean        7.162973\n",
       "std         1.391311\n",
       "min         0.000000\n",
       "25%         6.800000\n",
       "50%         7.400000\n",
       "75%         7.900000\n",
       "max        10.000000\n",
       "Name: vote_average, dtype: float64"
      ]
     },
     "execution_count": 28,
     "metadata": {},
     "output_type": "execute_result"
    }
   ],
   "source": [
    "start_df['vote_average'].describe()"
   ]
  },
  {
   "cell_type": "markdown",
   "metadata": {},
   "source": [
    "From the histogram above, we can see that 7-8 is a distinct category, and 7.16 is the mean of the column. \n",
    "\n",
    "We can also see that two other distinct categories exist below 7 and above 8. It seems possible to further segment the data, however the largest groupings of ratings seem to exist at the 'below 7', '7-8', and 'above 8' zones. Therefore, we will attempt to use 3 categories to segment the vote_average target.\n",
    "\n",
    "To perform this operation, I have researched existing methods to turn continuous data into categorical data: https://www.absentdata.com/pandas/pandas-cut-continuous-to-categorical/\n",
    "\n",
    "https://pandas.pydata.org/pandas-docs/stable/reference/api/pandas.cut.html"
   ]
  },
  {
   "cell_type": "code",
   "execution_count": 29,
   "metadata": {},
   "outputs": [],
   "source": [
    "rating_category = pd.cut(start_df['vote_average'], [0, 6, 8, 10], labels=['below average', 'average', 'above average'], include_lowest=True)"
   ]
  },
  {
   "cell_type": "code",
   "execution_count": 30,
   "metadata": {},
   "outputs": [],
   "source": [
    "start_df['rating_category'] = rating_category"
   ]
  },
  {
   "cell_type": "code",
   "execution_count": 31,
   "metadata": {},
   "outputs": [
    {
     "data": {
      "text/html": [
       "<div>\n",
       "<style scoped>\n",
       "    .dataframe tbody tr th:only-of-type {\n",
       "        vertical-align: middle;\n",
       "    }\n",
       "\n",
       "    .dataframe tbody tr th {\n",
       "        vertical-align: top;\n",
       "    }\n",
       "\n",
       "    .dataframe thead th {\n",
       "        text-align: right;\n",
       "    }\n",
       "</style>\n",
       "<table border=\"1\" class=\"dataframe\">\n",
       "  <thead>\n",
       "    <tr style=\"text-align: right;\">\n",
       "      <th></th>\n",
       "      <th>first_air_datetime_ordinal</th>\n",
       "      <th>number_of_seasons</th>\n",
       "      <th>number_of_episodes</th>\n",
       "      <th>vote_count</th>\n",
       "      <th>mean_runtime</th>\n",
       "      <th>vote_average</th>\n",
       "      <th>Action</th>\n",
       "      <th>Action &amp; Adventure</th>\n",
       "      <th>Adventure</th>\n",
       "      <th>Animation</th>\n",
       "      <th>...</th>\n",
       "      <th>Reality</th>\n",
       "      <th>Romance</th>\n",
       "      <th>Sci-Fi &amp; Fantasy</th>\n",
       "      <th>Science Fiction</th>\n",
       "      <th>Soap</th>\n",
       "      <th>Talk</th>\n",
       "      <th>War</th>\n",
       "      <th>War &amp; Politics</th>\n",
       "      <th>Western</th>\n",
       "      <th>rating_category</th>\n",
       "    </tr>\n",
       "  </thead>\n",
       "  <tbody>\n",
       "    <tr>\n",
       "      <th>0</th>\n",
       "      <td>736775</td>\n",
       "      <td>4</td>\n",
       "      <td>46</td>\n",
       "      <td>550</td>\n",
       "      <td>43.0</td>\n",
       "      <td>8.2</td>\n",
       "      <td>0</td>\n",
       "      <td>1</td>\n",
       "      <td>0</td>\n",
       "      <td>0</td>\n",
       "      <td>...</td>\n",
       "      <td>0</td>\n",
       "      <td>0</td>\n",
       "      <td>0</td>\n",
       "      <td>0</td>\n",
       "      <td>0</td>\n",
       "      <td>0</td>\n",
       "      <td>0</td>\n",
       "      <td>0</td>\n",
       "      <td>0</td>\n",
       "      <td>above average</td>\n",
       "    </tr>\n",
       "    <tr>\n",
       "      <th>1</th>\n",
       "      <td>736635</td>\n",
       "      <td>4</td>\n",
       "      <td>71</td>\n",
       "      <td>303</td>\n",
       "      <td>42.0</td>\n",
       "      <td>7.6</td>\n",
       "      <td>0</td>\n",
       "      <td>1</td>\n",
       "      <td>0</td>\n",
       "      <td>0</td>\n",
       "      <td>...</td>\n",
       "      <td>0</td>\n",
       "      <td>0</td>\n",
       "      <td>0</td>\n",
       "      <td>0</td>\n",
       "      <td>0</td>\n",
       "      <td>0</td>\n",
       "      <td>0</td>\n",
       "      <td>0</td>\n",
       "      <td>0</td>\n",
       "      <td>average</td>\n",
       "    </tr>\n",
       "    <tr>\n",
       "      <th>2</th>\n",
       "      <td>736272</td>\n",
       "      <td>4</td>\n",
       "      <td>40</td>\n",
       "      <td>647</td>\n",
       "      <td>52.0</td>\n",
       "      <td>8.2</td>\n",
       "      <td>0</td>\n",
       "      <td>0</td>\n",
       "      <td>0</td>\n",
       "      <td>0</td>\n",
       "      <td>...</td>\n",
       "      <td>0</td>\n",
       "      <td>0</td>\n",
       "      <td>0</td>\n",
       "      <td>0</td>\n",
       "      <td>0</td>\n",
       "      <td>0</td>\n",
       "      <td>0</td>\n",
       "      <td>0</td>\n",
       "      <td>0</td>\n",
       "      <td>above average</td>\n",
       "    </tr>\n",
       "    <tr>\n",
       "      <th>3</th>\n",
       "      <td>735513</td>\n",
       "      <td>7</td>\n",
       "      <td>134</td>\n",
       "      <td>6222</td>\n",
       "      <td>44.0</td>\n",
       "      <td>7.6</td>\n",
       "      <td>0</td>\n",
       "      <td>0</td>\n",
       "      <td>0</td>\n",
       "      <td>0</td>\n",
       "      <td>...</td>\n",
       "      <td>0</td>\n",
       "      <td>0</td>\n",
       "      <td>1</td>\n",
       "      <td>0</td>\n",
       "      <td>0</td>\n",
       "      <td>0</td>\n",
       "      <td>0</td>\n",
       "      <td>0</td>\n",
       "      <td>0</td>\n",
       "      <td>average</td>\n",
       "    </tr>\n",
       "    <tr>\n",
       "      <th>4</th>\n",
       "      <td>734786</td>\n",
       "      <td>9</td>\n",
       "      <td>182</td>\n",
       "      <td>965</td>\n",
       "      <td>60.0</td>\n",
       "      <td>8.3</td>\n",
       "      <td>0</td>\n",
       "      <td>0</td>\n",
       "      <td>0</td>\n",
       "      <td>0</td>\n",
       "      <td>...</td>\n",
       "      <td>0</td>\n",
       "      <td>0</td>\n",
       "      <td>0</td>\n",
       "      <td>0</td>\n",
       "      <td>0</td>\n",
       "      <td>0</td>\n",
       "      <td>0</td>\n",
       "      <td>0</td>\n",
       "      <td>0</td>\n",
       "      <td>above average</td>\n",
       "    </tr>\n",
       "  </tbody>\n",
       "</table>\n",
       "<p>5 rows × 32 columns</p>\n",
       "</div>"
      ],
      "text/plain": [
       "   first_air_datetime_ordinal  number_of_seasons  number_of_episodes  \\\n",
       "0                      736775                  4                  46   \n",
       "1                      736635                  4                  71   \n",
       "2                      736272                  4                  40   \n",
       "3                      735513                  7                 134   \n",
       "4                      734786                  9                 182   \n",
       "\n",
       "   vote_count  mean_runtime  vote_average  Action  Action & Adventure  \\\n",
       "0         550          43.0           8.2       0                   1   \n",
       "1         303          42.0           7.6       0                   1   \n",
       "2         647          52.0           8.2       0                   0   \n",
       "3        6222          44.0           7.6       0                   0   \n",
       "4         965          60.0           8.3       0                   0   \n",
       "\n",
       "   Adventure  Animation  ...  Reality  Romance  Sci-Fi & Fantasy  \\\n",
       "0          0          0  ...        0        0                 0   \n",
       "1          0          0  ...        0        0                 0   \n",
       "2          0          0  ...        0        0                 0   \n",
       "3          0          0  ...        0        0                 1   \n",
       "4          0          0  ...        0        0                 0   \n",
       "\n",
       "   Science Fiction  Soap  Talk  War  War & Politics  Western  rating_category  \n",
       "0                0     0     0    0               0        0    above average  \n",
       "1                0     0     0    0               0        0          average  \n",
       "2                0     0     0    0               0        0    above average  \n",
       "3                0     0     0    0               0        0          average  \n",
       "4                0     0     0    0               0        0    above average  \n",
       "\n",
       "[5 rows x 32 columns]"
      ]
     },
     "execution_count": 31,
     "metadata": {},
     "output_type": "execute_result"
    }
   ],
   "source": [
    "start_df.head()"
   ]
  },
  {
   "cell_type": "code",
   "execution_count": 32,
   "metadata": {},
   "outputs": [
    {
     "data": {
      "text/plain": [
       "count        1507\n",
       "unique          3\n",
       "top       average\n",
       "freq         1044\n",
       "Name: rating_category, dtype: object"
      ]
     },
     "execution_count": 32,
     "metadata": {},
     "output_type": "execute_result"
    }
   ],
   "source": [
    "start_df['rating_category'].describe()"
   ]
  },
  {
   "cell_type": "code",
   "execution_count": 33,
   "metadata": {},
   "outputs": [
    {
     "data": {
      "text/plain": [
       "first_air_datetime_ordinal    0\n",
       "number_of_seasons             0\n",
       "number_of_episodes            0\n",
       "vote_count                    0\n",
       "mean_runtime                  0\n",
       "vote_average                  0\n",
       "Action                        0\n",
       "Action & Adventure            0\n",
       "Adventure                     0\n",
       "Animation                     0\n",
       "Comedy                        0\n",
       "Crime                         0\n",
       "Documentary                   0\n",
       "Drama                         0\n",
       "Family                        0\n",
       "Fantasy                       0\n",
       "History                       0\n",
       "Horror                        0\n",
       "Kids                          0\n",
       "Music                         0\n",
       "Mystery                       0\n",
       "News                          0\n",
       "Reality                       0\n",
       "Romance                       0\n",
       "Sci-Fi & Fantasy              0\n",
       "Science Fiction               0\n",
       "Soap                          0\n",
       "Talk                          0\n",
       "War                           0\n",
       "War & Politics                0\n",
       "Western                       0\n",
       "rating_category               0\n",
       "dtype: int64"
      ]
     },
     "execution_count": 33,
     "metadata": {},
     "output_type": "execute_result"
    }
   ],
   "source": [
    "# check to see if this operation created any NaN/ null values\n",
    "start_df.isnull().sum()"
   ]
  },
  {
   "cell_type": "markdown",
   "metadata": {},
   "source": [
    "Before proceeding, we drop our original target column of vote_average, as we will now only be predicting rating_category"
   ]
  },
  {
   "cell_type": "code",
   "execution_count": 34,
   "metadata": {},
   "outputs": [],
   "source": [
    "start_df = start_df.drop('vote_average', axis = 1)"
   ]
  },
  {
   "cell_type": "markdown",
   "metadata": {},
   "source": [
    "Now, we are finally ready to run logistic regression!"
   ]
  },
  {
   "cell_type": "markdown",
   "metadata": {},
   "source": [
    "# Run logistic regression using these variables"
   ]
  },
  {
   "cell_type": "code",
   "execution_count": 35,
   "metadata": {},
   "outputs": [],
   "source": [
    "# note: start_df.drop will not alter start_df in place, so our original start_df is unharmed!\n",
    "# note 2: we omit vote_average from the X feature set, as it is directly related to rating_category \n",
    "# from the segmentation we did earlier\n",
    "X = start_df.drop('rating_category', axis = 1)\n",
    "Y = start_df['rating_category']"
   ]
  },
  {
   "cell_type": "code",
   "execution_count": 36,
   "metadata": {},
   "outputs": [
    {
     "data": {
      "text/html": [
       "<div>\n",
       "<style scoped>\n",
       "    .dataframe tbody tr th:only-of-type {\n",
       "        vertical-align: middle;\n",
       "    }\n",
       "\n",
       "    .dataframe tbody tr th {\n",
       "        vertical-align: top;\n",
       "    }\n",
       "\n",
       "    .dataframe thead th {\n",
       "        text-align: right;\n",
       "    }\n",
       "</style>\n",
       "<table border=\"1\" class=\"dataframe\">\n",
       "  <thead>\n",
       "    <tr style=\"text-align: right;\">\n",
       "      <th></th>\n",
       "      <th>first_air_datetime_ordinal</th>\n",
       "      <th>number_of_seasons</th>\n",
       "      <th>number_of_episodes</th>\n",
       "      <th>vote_count</th>\n",
       "      <th>mean_runtime</th>\n",
       "      <th>Action</th>\n",
       "      <th>Action &amp; Adventure</th>\n",
       "      <th>Adventure</th>\n",
       "      <th>Animation</th>\n",
       "      <th>Comedy</th>\n",
       "      <th>...</th>\n",
       "      <th>News</th>\n",
       "      <th>Reality</th>\n",
       "      <th>Romance</th>\n",
       "      <th>Sci-Fi &amp; Fantasy</th>\n",
       "      <th>Science Fiction</th>\n",
       "      <th>Soap</th>\n",
       "      <th>Talk</th>\n",
       "      <th>War</th>\n",
       "      <th>War &amp; Politics</th>\n",
       "      <th>Western</th>\n",
       "    </tr>\n",
       "  </thead>\n",
       "  <tbody>\n",
       "    <tr>\n",
       "      <th>0</th>\n",
       "      <td>736775</td>\n",
       "      <td>4</td>\n",
       "      <td>46</td>\n",
       "      <td>550</td>\n",
       "      <td>43.0</td>\n",
       "      <td>0</td>\n",
       "      <td>1</td>\n",
       "      <td>0</td>\n",
       "      <td>0</td>\n",
       "      <td>0</td>\n",
       "      <td>...</td>\n",
       "      <td>0</td>\n",
       "      <td>0</td>\n",
       "      <td>0</td>\n",
       "      <td>0</td>\n",
       "      <td>0</td>\n",
       "      <td>0</td>\n",
       "      <td>0</td>\n",
       "      <td>0</td>\n",
       "      <td>0</td>\n",
       "      <td>0</td>\n",
       "    </tr>\n",
       "    <tr>\n",
       "      <th>1</th>\n",
       "      <td>736635</td>\n",
       "      <td>4</td>\n",
       "      <td>71</td>\n",
       "      <td>303</td>\n",
       "      <td>42.0</td>\n",
       "      <td>0</td>\n",
       "      <td>1</td>\n",
       "      <td>0</td>\n",
       "      <td>0</td>\n",
       "      <td>0</td>\n",
       "      <td>...</td>\n",
       "      <td>0</td>\n",
       "      <td>0</td>\n",
       "      <td>0</td>\n",
       "      <td>0</td>\n",
       "      <td>0</td>\n",
       "      <td>0</td>\n",
       "      <td>0</td>\n",
       "      <td>0</td>\n",
       "      <td>0</td>\n",
       "      <td>0</td>\n",
       "    </tr>\n",
       "    <tr>\n",
       "      <th>2</th>\n",
       "      <td>736272</td>\n",
       "      <td>4</td>\n",
       "      <td>40</td>\n",
       "      <td>647</td>\n",
       "      <td>52.0</td>\n",
       "      <td>0</td>\n",
       "      <td>0</td>\n",
       "      <td>0</td>\n",
       "      <td>0</td>\n",
       "      <td>0</td>\n",
       "      <td>...</td>\n",
       "      <td>0</td>\n",
       "      <td>0</td>\n",
       "      <td>0</td>\n",
       "      <td>0</td>\n",
       "      <td>0</td>\n",
       "      <td>0</td>\n",
       "      <td>0</td>\n",
       "      <td>0</td>\n",
       "      <td>0</td>\n",
       "      <td>0</td>\n",
       "    </tr>\n",
       "    <tr>\n",
       "      <th>3</th>\n",
       "      <td>735513</td>\n",
       "      <td>7</td>\n",
       "      <td>134</td>\n",
       "      <td>6222</td>\n",
       "      <td>44.0</td>\n",
       "      <td>0</td>\n",
       "      <td>0</td>\n",
       "      <td>0</td>\n",
       "      <td>0</td>\n",
       "      <td>0</td>\n",
       "      <td>...</td>\n",
       "      <td>0</td>\n",
       "      <td>0</td>\n",
       "      <td>0</td>\n",
       "      <td>1</td>\n",
       "      <td>0</td>\n",
       "      <td>0</td>\n",
       "      <td>0</td>\n",
       "      <td>0</td>\n",
       "      <td>0</td>\n",
       "      <td>0</td>\n",
       "    </tr>\n",
       "    <tr>\n",
       "      <th>4</th>\n",
       "      <td>734786</td>\n",
       "      <td>9</td>\n",
       "      <td>182</td>\n",
       "      <td>965</td>\n",
       "      <td>60.0</td>\n",
       "      <td>0</td>\n",
       "      <td>0</td>\n",
       "      <td>0</td>\n",
       "      <td>0</td>\n",
       "      <td>0</td>\n",
       "      <td>...</td>\n",
       "      <td>0</td>\n",
       "      <td>0</td>\n",
       "      <td>0</td>\n",
       "      <td>0</td>\n",
       "      <td>0</td>\n",
       "      <td>0</td>\n",
       "      <td>0</td>\n",
       "      <td>0</td>\n",
       "      <td>0</td>\n",
       "      <td>0</td>\n",
       "    </tr>\n",
       "    <tr>\n",
       "      <th>...</th>\n",
       "      <td>...</td>\n",
       "      <td>...</td>\n",
       "      <td>...</td>\n",
       "      <td>...</td>\n",
       "      <td>...</td>\n",
       "      <td>...</td>\n",
       "      <td>...</td>\n",
       "      <td>...</td>\n",
       "      <td>...</td>\n",
       "      <td>...</td>\n",
       "      <td>...</td>\n",
       "      <td>...</td>\n",
       "      <td>...</td>\n",
       "      <td>...</td>\n",
       "      <td>...</td>\n",
       "      <td>...</td>\n",
       "      <td>...</td>\n",
       "      <td>...</td>\n",
       "      <td>...</td>\n",
       "      <td>...</td>\n",
       "      <td>...</td>\n",
       "    </tr>\n",
       "    <tr>\n",
       "      <th>1552</th>\n",
       "      <td>735169</td>\n",
       "      <td>5</td>\n",
       "      <td>398</td>\n",
       "      <td>2</td>\n",
       "      <td>48.0</td>\n",
       "      <td>0</td>\n",
       "      <td>0</td>\n",
       "      <td>0</td>\n",
       "      <td>0</td>\n",
       "      <td>1</td>\n",
       "      <td>...</td>\n",
       "      <td>0</td>\n",
       "      <td>0</td>\n",
       "      <td>0</td>\n",
       "      <td>0</td>\n",
       "      <td>0</td>\n",
       "      <td>0</td>\n",
       "      <td>1</td>\n",
       "      <td>0</td>\n",
       "      <td>0</td>\n",
       "      <td>0</td>\n",
       "    </tr>\n",
       "    <tr>\n",
       "      <th>1553</th>\n",
       "      <td>735697</td>\n",
       "      <td>1</td>\n",
       "      <td>24</td>\n",
       "      <td>172</td>\n",
       "      <td>24.0</td>\n",
       "      <td>0</td>\n",
       "      <td>0</td>\n",
       "      <td>0</td>\n",
       "      <td>1</td>\n",
       "      <td>1</td>\n",
       "      <td>...</td>\n",
       "      <td>0</td>\n",
       "      <td>0</td>\n",
       "      <td>0</td>\n",
       "      <td>0</td>\n",
       "      <td>0</td>\n",
       "      <td>0</td>\n",
       "      <td>0</td>\n",
       "      <td>0</td>\n",
       "      <td>0</td>\n",
       "      <td>0</td>\n",
       "    </tr>\n",
       "    <tr>\n",
       "      <th>1554</th>\n",
       "      <td>732725</td>\n",
       "      <td>9</td>\n",
       "      <td>41</td>\n",
       "      <td>49</td>\n",
       "      <td>90.0</td>\n",
       "      <td>0</td>\n",
       "      <td>0</td>\n",
       "      <td>0</td>\n",
       "      <td>0</td>\n",
       "      <td>0</td>\n",
       "      <td>...</td>\n",
       "      <td>0</td>\n",
       "      <td>0</td>\n",
       "      <td>0</td>\n",
       "      <td>0</td>\n",
       "      <td>0</td>\n",
       "      <td>0</td>\n",
       "      <td>0</td>\n",
       "      <td>0</td>\n",
       "      <td>0</td>\n",
       "      <td>0</td>\n",
       "    </tr>\n",
       "    <tr>\n",
       "      <th>1555</th>\n",
       "      <td>737118</td>\n",
       "      <td>1</td>\n",
       "      <td>8</td>\n",
       "      <td>31</td>\n",
       "      <td>45.0</td>\n",
       "      <td>0</td>\n",
       "      <td>1</td>\n",
       "      <td>0</td>\n",
       "      <td>0</td>\n",
       "      <td>0</td>\n",
       "      <td>...</td>\n",
       "      <td>0</td>\n",
       "      <td>0</td>\n",
       "      <td>0</td>\n",
       "      <td>0</td>\n",
       "      <td>0</td>\n",
       "      <td>0</td>\n",
       "      <td>0</td>\n",
       "      <td>0</td>\n",
       "      <td>0</td>\n",
       "      <td>0</td>\n",
       "    </tr>\n",
       "    <tr>\n",
       "      <th>1556</th>\n",
       "      <td>725377</td>\n",
       "      <td>7</td>\n",
       "      <td>28</td>\n",
       "      <td>64</td>\n",
       "      <td>100.0</td>\n",
       "      <td>0</td>\n",
       "      <td>0</td>\n",
       "      <td>0</td>\n",
       "      <td>0</td>\n",
       "      <td>0</td>\n",
       "      <td>...</td>\n",
       "      <td>0</td>\n",
       "      <td>0</td>\n",
       "      <td>0</td>\n",
       "      <td>0</td>\n",
       "      <td>0</td>\n",
       "      <td>0</td>\n",
       "      <td>0</td>\n",
       "      <td>0</td>\n",
       "      <td>0</td>\n",
       "      <td>0</td>\n",
       "    </tr>\n",
       "  </tbody>\n",
       "</table>\n",
       "<p>1507 rows × 30 columns</p>\n",
       "</div>"
      ],
      "text/plain": [
       "      first_air_datetime_ordinal  number_of_seasons  number_of_episodes  \\\n",
       "0                         736775                  4                  46   \n",
       "1                         736635                  4                  71   \n",
       "2                         736272                  4                  40   \n",
       "3                         735513                  7                 134   \n",
       "4                         734786                  9                 182   \n",
       "...                          ...                ...                 ...   \n",
       "1552                      735169                  5                 398   \n",
       "1553                      735697                  1                  24   \n",
       "1554                      732725                  9                  41   \n",
       "1555                      737118                  1                   8   \n",
       "1556                      725377                  7                  28   \n",
       "\n",
       "      vote_count  mean_runtime  Action  Action & Adventure  Adventure  \\\n",
       "0            550          43.0       0                   1          0   \n",
       "1            303          42.0       0                   1          0   \n",
       "2            647          52.0       0                   0          0   \n",
       "3           6222          44.0       0                   0          0   \n",
       "4            965          60.0       0                   0          0   \n",
       "...          ...           ...     ...                 ...        ...   \n",
       "1552           2          48.0       0                   0          0   \n",
       "1553         172          24.0       0                   0          0   \n",
       "1554          49          90.0       0                   0          0   \n",
       "1555          31          45.0       0                   1          0   \n",
       "1556          64         100.0       0                   0          0   \n",
       "\n",
       "      Animation  Comedy  ...  News  Reality  Romance  Sci-Fi & Fantasy  \\\n",
       "0             0       0  ...     0        0        0                 0   \n",
       "1             0       0  ...     0        0        0                 0   \n",
       "2             0       0  ...     0        0        0                 0   \n",
       "3             0       0  ...     0        0        0                 1   \n",
       "4             0       0  ...     0        0        0                 0   \n",
       "...         ...     ...  ...   ...      ...      ...               ...   \n",
       "1552          0       1  ...     0        0        0                 0   \n",
       "1553          1       1  ...     0        0        0                 0   \n",
       "1554          0       0  ...     0        0        0                 0   \n",
       "1555          0       0  ...     0        0        0                 0   \n",
       "1556          0       0  ...     0        0        0                 0   \n",
       "\n",
       "      Science Fiction  Soap  Talk  War  War & Politics  Western  \n",
       "0                   0     0     0    0               0        0  \n",
       "1                   0     0     0    0               0        0  \n",
       "2                   0     0     0    0               0        0  \n",
       "3                   0     0     0    0               0        0  \n",
       "4                   0     0     0    0               0        0  \n",
       "...               ...   ...   ...  ...             ...      ...  \n",
       "1552                0     0     1    0               0        0  \n",
       "1553                0     0     0    0               0        0  \n",
       "1554                0     0     0    0               0        0  \n",
       "1555                0     0     0    0               0        0  \n",
       "1556                0     0     0    0               0        0  \n",
       "\n",
       "[1507 rows x 30 columns]"
      ]
     },
     "execution_count": 36,
     "metadata": {},
     "output_type": "execute_result"
    }
   ],
   "source": [
    "X"
   ]
  },
  {
   "cell_type": "code",
   "execution_count": 37,
   "metadata": {},
   "outputs": [
    {
     "data": {
      "text/plain": [
       "0       above average\n",
       "1             average\n",
       "2       above average\n",
       "3             average\n",
       "4       above average\n",
       "            ...      \n",
       "1552    below average\n",
       "1553    above average\n",
       "1554          average\n",
       "1555          average\n",
       "1556          average\n",
       "Name: rating_category, Length: 1507, dtype: category\n",
       "Categories (3, object): [below average < average < above average]"
      ]
     },
     "execution_count": 37,
     "metadata": {},
     "output_type": "execute_result"
    }
   ],
   "source": [
    "Y"
   ]
  },
  {
   "cell_type": "code",
   "execution_count": 38,
   "metadata": {},
   "outputs": [
    {
     "name": "stderr",
     "output_type": "stream",
     "text": [
      "/Users/derekxu/opt/anaconda3/lib/python3.8/site-packages/sklearn/linear_model/_logistic.py:762: ConvergenceWarning: lbfgs failed to converge (status=1):\n",
      "STOP: TOTAL NO. of ITERATIONS REACHED LIMIT.\n",
      "\n",
      "Increase the number of iterations (max_iter) or scale the data as shown in:\n",
      "    https://scikit-learn.org/stable/modules/preprocessing.html\n",
      "Please also refer to the documentation for alternative solver options:\n",
      "    https://scikit-learn.org/stable/modules/linear_model.html#logistic-regression\n",
      "  n_iter_i = _check_optimize_result(\n"
     ]
    },
    {
     "data": {
      "text/plain": [
       "LogisticRegression()"
      ]
     },
     "execution_count": 38,
     "metadata": {},
     "output_type": "execute_result"
    }
   ],
   "source": [
    "# Split the data\n",
    "X_train, X_test, Y_train, Y_test = train_test_split(X,Y)\n",
    "\n",
    "# Make our logistic regression model\n",
    "start_model = LogisticRegression()\n",
    "\n",
    "# Fit the model\n",
    "start_model.fit(X_train,Y_train)"
   ]
  },
  {
   "cell_type": "code",
   "execution_count": 39,
   "metadata": {},
   "outputs": [
    {
     "data": {
      "text/plain": [
       "0.6843501326259946"
      ]
     },
     "execution_count": 39,
     "metadata": {},
     "output_type": "execute_result"
    }
   ],
   "source": [
    "# Predict the classes of the testing data set\n",
    "class_predict = start_model.predict(X_test)\n",
    "\n",
    "# Compare the predicted classes to the actual test classes\n",
    "metrics.accuracy_score(Y_test,class_predict)"
   ]
  },
  {
   "cell_type": "markdown",
   "metadata": {},
   "source": [
    "Based on this initial result, we can be sure that our naive feature set was at least somewhat correlated with predicting the target. This shows us that we can be confident in moving forward with this feature set and optimizing it as we go.\n",
    "\n",
    "In order to improve our model's predictive accuracy, we can try various strategies, such as cleaning our data further, improving prediction accuracy by adding more features to our feature set, or trying classification using different supervised learning algorithms.\n",
    "\n",
    "We will start by cleaning our data more."
   ]
  },
  {
   "cell_type": "markdown",
   "metadata": {},
   "source": [
    "## Further data cleaning"
   ]
  },
  {
   "cell_type": "markdown",
   "metadata": {},
   "source": [
    "The Stanford students cleaned their data by removing records where there were a very small number of ratings.\n",
    "\n",
    "In order to determine what the threshold of \"very small number of ratings\" is, we will again use a histogram to plot out the frequency of certain ranges of vote counts from our original df"
   ]
  },
  {
   "cell_type": "code",
   "execution_count": 40,
   "metadata": {},
   "outputs": [
    {
     "data": {
      "text/plain": [
       "(array([1.403e+03, 7.300e+01, 1.900e+01, 6.000e+00, 4.000e+00, 0.000e+00,\n",
       "        1.000e+00, 0.000e+00, 0.000e+00, 1.000e+00]),\n",
       " array([   0. ,  622.2, 1244.4, 1866.6, 2488.8, 3111. , 3733.2, 4355.4,\n",
       "        4977.6, 5599.8, 6222. ]),\n",
       " <a list of 10 Patch objects>)"
      ]
     },
     "execution_count": 40,
     "metadata": {},
     "output_type": "execute_result"
    },
    {
     "data": {
      "image/png": "[encoded data removed]",
      "text/plain": [
       "<Figure size 432x288 with 1 Axes>"
      ]
     },
     "metadata": {
      "needs_background": "light"
     },
     "output_type": "display_data"
    }
   ],
   "source": [
    "plt.hist(df['vote_count'])"
   ]
  },
  {
   "cell_type": "markdown",
   "metadata": {},
   "source": [
    "We can see from this that the majority of vote counts are between 0-622.2. 10 bins were returned in the last section, so lets try 200 bins"
   ]
  },
  {
   "cell_type": "code",
   "execution_count": 41,
   "metadata": {},
   "outputs": [
    {
     "data": {
      "text/plain": [
       "(array([409., 207., 147., 122.,  95.,  72.,  56.,  43.,  52.,  34.,  27.,\n",
       "         32.,  23.,  12.,  19.,  13.,  13.,  10.,  10.,   7.,  12.,   6.,\n",
       "          7.,   4.,   2.,   5.,   9.,   5.,   2.,   4.,   2.,   2.,   2.,\n",
       "          0.,   3.,   1.,   1.,   1.,   2.,   3.,   5.,   0.,   1.,   0.,\n",
       "          0.,   1.,   0.,   1.,   1.,   0.,   2.,   1.,   0.,   2.,   1.,\n",
       "          2.,   0.,   1.,   1.,   0.,   0.,   2.,   0.,   0.,   1.,   0.,\n",
       "          0.,   0.,   0.,   0.,   1.,   0.,   0.,   0.,   1.,   0.,   0.,\n",
       "          0.,   1.,   0.,   0.,   1.,   0.,   0.,   0.,   0.,   0.,   0.,\n",
       "          0.,   0.,   0.,   1.,   0.,   1.,   0.,   0.,   0.,   1.,   0.,\n",
       "          0.,   0.,   0.,   0.,   0.,   0.,   0.,   0.,   0.,   0.,   0.,\n",
       "          0.,   0.,   0.,   0.,   0.,   0.,   0.,   0.,   0.,   0.,   0.,\n",
       "          0.,   0.,   0.,   0.,   0.,   0.,   0.,   0.,   0.,   0.,   0.,\n",
       "          1.,   0.,   0.,   0.,   0.,   0.,   0.,   0.,   0.,   0.,   0.,\n",
       "          0.,   0.,   0.,   0.,   0.,   0.,   0.,   0.,   0.,   0.,   0.,\n",
       "          0.,   0.,   0.,   0.,   0.,   0.,   0.,   0.,   0.,   0.,   0.,\n",
       "          0.,   0.,   0.,   0.,   0.,   0.,   0.,   0.,   0.,   0.,   0.,\n",
       "          0.,   0.,   0.,   0.,   0.,   0.,   0.,   0.,   0.,   0.,   0.,\n",
       "          0.,   0.,   0.,   0.,   0.,   0.,   0.,   0.,   0.,   0.,   0.,\n",
       "          0.,   1.]),\n",
       " array([   0.  ,   31.11,   62.22,   93.33,  124.44,  155.55,  186.66,\n",
       "         217.77,  248.88,  279.99,  311.1 ,  342.21,  373.32,  404.43,\n",
       "         435.54,  466.65,  497.76,  528.87,  559.98,  591.09,  622.2 ,\n",
       "         653.31,  684.42,  715.53,  746.64,  777.75,  808.86,  839.97,\n",
       "         871.08,  902.19,  933.3 ,  964.41,  995.52, 1026.63, 1057.74,\n",
       "        1088.85, 1119.96, 1151.07, 1182.18, 1213.29, 1244.4 , 1275.51,\n",
       "        1306.62, 1337.73, 1368.84, 1399.95, 1431.06, 1462.17, 1493.28,\n",
       "        1524.39, 1555.5 , 1586.61, 1617.72, 1648.83, 1679.94, 1711.05,\n",
       "        1742.16, 1773.27, 1804.38, 1835.49, 1866.6 , 1897.71, 1928.82,\n",
       "        1959.93, 1991.04, 2022.15, 2053.26, 2084.37, 2115.48, 2146.59,\n",
       "        2177.7 , 2208.81, 2239.92, 2271.03, 2302.14, 2333.25, 2364.36,\n",
       "        2395.47, 2426.58, 2457.69, 2488.8 , 2519.91, 2551.02, 2582.13,\n",
       "        2613.24, 2644.35, 2675.46, 2706.57, 2737.68, 2768.79, 2799.9 ,\n",
       "        2831.01, 2862.12, 2893.23, 2924.34, 2955.45, 2986.56, 3017.67,\n",
       "        3048.78, 3079.89, 3111.  , 3142.11, 3173.22, 3204.33, 3235.44,\n",
       "        3266.55, 3297.66, 3328.77, 3359.88, 3390.99, 3422.1 , 3453.21,\n",
       "        3484.32, 3515.43, 3546.54, 3577.65, 3608.76, 3639.87, 3670.98,\n",
       "        3702.09, 3733.2 , 3764.31, 3795.42, 3826.53, 3857.64, 3888.75,\n",
       "        3919.86, 3950.97, 3982.08, 4013.19, 4044.3 , 4075.41, 4106.52,\n",
       "        4137.63, 4168.74, 4199.85, 4230.96, 4262.07, 4293.18, 4324.29,\n",
       "        4355.4 , 4386.51, 4417.62, 4448.73, 4479.84, 4510.95, 4542.06,\n",
       "        4573.17, 4604.28, 4635.39, 4666.5 , 4697.61, 4728.72, 4759.83,\n",
       "        4790.94, 4822.05, 4853.16, 4884.27, 4915.38, 4946.49, 4977.6 ,\n",
       "        5008.71, 5039.82, 5070.93, 5102.04, 5133.15, 5164.26, 5195.37,\n",
       "        5226.48, 5257.59, 5288.7 , 5319.81, 5350.92, 5382.03, 5413.14,\n",
       "        5444.25, 5475.36, 5506.47, 5537.58, 5568.69, 5599.8 , 5630.91,\n",
       "        5662.02, 5693.13, 5724.24, 5755.35, 5786.46, 5817.57, 5848.68,\n",
       "        5879.79, 5910.9 , 5942.01, 5973.12, 6004.23, 6035.34, 6066.45,\n",
       "        6097.56, 6128.67, 6159.78, 6190.89, 6222.  ]),\n",
       " <a list of 200 Patch objects>)"
      ]
     },
     "execution_count": 41,
     "metadata": {},
     "output_type": "execute_result"
    },
    {
     "data": {
      "image/png": "[encoded data removed]",
      "text/plain": [
       "<Figure size 432x288 with 1 Axes>"
      ]
     },
     "metadata": {
      "needs_background": "light"
     },
     "output_type": "display_data"
    }
   ],
   "source": [
    "plt.hist(df['vote_count'], bins=200)"
   ]
  },
  {
   "cell_type": "markdown",
   "metadata": {},
   "source": [
    "From this, we can still see that the overwhelming majority of votes is between 0-31.11, the first bucket out of 200. "
   ]
  },
  {
   "cell_type": "code",
   "execution_count": 42,
   "metadata": {},
   "outputs": [
    {
     "data": {
      "text/plain": [
       "(197, 33)"
      ]
     },
     "execution_count": 42,
     "metadata": {},
     "output_type": "execute_result"
    }
   ],
   "source": [
    "df.loc[(df['vote_count'] >= 0) & (df['vote_count'] <= 10)].shape"
   ]
  },
  {
   "cell_type": "code",
   "execution_count": 43,
   "metadata": {},
   "outputs": [
    {
     "data": {
      "text/plain": [
       "(123, 33)"
      ]
     },
     "execution_count": 43,
     "metadata": {},
     "output_type": "execute_result"
    }
   ],
   "source": [
    "df.loc[(df['vote_count'] >= 10) & (df['vote_count'] <= 20)].shape"
   ]
  },
  {
   "cell_type": "code",
   "execution_count": 44,
   "metadata": {},
   "outputs": [
    {
     "data": {
      "text/plain": [
       "(100, 33)"
      ]
     },
     "execution_count": 44,
     "metadata": {},
     "output_type": "execute_result"
    }
   ],
   "source": [
    "df.loc[(df['vote_count'] >= 20) & (df['vote_count'] <= 30)].shape"
   ]
  },
  {
   "cell_type": "code",
   "execution_count": 45,
   "metadata": {},
   "outputs": [
    {
     "data": {
      "text/plain": [
       "pandas.core.frame.DataFrame"
      ]
     },
     "execution_count": 45,
     "metadata": {},
     "output_type": "execute_result"
    }
   ],
   "source": [
    "type(df.loc[(df['vote_count'] >= 0) & (df['vote_count'] <= 10)])"
   ]
  },
  {
   "cell_type": "markdown",
   "metadata": {},
   "source": [
    "From this further investigation, we can see that there are 197 rows in our original dataframe whose vote_count is between 0-10. Therefore, we will drop all rows with vote_count between 0-10 and retrain our model"
   ]
  },
  {
   "cell_type": "code",
   "execution_count": 46,
   "metadata": {},
   "outputs": [],
   "source": [
    "rows_to_drop = df.loc[(df['vote_count'] >= 0) & (df['vote_count'] <= 10)].index.tolist()"
   ]
  },
  {
   "cell_type": "code",
   "execution_count": 47,
   "metadata": {},
   "outputs": [
    {
     "data": {
      "text/plain": [
       "[18,\n",
       " 47,\n",
       " 78,\n",
       " 91,\n",
       " 92,\n",
       " 93,\n",
       " 96,\n",
       " 104,\n",
       " 116,\n",
       " 159,\n",
       " 174,\n",
       " 175,\n",
       " 193,\n",
       " 205,\n",
       " 223,\n",
       " 244,\n",
       " 265,\n",
       " 284,\n",
       " 312,\n",
       " 318,\n",
       " 328,\n",
       " 330,\n",
       " 334,\n",
       " 335,\n",
       " 337,\n",
       " 373,\n",
       " 376,\n",
       " 390,\n",
       " 396,\n",
       " 404,\n",
       " 409,\n",
       " 415,\n",
       " 425,\n",
       " 436,\n",
       " 457,\n",
       " 475,\n",
       " 513,\n",
       " 514,\n",
       " 538,\n",
       " 543,\n",
       " 557,\n",
       " 560,\n",
       " 578,\n",
       " 586,\n",
       " 590,\n",
       " 597,\n",
       " 602,\n",
       " 612,\n",
       " 617,\n",
       " 620,\n",
       " 635,\n",
       " 660,\n",
       " 686,\n",
       " 691,\n",
       " 695,\n",
       " 717,\n",
       " 730,\n",
       " 733,\n",
       " 736,\n",
       " 738,\n",
       " 740,\n",
       " 751,\n",
       " 753,\n",
       " 757,\n",
       " 767,\n",
       " 778,\n",
       " 788,\n",
       " 799,\n",
       " 810,\n",
       " 814,\n",
       " 819,\n",
       " 826,\n",
       " 840,\n",
       " 843,\n",
       " 845,\n",
       " 853,\n",
       " 858,\n",
       " 860,\n",
       " 862,\n",
       " 871,\n",
       " 873,\n",
       " 877,\n",
       " 879,\n",
       " 894,\n",
       " 905,\n",
       " 921,\n",
       " 922,\n",
       " 938,\n",
       " 947,\n",
       " 948,\n",
       " 949,\n",
       " 964,\n",
       " 972,\n",
       " 977,\n",
       " 978,\n",
       " 989,\n",
       " 990,\n",
       " 996,\n",
       " 999,\n",
       " 1000,\n",
       " 1011,\n",
       " 1014,\n",
       " 1015,\n",
       " 1020,\n",
       " 1024,\n",
       " 1030,\n",
       " 1042,\n",
       " 1056,\n",
       " 1066,\n",
       " 1072,\n",
       " 1075,\n",
       " 1077,\n",
       " 1090,\n",
       " 1092,\n",
       " 1115,\n",
       " 1129,\n",
       " 1137,\n",
       " 1153,\n",
       " 1155,\n",
       " 1157,\n",
       " 1164,\n",
       " 1165,\n",
       " 1166,\n",
       " 1170,\n",
       " 1171,\n",
       " 1185,\n",
       " 1186,\n",
       " 1200,\n",
       " 1203,\n",
       " 1209,\n",
       " 1220,\n",
       " 1223,\n",
       " 1229,\n",
       " 1230,\n",
       " 1231,\n",
       " 1238,\n",
       " 1244,\n",
       " 1250,\n",
       " 1253,\n",
       " 1255,\n",
       " 1258,\n",
       " 1262,\n",
       " 1267,\n",
       " 1282,\n",
       " 1286,\n",
       " 1289,\n",
       " 1295,\n",
       " 1311,\n",
       " 1325,\n",
       " 1328,\n",
       " 1332,\n",
       " 1333,\n",
       " 1335,\n",
       " 1337,\n",
       " 1356,\n",
       " 1359,\n",
       " 1360,\n",
       " 1372,\n",
       " 1376,\n",
       " 1378,\n",
       " 1385,\n",
       " 1390,\n",
       " 1392,\n",
       " 1393,\n",
       " 1395,\n",
       " 1400,\n",
       " 1404,\n",
       " 1406,\n",
       " 1410,\n",
       " 1413,\n",
       " 1427,\n",
       " 1429,\n",
       " 1433,\n",
       " 1435,\n",
       " 1437,\n",
       " 1439,\n",
       " 1441,\n",
       " 1446,\n",
       " 1465,\n",
       " 1471,\n",
       " 1475,\n",
       " 1478,\n",
       " 1479,\n",
       " 1481,\n",
       " 1485,\n",
       " 1488,\n",
       " 1494,\n",
       " 1496,\n",
       " 1504,\n",
       " 1510,\n",
       " 1511,\n",
       " 1523,\n",
       " 1526,\n",
       " 1531,\n",
       " 1533,\n",
       " 1543,\n",
       " 1552]"
      ]
     },
     "execution_count": 47,
     "metadata": {},
     "output_type": "execute_result"
    }
   ],
   "source": [
    "rows_to_drop"
   ]
  },
  {
   "cell_type": "code",
   "execution_count": 48,
   "metadata": {},
   "outputs": [],
   "source": [
    "second_df = start_df.drop(rows_to_drop)"
   ]
  },
  {
   "cell_type": "code",
   "execution_count": 49,
   "metadata": {},
   "outputs": [
    {
     "data": {
      "text/plain": [
       "(1310, 31)"
      ]
     },
     "execution_count": 49,
     "metadata": {},
     "output_type": "execute_result"
    }
   ],
   "source": [
    "second_df.shape"
   ]
  },
  {
   "cell_type": "code",
   "execution_count": 50,
   "metadata": {},
   "outputs": [
    {
     "data": {
      "text/plain": [
       "(1507, 31)"
      ]
     },
     "execution_count": 50,
     "metadata": {},
     "output_type": "execute_result"
    }
   ],
   "source": [
    "start_df.shape"
   ]
  },
  {
   "cell_type": "code",
   "execution_count": 51,
   "metadata": {},
   "outputs": [
    {
     "name": "stdout",
     "output_type": "stream",
     "text": [
      "197\n"
     ]
    }
   ],
   "source": [
    "print(1507-1310)"
   ]
  },
  {
   "cell_type": "markdown",
   "metadata": {},
   "source": [
    "As expected, 197 rows were dropped corresponding to the rows of our original dataframe that had vote_counts between 0-10. Lets now try training our model again"
   ]
  },
  {
   "cell_type": "code",
   "execution_count": 52,
   "metadata": {},
   "outputs": [
    {
     "name": "stderr",
     "output_type": "stream",
     "text": [
      "/Users/derekxu/opt/anaconda3/lib/python3.8/site-packages/sklearn/linear_model/_logistic.py:762: ConvergenceWarning: lbfgs failed to converge (status=1):\n",
      "STOP: TOTAL NO. of ITERATIONS REACHED LIMIT.\n",
      "\n",
      "Increase the number of iterations (max_iter) or scale the data as shown in:\n",
      "    https://scikit-learn.org/stable/modules/preprocessing.html\n",
      "Please also refer to the documentation for alternative solver options:\n",
      "    https://scikit-learn.org/stable/modules/linear_model.html#logistic-regression\n",
      "  n_iter_i = _check_optimize_result(\n"
     ]
    },
    {
     "data": {
      "text/plain": [
       "0.6798780487804879"
      ]
     },
     "execution_count": 52,
     "metadata": {},
     "output_type": "execute_result"
    }
   ],
   "source": [
    "# note: start_df.drop will not alter start_df in place, so our original start_df is unharmed!\n",
    "X = second_df.drop('rating_category', axis = 1)\n",
    "Y = second_df['rating_category']\n",
    "\n",
    "# Split the data\n",
    "X_train, X_test, Y_train, Y_test = train_test_split(X,Y)\n",
    "\n",
    "# Make our logistic regression model\n",
    "second_model = LogisticRegression()\n",
    "\n",
    "# Fit the model\n",
    "second_model.fit(X_train,Y_train)\n",
    "\n",
    "# Predict the classes of the testing data set\n",
    "class_predict = second_model.predict(X_test)\n",
    "\n",
    "# Compare the predicted classes to the actual test classes\n",
    "metrics.accuracy_score(Y_test,class_predict)"
   ]
  },
  {
   "cell_type": "code",
   "execution_count": 53,
   "metadata": {},
   "outputs": [],
   "source": [
    "confusion_matrix = metrics.confusion_matrix(y_true=Y_test, y_pred=class_predict, labels=['below average', 'average', 'above average'])"
   ]
  },
  {
   "cell_type": "code",
   "execution_count": 54,
   "metadata": {},
   "outputs": [
    {
     "data": {
      "text/plain": [
       "array([[  2,  18,   0],\n",
       "       [  0, 219,   4],\n",
       "       [  0,  83,   2]])"
      ]
     },
     "execution_count": 54,
     "metadata": {},
     "output_type": "execute_result"
    }
   ],
   "source": [
    "confusion_matrix"
   ]
  },
  {
   "cell_type": "markdown",
   "metadata": {},
   "source": [
    "This bit of data cleaning granted us a 3% improvement in accuracy! \n",
    "\n",
    "We will now proceed with adding in more features to make predictions on."
   ]
  },
  {
   "cell_type": "markdown",
   "metadata": {},
   "source": [
    "## Adding to the feature set"
   ]
  },
  {
   "cell_type": "markdown",
   "metadata": {},
   "source": [
    "At this point, the Stanford researchers concluded their work. However, possibly due to a smaller dataset, or data that is less accurate due to TMDB being a smaller and less popular web resource as compared to IMDB which they used, we will have to incorporate additional features to make predictions using. "
   ]
  },
  {
   "cell_type": "markdown",
   "metadata": {},
   "source": [
    "https://www.diva-portal.org/smash/get/diva2:1106715/FULLTEXT01.pdf"
   ]
  },
  {
   "cell_type": "markdown",
   "metadata": {},
   "source": [
    "By investigating previous work done in the field of predicting the success of Movies based on features available prior to box office release, we can draw interesting conclusions.\n",
    "\n",
    "Firstly, we see that Actors, Directors, Writers, and Budgets are features that are accounted for in the above study.(https://www.diva-portal.org/smash/get/diva2:1106715/FULLTEXT01.pdf) \n",
    "\n",
    "Similar fields that are available to us from TMDB are: \n",
    "- created_by, an array of objects \n",
    "- networks, an array of objects\n",
    "- production_companies, an array of objects\n",
    "\n",
    "Also available is data under the /credits api endpoint on TMDb. However, processing this data will not be feasible because it is not structured based on popularity of the actors, and attempting to one-hot encode a list of hundreds of actors, directors, extras, etc. will not be feasible. \n",
    "\n",
    "The authors of (https://www.diva-portal.org/smash/get/diva2:1106715/FULLTEXT01.pdf) elected to use a decision tree classifier for the purposes of movie performance prediction, as opposed to the logistic regression model used in the stanford paper. We will attempt to adopt this model now.\n",
    "\n",
    "Additionally, I will drop the vote_count feature at this point in time. Many prior works including  (https://www.diva-portal.org/smash/get/diva2:1106715/FULLTEXT01.pdf) , (http://cs229.stanford.edu/proj2015/256_report.pdf) that use IMDb data incorporate the number of ratings/votes as a feature. However, for the purposes of this report, I believe that this column should be dropped entirely, since Netflix and other streaming platforms that are planning to rotate their catalogue of TV shows based on their own proprietary viewership will not be able to provide their vote_counts in a way that can correspond meaningfully with TMDb's own proprietary vote_count data. Therefore, we will proceed without using this column, and make predictions on data that is as open-source as possible.\n",
    "\n",
    "\n",
    "Prior works such including\n",
    "(https://www.tandfonline.com/doi/full/10.1080/07421222.2016.1243969?casa_token=fhRY1Aba6ywAAAAA%3A5R579Zqpd1hLiXQizWaMB2dw6Kz0l3aw3-yayDENBijySlMIBo1g19YI1HphY8QO8NneyQT8U231lg),\n",
    "(https://ieeexplore.ieee.org/abstract/document/7087152?casa_token=rAr4g9Yly0oAAAAA:wJtQVCEoCbBmbQQMSFBrW2wVH9qJNNCAHrTmSJyjQXwr2D7FG-r7sGTYoZUr76bYA0bkE7hrPQ)\n",
    "\n",
    "approach feature selection for Movie success predictions from a different perspective as well. By performing analysis of data such as the plot, wikipedia articles, tweets, etc. they are able to enhance the predictive power of their models. Applying such principles to our supervised learning process may enhance the predictive power of this model.\n",
    "\n",
    "By applying the techniques above and dropping non-independent/proprietary features (vote_count), we are able to utilize strategies used in similar predictive scenarios for movies, and make our predictions much more aligned with predicting the success of a TV show being picked up by a streaming service, which may not have ever aired, as opposed to predicting success of TV shows that have already aired like in the stanford work. \n",
    "\n",
    "Let start!"
   ]
  },
  {
   "cell_type": "markdown",
   "metadata": {},
   "source": [
    "## Drop vote_count"
   ]
  },
  {
   "cell_type": "code",
   "execution_count": 55,
   "metadata": {},
   "outputs": [
    {
     "data": {
      "text/plain": [
       "0.7713414634146342"
      ]
     },
     "execution_count": 55,
     "metadata": {},
     "output_type": "execute_result"
    }
   ],
   "source": [
    "# drop vote_count from second_df, and try logistic regression again\n",
    "third_df = second_df.drop('vote_count', axis=1)\n",
    "\n",
    "# note: start_df.drop will not alter start_df in place, so our original start_df is unharmed!\n",
    "X = third_df.drop('rating_category', axis = 1)\n",
    "Y = third_df['rating_category']\n",
    "\n",
    "# Split the data\n",
    "X_train, X_test, Y_train, Y_test = train_test_split(X,Y)\n",
    "\n",
    "# Make our logistic regression model\n",
    "third_model = LogisticRegression()\n",
    "\n",
    "# Fit the model\n",
    "third_model.fit(X_train,Y_train)\n",
    "\n",
    "# Predict the classes of the testing data set\n",
    "class_predict = third_model.predict(X_test)\n",
    "\n",
    "# Compare the predicted classes to the actual test classes\n",
    "metrics.accuracy_score(Y_test,class_predict)"
   ]
  },
  {
   "cell_type": "markdown",
   "metadata": {},
   "source": [
    "We note here that there is a minimal decrease in the accuracy, despite dropping the vote_count feature!\n",
    "\n",
    "Now, we attempt to use a decision tree classifier directly on our data"
   ]
  },
  {
   "cell_type": "markdown",
   "metadata": {},
   "source": [
    "## Use Decision Tree classifier"
   ]
  },
  {
   "cell_type": "code",
   "execution_count": 56,
   "metadata": {},
   "outputs": [],
   "source": [
    "from sklearn import tree\n",
    "from sklearn.tree import DecisionTreeClassifier, export_graphviz\n",
    "\n",
    "# we opt to use the default min_samples_split here\n",
    "classifier_model = DecisionTreeClassifier()"
   ]
  },
  {
   "cell_type": "code",
   "execution_count": 57,
   "metadata": {},
   "outputs": [
    {
     "data": {
      "text/plain": [
       "0.6737804878048781"
      ]
     },
     "execution_count": 57,
     "metadata": {},
     "output_type": "execute_result"
    }
   ],
   "source": [
    "# note: start_df.drop will not alter start_df in place, so our original start_df is unharmed!\n",
    "X = third_df.drop('rating_category', axis = 1)\n",
    "Y = third_df['rating_category']\n",
    "\n",
    "# Split the data\n",
    "X_train, X_test, Y_train, Y_test = train_test_split(X,Y)\n",
    "\n",
    "# Fit the model\n",
    "classifier_model.fit(X_train,Y_train)\n",
    "\n",
    "# Predict the classes of the testing data set\n",
    "class_predict = classifier_model.predict(X_test)\n",
    "\n",
    "# Compare the predicted classes to the actual test classes\n",
    "metrics.accuracy_score(Y_test,class_predict)"
   ]
  },
  {
   "cell_type": "markdown",
   "metadata": {},
   "source": [
    "We note a decrease in the overall prediction accuracy of the decision tree as compared to logistic regression.\n",
    "\n",
    "To fix this, we can try to tune our decision tree parameters:\n",
    "https://towardsdatascience.com/how-to-tune-a-decision-tree-f03721801680\n",
    "\n",
    "This (https://arxiv.org/abs/1812.02207) research paper indicates through empirical analysis that for the CART algorithm, which is used by the sklearn decision tree classifier (https://scikit-learn.org/stable/modules/tree.html#tree-algorithms-id3-c4-5-c5-0-and-cart), \"hyperparameters such as ‘minsplit’ and\n",
    "‘minbucket’ are the most responsible for the performance of the final trees\"\n",
    "\n",
    "Therefore, we will investigate how altering min_samples_split and min_samples_leaf, which correspond to 'minsplit' and 'minbucket' respectively, will alter the performance of our decision tree."
   ]
  },
  {
   "cell_type": "code",
   "execution_count": 58,
   "metadata": {},
   "outputs": [
    {
     "data": {
      "text/plain": [
       "0.6676829268292683"
      ]
     },
     "execution_count": 58,
     "metadata": {},
     "output_type": "execute_result"
    }
   ],
   "source": [
    "# multiply both default values by 5\n",
    "classifier_model_2 = DecisionTreeClassifier(min_samples_split=10, min_samples_leaf=5)\n",
    "\n",
    "# Fit the model\n",
    "classifier_model.fit(X_train,Y_train)\n",
    "\n",
    "# Predict the classes of the testing data set\n",
    "class_predict = classifier_model.predict(X_test)\n",
    "\n",
    "# Compare the predicted classes to the actual test classes\n",
    "metrics.accuracy_score(Y_test,class_predict)"
   ]
  },
  {
   "cell_type": "code",
   "execution_count": 59,
   "metadata": {},
   "outputs": [
    {
     "data": {
      "text/plain": [
       "0.6707317073170732"
      ]
     },
     "execution_count": 59,
     "metadata": {},
     "output_type": "execute_result"
    }
   ],
   "source": [
    "# randomized trial\n",
    "classifier_model_3 = DecisionTreeClassifier(min_samples_split=9, min_samples_leaf=3)\n",
    "\n",
    "# Fit the model\n",
    "classifier_model.fit(X_train,Y_train)\n",
    "\n",
    "# Predict the classes of the testing data set\n",
    "class_predict = classifier_model.predict(X_test)\n",
    "\n",
    "# Compare the predicted classes to the actual test classes\n",
    "metrics.accuracy_score(Y_test,class_predict)"
   ]
  },
  {
   "cell_type": "markdown",
   "metadata": {},
   "source": [
    "After a few attempts, it seems that performance enhancements by altering these hyperparameters are largely random and redundant. We avoid extremely large values, as they were reported to have very poor performance in the paper  (https://arxiv.org/abs/1812.02207) on page 16."
   ]
  },
  {
   "cell_type": "markdown",
   "metadata": {},
   "source": [
    "## Adding to our feature set"
   ]
  },
  {
   "cell_type": "markdown",
   "metadata": {},
   "source": [
    "The intution for adding this column is that we need some way of measuring the success of a TV show based on the actual people involved with the show. Since the TMDB dataset lacks a \"directors\" or \"star actors\" feature, I believe that the \"created_by\" feature best approximates the features used in the previous works such as (https://www.diva-portal.org/smash/get/diva2:1106715/FULLTEXT01.pdf). \n",
    "\n",
    "Production companies is another possibility, however intuitively, there are very few large production companies, but all TV shows must be produced by them, or independently. There exist large production companies that have produced hit TV shows, and also much less popular tv shows. Creators on the other hand have a much closer artistic relationship with the TV shows that they create, possibly implying a stronger relationship that could be capitalized on by our supervised learning algorithms. "
   ]
  },
  {
   "cell_type": "code",
   "execution_count": 60,
   "metadata": {},
   "outputs": [
    {
     "data": {
      "text/plain": [
       "count     1507\n",
       "unique    1203\n",
       "top         []\n",
       "freq       305\n",
       "Name: created_by, dtype: object"
      ]
     },
     "execution_count": 60,
     "metadata": {},
     "output_type": "execute_result"
    }
   ],
   "source": [
    "df['created_by'].describe()"
   ]
  },
  {
   "cell_type": "code",
   "execution_count": 61,
   "metadata": {},
   "outputs": [
    {
     "data": {
      "text/plain": [
       "count     1507\n",
       "unique     983\n",
       "top         []\n",
       "freq       323\n",
       "Name: production_companies, dtype: object"
      ]
     },
     "execution_count": 61,
     "metadata": {},
     "output_type": "execute_result"
    }
   ],
   "source": [
    "df['production_companies'].describe()"
   ]
  },
  {
   "cell_type": "markdown",
   "metadata": {},
   "source": [
    "After this investigation, neither the created_by, nor production_companies features are good candidates for adding into our feature set. Both contain a very large amount of unique values, and the most frequently repeating value for both is an empty array. One-hot encoding such data would result in 1000+ columns. Therefore, we abandon this approach"
   ]
  },
  {
   "cell_type": "markdown",
   "metadata": {},
   "source": [
    "## Add overview to feature set, TF-IDF analysis"
   ]
  },
  {
   "cell_type": "markdown",
   "metadata": {},
   "source": [
    "Previous research papers (https://www.tandfonline.com/doi/full/10.1080/07421222.2016.1243969?casa_token=fhRY1Aba6ywAAAAA%3A5R579Zqpd1hLiXQizWaMB2dw6Kz0l3aw3-yayDENBijySlMIBo1g19YI1HphY8QO8NneyQT8U231lg) have discussed the efficacy of studying plot synopses of movies in predicting their performance prior to release. We will attempt to replicate this using the 'overview' feature of our original df"
   ]
  },
  {
   "cell_type": "code",
   "execution_count": 62,
   "metadata": {},
   "outputs": [
    {
     "data": {
      "text/plain": [
       "count                                                  1470\n",
       "unique                                                 1470\n",
       "top       Camelot is a historical-fantasy-drama televisi...\n",
       "freq                                                      1\n",
       "Name: overview, dtype: object"
      ]
     },
     "execution_count": 62,
     "metadata": {},
     "output_type": "execute_result"
    }
   ],
   "source": [
    "df['overview'].describe()"
   ]
  },
  {
   "cell_type": "code",
   "execution_count": 63,
   "metadata": {},
   "outputs": [
    {
     "data": {
      "text/plain": [
       "37"
      ]
     },
     "execution_count": 63,
     "metadata": {},
     "output_type": "execute_result"
    }
   ],
   "source": [
    "df['overview'].isnull().sum()"
   ]
  },
  {
   "cell_type": "markdown",
   "metadata": {},
   "source": [
    "From this exploration, we see that there are only 37 rows that contain null values in the overview section. This tells me that this column is a good candidate to add to our feature set!\n",
    "\n",
    "In order to make these overviews useful in the context of classification, we will convert the entire overview column into TF-IDF format.\n",
    "\n",
    "https://scikit-learn.org/stable/modules/feature_extraction.html#text-feature-extraction"
   ]
  },
  {
   "cell_type": "markdown",
   "metadata": {},
   "source": [
    "### prep overview data to be merged into third_df"
   ]
  },
  {
   "cell_type": "code",
   "execution_count": 64,
   "metadata": {},
   "outputs": [],
   "source": [
    "# get overview column and drop null values\n",
    "overview_col = df['overview'].dropna()"
   ]
  },
  {
   "cell_type": "code",
   "execution_count": 65,
   "metadata": {},
   "outputs": [
    {
     "data": {
      "text/plain": [
       "(1470,)"
      ]
     },
     "execution_count": 65,
     "metadata": {},
     "output_type": "execute_result"
    }
   ],
   "source": [
    "# check to make sure 1470 rows still present after dropping null values\n",
    "overview_col.shape"
   ]
  },
  {
   "cell_type": "code",
   "execution_count": 66,
   "metadata": {},
   "outputs": [],
   "source": [
    "# merge first with third_df to preserve indexes \n",
    "third_df = third_df.join(overview_col, how='inner')"
   ]
  },
  {
   "cell_type": "code",
   "execution_count": 67,
   "metadata": {},
   "outputs": [
    {
     "data": {
      "text/plain": [
       "(1301, 31)"
      ]
     },
     "execution_count": 67,
     "metadata": {},
     "output_type": "execute_result"
    }
   ],
   "source": [
    "third_df.shape"
   ]
  },
  {
   "cell_type": "markdown",
   "metadata": {},
   "source": [
    "Following this, we can turn our overview column into tfidf format"
   ]
  },
  {
   "cell_type": "code",
   "execution_count": 68,
   "metadata": {},
   "outputs": [],
   "source": [
    "from sklearn.feature_extraction.text import TfidfVectorizer\n",
    "vectorizer = TfidfVectorizer()\n",
    "overview_col = third_df['overview'].copy()\n",
    "overview_tfidf = vectorizer.fit_transform(overview_col.values.astype('U'))"
   ]
  },
  {
   "cell_type": "code",
   "execution_count": 69,
   "metadata": {},
   "outputs": [
    {
     "data": {
      "text/plain": [
       "1301"
      ]
     },
     "execution_count": 69,
     "metadata": {},
     "output_type": "execute_result"
    }
   ],
   "source": [
    "overview_tfidf.shape[0]"
   ]
  },
  {
   "cell_type": "code",
   "execution_count": 70,
   "metadata": {},
   "outputs": [
    {
     "data": {
      "text/html": [
       "<div>\n",
       "<style scoped>\n",
       "    .dataframe tbody tr th:only-of-type {\n",
       "        vertical-align: middle;\n",
       "    }\n",
       "\n",
       "    .dataframe tbody tr th {\n",
       "        vertical-align: top;\n",
       "    }\n",
       "\n",
       "    .dataframe thead th {\n",
       "        text-align: right;\n",
       "    }\n",
       "</style>\n",
       "<table border=\"1\" class=\"dataframe\">\n",
       "  <thead>\n",
       "    <tr style=\"text-align: right;\">\n",
       "      <th></th>\n",
       "      <th>first_air_datetime_ordinal</th>\n",
       "      <th>number_of_seasons</th>\n",
       "      <th>number_of_episodes</th>\n",
       "      <th>mean_runtime</th>\n",
       "      <th>Action</th>\n",
       "      <th>Action &amp; Adventure</th>\n",
       "      <th>Adventure</th>\n",
       "      <th>Animation</th>\n",
       "      <th>Comedy</th>\n",
       "      <th>Crime</th>\n",
       "      <th>...</th>\n",
       "      <th>Romance</th>\n",
       "      <th>Sci-Fi &amp; Fantasy</th>\n",
       "      <th>Science Fiction</th>\n",
       "      <th>Soap</th>\n",
       "      <th>Talk</th>\n",
       "      <th>War</th>\n",
       "      <th>War &amp; Politics</th>\n",
       "      <th>Western</th>\n",
       "      <th>rating_category</th>\n",
       "      <th>overview</th>\n",
       "    </tr>\n",
       "  </thead>\n",
       "  <tbody>\n",
       "    <tr>\n",
       "      <th>0</th>\n",
       "      <td>736775</td>\n",
       "      <td>4</td>\n",
       "      <td>46</td>\n",
       "      <td>43.0</td>\n",
       "      <td>0</td>\n",
       "      <td>1</td>\n",
       "      <td>0</td>\n",
       "      <td>0</td>\n",
       "      <td>0</td>\n",
       "      <td>0</td>\n",
       "      <td>...</td>\n",
       "      <td>0</td>\n",
       "      <td>0</td>\n",
       "      <td>0</td>\n",
       "      <td>0</td>\n",
       "      <td>0</td>\n",
       "      <td>0</td>\n",
       "      <td>0</td>\n",
       "      <td>0</td>\n",
       "      <td>above average</td>\n",
       "      <td>A group of heroic firefighters at Seattle Fire...</td>\n",
       "    </tr>\n",
       "    <tr>\n",
       "      <th>1</th>\n",
       "      <td>736635</td>\n",
       "      <td>4</td>\n",
       "      <td>71</td>\n",
       "      <td>42.0</td>\n",
       "      <td>0</td>\n",
       "      <td>1</td>\n",
       "      <td>0</td>\n",
       "      <td>0</td>\n",
       "      <td>0</td>\n",
       "      <td>1</td>\n",
       "      <td>...</td>\n",
       "      <td>0</td>\n",
       "      <td>0</td>\n",
       "      <td>0</td>\n",
       "      <td>0</td>\n",
       "      <td>0</td>\n",
       "      <td>0</td>\n",
       "      <td>0</td>\n",
       "      <td>0</td>\n",
       "      <td>average</td>\n",
       "      <td>A locally born and bred S.W.A.T. lieutenant is...</td>\n",
       "    </tr>\n",
       "    <tr>\n",
       "      <th>2</th>\n",
       "      <td>736272</td>\n",
       "      <td>4</td>\n",
       "      <td>40</td>\n",
       "      <td>52.0</td>\n",
       "      <td>0</td>\n",
       "      <td>0</td>\n",
       "      <td>0</td>\n",
       "      <td>0</td>\n",
       "      <td>0</td>\n",
       "      <td>0</td>\n",
       "      <td>...</td>\n",
       "      <td>0</td>\n",
       "      <td>0</td>\n",
       "      <td>0</td>\n",
       "      <td>0</td>\n",
       "      <td>0</td>\n",
       "      <td>0</td>\n",
       "      <td>0</td>\n",
       "      <td>0</td>\n",
       "      <td>above average</td>\n",
       "      <td>The gripping, decades-spanning inside story of...</td>\n",
       "    </tr>\n",
       "    <tr>\n",
       "      <th>3</th>\n",
       "      <td>735513</td>\n",
       "      <td>7</td>\n",
       "      <td>134</td>\n",
       "      <td>44.0</td>\n",
       "      <td>0</td>\n",
       "      <td>0</td>\n",
       "      <td>0</td>\n",
       "      <td>0</td>\n",
       "      <td>0</td>\n",
       "      <td>0</td>\n",
       "      <td>...</td>\n",
       "      <td>0</td>\n",
       "      <td>1</td>\n",
       "      <td>0</td>\n",
       "      <td>0</td>\n",
       "      <td>0</td>\n",
       "      <td>0</td>\n",
       "      <td>0</td>\n",
       "      <td>0</td>\n",
       "      <td>average</td>\n",
       "      <td>After a particle accelerator causes a freak st...</td>\n",
       "    </tr>\n",
       "    <tr>\n",
       "      <th>4</th>\n",
       "      <td>734786</td>\n",
       "      <td>9</td>\n",
       "      <td>182</td>\n",
       "      <td>60.0</td>\n",
       "      <td>0</td>\n",
       "      <td>0</td>\n",
       "      <td>0</td>\n",
       "      <td>0</td>\n",
       "      <td>0</td>\n",
       "      <td>0</td>\n",
       "      <td>...</td>\n",
       "      <td>0</td>\n",
       "      <td>0</td>\n",
       "      <td>0</td>\n",
       "      <td>0</td>\n",
       "      <td>0</td>\n",
       "      <td>0</td>\n",
       "      <td>0</td>\n",
       "      <td>0</td>\n",
       "      <td>above average</td>\n",
       "      <td>An edge-of-your-seat view into the lives of ev...</td>\n",
       "    </tr>\n",
       "    <tr>\n",
       "      <th>...</th>\n",
       "      <td>...</td>\n",
       "      <td>...</td>\n",
       "      <td>...</td>\n",
       "      <td>...</td>\n",
       "      <td>...</td>\n",
       "      <td>...</td>\n",
       "      <td>...</td>\n",
       "      <td>...</td>\n",
       "      <td>...</td>\n",
       "      <td>...</td>\n",
       "      <td>...</td>\n",
       "      <td>...</td>\n",
       "      <td>...</td>\n",
       "      <td>...</td>\n",
       "      <td>...</td>\n",
       "      <td>...</td>\n",
       "      <td>...</td>\n",
       "      <td>...</td>\n",
       "      <td>...</td>\n",
       "      <td>...</td>\n",
       "      <td>...</td>\n",
       "    </tr>\n",
       "    <tr>\n",
       "      <th>1296</th>\n",
       "      <td>732373</td>\n",
       "      <td>4</td>\n",
       "      <td>109</td>\n",
       "      <td>26.0</td>\n",
       "      <td>0</td>\n",
       "      <td>0</td>\n",
       "      <td>0</td>\n",
       "      <td>1</td>\n",
       "      <td>0</td>\n",
       "      <td>0</td>\n",
       "      <td>...</td>\n",
       "      <td>0</td>\n",
       "      <td>0</td>\n",
       "      <td>0</td>\n",
       "      <td>0</td>\n",
       "      <td>0</td>\n",
       "      <td>0</td>\n",
       "      <td>0</td>\n",
       "      <td>0</td>\n",
       "      <td>average</td>\n",
       "      <td>Wonder Pets! is an American animated children'...</td>\n",
       "    </tr>\n",
       "    <tr>\n",
       "      <th>1297</th>\n",
       "      <td>735697</td>\n",
       "      <td>1</td>\n",
       "      <td>24</td>\n",
       "      <td>24.0</td>\n",
       "      <td>0</td>\n",
       "      <td>0</td>\n",
       "      <td>0</td>\n",
       "      <td>1</td>\n",
       "      <td>1</td>\n",
       "      <td>0</td>\n",
       "      <td>...</td>\n",
       "      <td>0</td>\n",
       "      <td>0</td>\n",
       "      <td>0</td>\n",
       "      <td>0</td>\n",
       "      <td>0</td>\n",
       "      <td>0</td>\n",
       "      <td>0</td>\n",
       "      <td>0</td>\n",
       "      <td>above average</td>\n",
       "      <td>Takeo Godau is a giant guy with a giant heart....</td>\n",
       "    </tr>\n",
       "    <tr>\n",
       "      <th>1298</th>\n",
       "      <td>732725</td>\n",
       "      <td>9</td>\n",
       "      <td>41</td>\n",
       "      <td>90.0</td>\n",
       "      <td>0</td>\n",
       "      <td>0</td>\n",
       "      <td>0</td>\n",
       "      <td>0</td>\n",
       "      <td>0</td>\n",
       "      <td>1</td>\n",
       "      <td>...</td>\n",
       "      <td>0</td>\n",
       "      <td>0</td>\n",
       "      <td>0</td>\n",
       "      <td>0</td>\n",
       "      <td>0</td>\n",
       "      <td>0</td>\n",
       "      <td>0</td>\n",
       "      <td>0</td>\n",
       "      <td>average</td>\n",
       "      <td>Inspector Robert Lewis and Sergeant James Hath...</td>\n",
       "    </tr>\n",
       "    <tr>\n",
       "      <th>1299</th>\n",
       "      <td>737118</td>\n",
       "      <td>1</td>\n",
       "      <td>8</td>\n",
       "      <td>45.0</td>\n",
       "      <td>0</td>\n",
       "      <td>1</td>\n",
       "      <td>0</td>\n",
       "      <td>0</td>\n",
       "      <td>0</td>\n",
       "      <td>0</td>\n",
       "      <td>...</td>\n",
       "      <td>0</td>\n",
       "      <td>0</td>\n",
       "      <td>0</td>\n",
       "      <td>0</td>\n",
       "      <td>0</td>\n",
       "      <td>0</td>\n",
       "      <td>0</td>\n",
       "      <td>0</td>\n",
       "      <td>average</td>\n",
       "      <td>A woman's search to uncover the mystery of the...</td>\n",
       "    </tr>\n",
       "    <tr>\n",
       "      <th>1300</th>\n",
       "      <td>725377</td>\n",
       "      <td>7</td>\n",
       "      <td>28</td>\n",
       "      <td>100.0</td>\n",
       "      <td>0</td>\n",
       "      <td>0</td>\n",
       "      <td>0</td>\n",
       "      <td>0</td>\n",
       "      <td>0</td>\n",
       "      <td>1</td>\n",
       "      <td>...</td>\n",
       "      <td>0</td>\n",
       "      <td>0</td>\n",
       "      <td>0</td>\n",
       "      <td>0</td>\n",
       "      <td>0</td>\n",
       "      <td>0</td>\n",
       "      <td>0</td>\n",
       "      <td>0</td>\n",
       "      <td>average</td>\n",
       "      <td>Inspector Morse is a detective drama based on ...</td>\n",
       "    </tr>\n",
       "  </tbody>\n",
       "</table>\n",
       "<p>1301 rows × 31 columns</p>\n",
       "</div>"
      ],
      "text/plain": [
       "      first_air_datetime_ordinal  number_of_seasons  number_of_episodes  \\\n",
       "0                         736775                  4                  46   \n",
       "1                         736635                  4                  71   \n",
       "2                         736272                  4                  40   \n",
       "3                         735513                  7                 134   \n",
       "4                         734786                  9                 182   \n",
       "...                          ...                ...                 ...   \n",
       "1296                      732373                  4                 109   \n",
       "1297                      735697                  1                  24   \n",
       "1298                      732725                  9                  41   \n",
       "1299                      737118                  1                   8   \n",
       "1300                      725377                  7                  28   \n",
       "\n",
       "      mean_runtime  Action  Action & Adventure  Adventure  Animation  Comedy  \\\n",
       "0             43.0       0                   1          0          0       0   \n",
       "1             42.0       0                   1          0          0       0   \n",
       "2             52.0       0                   0          0          0       0   \n",
       "3             44.0       0                   0          0          0       0   \n",
       "4             60.0       0                   0          0          0       0   \n",
       "...            ...     ...                 ...        ...        ...     ...   \n",
       "1296          26.0       0                   0          0          1       0   \n",
       "1297          24.0       0                   0          0          1       1   \n",
       "1298          90.0       0                   0          0          0       0   \n",
       "1299          45.0       0                   1          0          0       0   \n",
       "1300         100.0       0                   0          0          0       0   \n",
       "\n",
       "      Crime  ...  Romance  Sci-Fi & Fantasy  Science Fiction  Soap  Talk  War  \\\n",
       "0         0  ...        0                 0                0     0     0    0   \n",
       "1         1  ...        0                 0                0     0     0    0   \n",
       "2         0  ...        0                 0                0     0     0    0   \n",
       "3         0  ...        0                 1                0     0     0    0   \n",
       "4         0  ...        0                 0                0     0     0    0   \n",
       "...     ...  ...      ...               ...              ...   ...   ...  ...   \n",
       "1296      0  ...        0                 0                0     0     0    0   \n",
       "1297      0  ...        0                 0                0     0     0    0   \n",
       "1298      1  ...        0                 0                0     0     0    0   \n",
       "1299      0  ...        0                 0                0     0     0    0   \n",
       "1300      1  ...        0                 0                0     0     0    0   \n",
       "\n",
       "      War & Politics  Western  rating_category  \\\n",
       "0                  0        0    above average   \n",
       "1                  0        0          average   \n",
       "2                  0        0    above average   \n",
       "3                  0        0          average   \n",
       "4                  0        0    above average   \n",
       "...              ...      ...              ...   \n",
       "1296               0        0          average   \n",
       "1297               0        0    above average   \n",
       "1298               0        0          average   \n",
       "1299               0        0          average   \n",
       "1300               0        0          average   \n",
       "\n",
       "                                               overview  \n",
       "0     A group of heroic firefighters at Seattle Fire...  \n",
       "1     A locally born and bred S.W.A.T. lieutenant is...  \n",
       "2     The gripping, decades-spanning inside story of...  \n",
       "3     After a particle accelerator causes a freak st...  \n",
       "4     An edge-of-your-seat view into the lives of ev...  \n",
       "...                                                 ...  \n",
       "1296  Wonder Pets! is an American animated children'...  \n",
       "1297  Takeo Godau is a giant guy with a giant heart....  \n",
       "1298  Inspector Robert Lewis and Sergeant James Hath...  \n",
       "1299  A woman's search to uncover the mystery of the...  \n",
       "1300  Inspector Morse is a detective drama based on ...  \n",
       "\n",
       "[1301 rows x 31 columns]"
      ]
     },
     "execution_count": 70,
     "metadata": {},
     "output_type": "execute_result"
    }
   ],
   "source": [
    "# reset index to avoid concatenation errors after generating a new df using the tfidf vectorizer\n",
    "third_df.reset_index(drop=True)"
   ]
  },
  {
   "cell_type": "code",
   "execution_count": 71,
   "metadata": {},
   "outputs": [],
   "source": [
    "# create fourth_df out of new overview_tfidf columns\n",
    "overview_tfidf_df = pd.DataFrame(overview_tfidf.toarray(), columns=vectorizer.get_feature_names())\n",
    "fourth_df = third_df.join(overview_tfidf_df)"
   ]
  },
  {
   "cell_type": "code",
   "execution_count": 72,
   "metadata": {},
   "outputs": [
    {
     "data": {
      "text/plain": [
       "Index(['first_air_datetime_ordinal', 'number_of_seasons', 'number_of_episodes',\n",
       "       'mean_runtime', 'Action', 'Action & Adventure', 'Adventure',\n",
       "       'Animation', 'Comedy', 'Crime',\n",
       "       ...\n",
       "       'zuo', 'zuri', 'zwick', 'álex', 'álvarez', 'ángel', 'écija', 'ömer',\n",
       "       'über', 'とらぶる'],\n",
       "      dtype='object', length=11660)"
      ]
     },
     "execution_count": 72,
     "metadata": {},
     "output_type": "execute_result"
    }
   ],
   "source": [
    "fourth_df.columns"
   ]
  },
  {
   "cell_type": "code",
   "execution_count": 73,
   "metadata": {},
   "outputs": [
    {
     "data": {
      "text/plain": [
       "(1301, 11660)"
      ]
     },
     "execution_count": 73,
     "metadata": {},
     "output_type": "execute_result"
    }
   ],
   "source": [
    "fourth_df.shape"
   ]
  },
  {
   "cell_type": "code",
   "execution_count": 74,
   "metadata": {},
   "outputs": [],
   "source": [
    "# drop the overview strings column\n",
    "fourth_df = fourth_df.drop('overview', axis=1)"
   ]
  },
  {
   "cell_type": "code",
   "execution_count": 75,
   "metadata": {},
   "outputs": [
    {
     "data": {
      "text/plain": [
       "(1301, 11659)"
      ]
     },
     "execution_count": 75,
     "metadata": {},
     "output_type": "execute_result"
    }
   ],
   "source": [
    "fourth_df.shape"
   ]
  },
  {
   "cell_type": "code",
   "execution_count": 76,
   "metadata": {},
   "outputs": [
    {
     "data": {
      "text/html": [
       "<div>\n",
       "<style scoped>\n",
       "    .dataframe tbody tr th:only-of-type {\n",
       "        vertical-align: middle;\n",
       "    }\n",
       "\n",
       "    .dataframe tbody tr th {\n",
       "        vertical-align: top;\n",
       "    }\n",
       "\n",
       "    .dataframe thead th {\n",
       "        text-align: right;\n",
       "    }\n",
       "</style>\n",
       "<table border=\"1\" class=\"dataframe\">\n",
       "  <thead>\n",
       "    <tr style=\"text-align: right;\">\n",
       "      <th></th>\n",
       "      <th>first_air_datetime_ordinal</th>\n",
       "      <th>number_of_seasons</th>\n",
       "      <th>number_of_episodes</th>\n",
       "      <th>mean_runtime</th>\n",
       "      <th>Action</th>\n",
       "      <th>Action &amp; Adventure</th>\n",
       "      <th>Adventure</th>\n",
       "      <th>Animation</th>\n",
       "      <th>Comedy</th>\n",
       "      <th>Crime</th>\n",
       "      <th>...</th>\n",
       "      <th>zuo</th>\n",
       "      <th>zuri</th>\n",
       "      <th>zwick</th>\n",
       "      <th>álex</th>\n",
       "      <th>álvarez</th>\n",
       "      <th>ángel</th>\n",
       "      <th>écija</th>\n",
       "      <th>ömer</th>\n",
       "      <th>über</th>\n",
       "      <th>とらぶる</th>\n",
       "    </tr>\n",
       "  </thead>\n",
       "  <tbody>\n",
       "    <tr>\n",
       "      <th>0</th>\n",
       "      <td>736775</td>\n",
       "      <td>4</td>\n",
       "      <td>46</td>\n",
       "      <td>43.0</td>\n",
       "      <td>0</td>\n",
       "      <td>1</td>\n",
       "      <td>0</td>\n",
       "      <td>0</td>\n",
       "      <td>0</td>\n",
       "      <td>0</td>\n",
       "      <td>...</td>\n",
       "      <td>0.0</td>\n",
       "      <td>0.0</td>\n",
       "      <td>0.0</td>\n",
       "      <td>0.0</td>\n",
       "      <td>0.0</td>\n",
       "      <td>0.0</td>\n",
       "      <td>0.0</td>\n",
       "      <td>0.0</td>\n",
       "      <td>0.0</td>\n",
       "      <td>0.0</td>\n",
       "    </tr>\n",
       "    <tr>\n",
       "      <th>1</th>\n",
       "      <td>736635</td>\n",
       "      <td>4</td>\n",
       "      <td>71</td>\n",
       "      <td>42.0</td>\n",
       "      <td>0</td>\n",
       "      <td>1</td>\n",
       "      <td>0</td>\n",
       "      <td>0</td>\n",
       "      <td>0</td>\n",
       "      <td>1</td>\n",
       "      <td>...</td>\n",
       "      <td>0.0</td>\n",
       "      <td>0.0</td>\n",
       "      <td>0.0</td>\n",
       "      <td>0.0</td>\n",
       "      <td>0.0</td>\n",
       "      <td>0.0</td>\n",
       "      <td>0.0</td>\n",
       "      <td>0.0</td>\n",
       "      <td>0.0</td>\n",
       "      <td>0.0</td>\n",
       "    </tr>\n",
       "    <tr>\n",
       "      <th>2</th>\n",
       "      <td>736272</td>\n",
       "      <td>4</td>\n",
       "      <td>40</td>\n",
       "      <td>52.0</td>\n",
       "      <td>0</td>\n",
       "      <td>0</td>\n",
       "      <td>0</td>\n",
       "      <td>0</td>\n",
       "      <td>0</td>\n",
       "      <td>0</td>\n",
       "      <td>...</td>\n",
       "      <td>0.0</td>\n",
       "      <td>0.0</td>\n",
       "      <td>0.0</td>\n",
       "      <td>0.0</td>\n",
       "      <td>0.0</td>\n",
       "      <td>0.0</td>\n",
       "      <td>0.0</td>\n",
       "      <td>0.0</td>\n",
       "      <td>0.0</td>\n",
       "      <td>0.0</td>\n",
       "    </tr>\n",
       "    <tr>\n",
       "      <th>3</th>\n",
       "      <td>735513</td>\n",
       "      <td>7</td>\n",
       "      <td>134</td>\n",
       "      <td>44.0</td>\n",
       "      <td>0</td>\n",
       "      <td>0</td>\n",
       "      <td>0</td>\n",
       "      <td>0</td>\n",
       "      <td>0</td>\n",
       "      <td>0</td>\n",
       "      <td>...</td>\n",
       "      <td>0.0</td>\n",
       "      <td>0.0</td>\n",
       "      <td>0.0</td>\n",
       "      <td>0.0</td>\n",
       "      <td>0.0</td>\n",
       "      <td>0.0</td>\n",
       "      <td>0.0</td>\n",
       "      <td>0.0</td>\n",
       "      <td>0.0</td>\n",
       "      <td>0.0</td>\n",
       "    </tr>\n",
       "    <tr>\n",
       "      <th>4</th>\n",
       "      <td>734786</td>\n",
       "      <td>9</td>\n",
       "      <td>182</td>\n",
       "      <td>60.0</td>\n",
       "      <td>0</td>\n",
       "      <td>0</td>\n",
       "      <td>0</td>\n",
       "      <td>0</td>\n",
       "      <td>0</td>\n",
       "      <td>0</td>\n",
       "      <td>...</td>\n",
       "      <td>0.0</td>\n",
       "      <td>0.0</td>\n",
       "      <td>0.0</td>\n",
       "      <td>0.0</td>\n",
       "      <td>0.0</td>\n",
       "      <td>0.0</td>\n",
       "      <td>0.0</td>\n",
       "      <td>0.0</td>\n",
       "      <td>0.0</td>\n",
       "      <td>0.0</td>\n",
       "    </tr>\n",
       "  </tbody>\n",
       "</table>\n",
       "<p>5 rows × 11659 columns</p>\n",
       "</div>"
      ],
      "text/plain": [
       "   first_air_datetime_ordinal  number_of_seasons  number_of_episodes  \\\n",
       "0                      736775                  4                  46   \n",
       "1                      736635                  4                  71   \n",
       "2                      736272                  4                  40   \n",
       "3                      735513                  7                 134   \n",
       "4                      734786                  9                 182   \n",
       "\n",
       "   mean_runtime  Action  Action & Adventure  Adventure  Animation  Comedy  \\\n",
       "0          43.0       0                   1          0          0       0   \n",
       "1          42.0       0                   1          0          0       0   \n",
       "2          52.0       0                   0          0          0       0   \n",
       "3          44.0       0                   0          0          0       0   \n",
       "4          60.0       0                   0          0          0       0   \n",
       "\n",
       "   Crime  ...  zuo  zuri  zwick  álex  álvarez  ángel  écija  ömer  über  とらぶる  \n",
       "0      0  ...  0.0   0.0    0.0   0.0      0.0    0.0    0.0   0.0   0.0   0.0  \n",
       "1      1  ...  0.0   0.0    0.0   0.0      0.0    0.0    0.0   0.0   0.0   0.0  \n",
       "2      0  ...  0.0   0.0    0.0   0.0      0.0    0.0    0.0   0.0   0.0   0.0  \n",
       "3      0  ...  0.0   0.0    0.0   0.0      0.0    0.0    0.0   0.0   0.0   0.0  \n",
       "4      0  ...  0.0   0.0    0.0   0.0      0.0    0.0    0.0   0.0   0.0   0.0  \n",
       "\n",
       "[5 rows x 11659 columns]"
      ]
     },
     "execution_count": 76,
     "metadata": {},
     "output_type": "execute_result"
    }
   ],
   "source": [
    "fourth_df.head()"
   ]
  },
  {
   "cell_type": "code",
   "execution_count": 77,
   "metadata": {},
   "outputs": [
    {
     "data": {
      "text/plain": [
       "first_air_datetime_ordinal      0\n",
       "number_of_seasons               0\n",
       "number_of_episodes              0\n",
       "mean_runtime                    0\n",
       "Action                          0\n",
       "                             ... \n",
       "ángel                         194\n",
       "écija                         194\n",
       "ömer                          194\n",
       "über                          194\n",
       "とらぶる                          194\n",
       "Length: 11659, dtype: int64"
      ]
     },
     "execution_count": 77,
     "metadata": {},
     "output_type": "execute_result"
    }
   ],
   "source": [
    "fourth_df.isnull().sum()"
   ]
  },
  {
   "cell_type": "code",
   "execution_count": 78,
   "metadata": {},
   "outputs": [],
   "source": [
    "fourth_df = fourth_df.dropna()"
   ]
  },
  {
   "cell_type": "code",
   "execution_count": 79,
   "metadata": {},
   "outputs": [
    {
     "data": {
      "text/plain": [
       "(1107, 11659)"
      ]
     },
     "execution_count": 79,
     "metadata": {},
     "output_type": "execute_result"
    }
   ],
   "source": [
    "fourth_df.shape"
   ]
  },
  {
   "cell_type": "code",
   "execution_count": 80,
   "metadata": {},
   "outputs": [
    {
     "data": {
      "text/plain": [
       "False"
      ]
     },
     "execution_count": 80,
     "metadata": {},
     "output_type": "execute_result"
    }
   ],
   "source": [
    "fourth_df.isnull().values.any()"
   ]
  },
  {
   "cell_type": "markdown",
   "metadata": {},
   "source": [
    "Now, lets attempt to use the new tfidf vector to get a more accurate answer"
   ]
  },
  {
   "cell_type": "code",
   "execution_count": 81,
   "metadata": {},
   "outputs": [
    {
     "data": {
      "text/plain": [
       "0.7220216606498195"
      ]
     },
     "execution_count": 81,
     "metadata": {},
     "output_type": "execute_result"
    }
   ],
   "source": [
    "# we opt to use the default min_samples_split here, since our experimentation did not yield improved error rates\n",
    "classifier_model = DecisionTreeClassifier()\n",
    "\n",
    "# note: start_df.drop will not alter start_df in place, so our original start_df is unharmed!\n",
    "X = fourth_df.drop('rating_category', axis = 1)\n",
    "Y = fourth_df['rating_category']\n",
    "\n",
    "# Split the data\n",
    "X_train, X_test, Y_train, Y_test = train_test_split(X,Y)\n",
    "\n",
    "# Fit the model\n",
    "classifier_model.fit(X_train,Y_train)\n",
    "\n",
    "# Predict the classes of the testing data set\n",
    "class_predict = classifier_model.predict(X_test)\n",
    "\n",
    "# Compare the predicted classes to the actual test classes\n",
    "metrics.accuracy_score(Y_test,class_predict)"
   ]
  },
  {
   "cell_type": "markdown",
   "metadata": {},
   "source": [
    "As we can see, there were no improvements yielded by using this tfidf vector in decision trees. Lets try again using the logistic regression"
   ]
  },
  {
   "cell_type": "code",
   "execution_count": 82,
   "metadata": {},
   "outputs": [
    {
     "data": {
      "text/plain": [
       "0.6895306859205776"
      ]
     },
     "execution_count": 82,
     "metadata": {},
     "output_type": "execute_result"
    }
   ],
   "source": [
    "# note: start_df.drop will not alter start_df in place, so our original start_df is unharmed!\n",
    "X = fourth_df.drop('rating_category', axis=1)\n",
    "Y = fourth_df['rating_category']\n",
    "\n",
    "# Split the data\n",
    "X_train, X_test, Y_train, Y_test = train_test_split(X,Y)\n",
    "\n",
    "# Make our logistic regression model\n",
    "fourth_log = LogisticRegression()\n",
    "\n",
    "# Fit the model\n",
    "fourth_log.fit(X_train,Y_train)\n",
    "\n",
    "# Predict the classes of the testing data set\n",
    "class_predict = fourth_log.predict(X_test)\n",
    "\n",
    "# Compare the predicted classes to the actual test classes\n",
    "metrics.accuracy_score(Y_test,class_predict)"
   ]
  },
  {
   "cell_type": "markdown",
   "metadata": {},
   "source": [
    "We see no improvement here. Lets try predicting using only the genres and tfidf."
   ]
  },
  {
   "cell_type": "code",
   "execution_count": 83,
   "metadata": {},
   "outputs": [],
   "source": [
    "fifth_df = fourth_df.drop(['first_air_datetime_ordinal', 'number_of_seasons', 'number_of_episodes', 'mean_runtime'], axis=1)"
   ]
  },
  {
   "cell_type": "code",
   "execution_count": 84,
   "metadata": {},
   "outputs": [
    {
     "data": {
      "text/plain": [
       "0.7184115523465704"
      ]
     },
     "execution_count": 84,
     "metadata": {},
     "output_type": "execute_result"
    }
   ],
   "source": [
    "# note: start_df.drop will not alter start_df in place, so our original start_df is unharmed!\n",
    "X = fifth_df.drop('rating_category', axis=1)\n",
    "Y = fifth_df['rating_category']\n",
    "\n",
    "# Split the data\n",
    "X_train, X_test, Y_train, Y_test = train_test_split(X,Y)\n",
    "\n",
    "# Make our logistic regression model\n",
    "fifth_log = LogisticRegression()\n",
    "\n",
    "# Fit the model\n",
    "fifth_log.fit(X_train,Y_train)\n",
    "\n",
    "# Predict the classes of the testing data set\n",
    "class_predict = fifth_log.predict(X_test)\n",
    "\n",
    "# Compare the predicted classes to the actual test classes\n",
    "metrics.accuracy_score(Y_test,class_predict)"
   ]
  },
  {
   "cell_type": "markdown",
   "metadata": {},
   "source": [
    "## k-fold cross validation"
   ]
  },
  {
   "cell_type": "markdown",
   "metadata": {},
   "source": [
    "Finally, lets compare the performance between our 3 highest performing models\n",
    "https://scikit-learn.org/stable/modules/cross_validation.html#cross-validation"
   ]
  },
  {
   "cell_type": "code",
   "execution_count": 85,
   "metadata": {},
   "outputs": [],
   "source": [
    "from sklearn.model_selection import KFold\n",
    "from sklearn.model_selection import cross_val_score\n",
    "from numpy import mean\n",
    "from numpy import std"
   ]
  },
  {
   "cell_type": "markdown",
   "metadata": {},
   "source": [
    "### Original logistic regression with vote_count dropped"
   ]
  },
  {
   "cell_type": "code",
   "execution_count": 86,
   "metadata": {},
   "outputs": [
    {
     "name": "stdout",
     "output_type": "stream",
     "text": [
      "Accuracy: 0.734 (0.011)\n"
     ]
    }
   ],
   "source": [
    "# create dataset\n",
    "X = third_df.drop(['rating_category', 'overview'], axis = 1)\n",
    "Y = third_df['rating_category']\n",
    "\n",
    "# create model\n",
    "third_model = LogisticRegression()\n",
    "\n",
    "# evaluate model\n",
    "scores = cross_val_score(third_model, X, Y, scoring='accuracy', cv=10)\n",
    "\n",
    "# report performance\n",
    "print('Accuracy: %.3f (%.3f)' % (mean(scores), std(scores)))"
   ]
  },
  {
   "cell_type": "markdown",
   "metadata": {},
   "source": [
    "## Logistic regression including TF-IDF"
   ]
  },
  {
   "cell_type": "code",
   "execution_count": 87,
   "metadata": {},
   "outputs": [
    {
     "name": "stdout",
     "output_type": "stream",
     "text": [
      "Accuracy: 0.725 (0.011)\n"
     ]
    }
   ],
   "source": [
    "# create dataset\n",
    "X = fourth_df.drop('rating_category', axis=1)\n",
    "Y = fourth_df['rating_category']\n",
    "\n",
    "# create model\n",
    "fourth_log = LogisticRegression()\n",
    "\n",
    "# evaluate model\n",
    "scores = cross_val_score(fourth_log, X, Y, scoring='accuracy', cv=10)\n",
    "\n",
    "# report performance\n",
    "print('Accuracy: %.3f (%.3f)' % (mean(scores), std(scores)))"
   ]
  },
  {
   "cell_type": "markdown",
   "metadata": {},
   "source": [
    "## Logistic regression of TF-IDF only"
   ]
  },
  {
   "cell_type": "code",
   "execution_count": 88,
   "metadata": {},
   "outputs": [
    {
     "name": "stdout",
     "output_type": "stream",
     "text": [
      "Accuracy: 0.737 (0.023)\n"
     ]
    }
   ],
   "source": [
    "# create dataset\n",
    "X = fifth_df.drop('rating_category', axis=1)\n",
    "Y = fifth_df['rating_category']\n",
    "\n",
    "# create model\n",
    "fifth_log = LogisticRegression()\n",
    "\n",
    "# evaluate model\n",
    "scores = cross_val_score(fifth_log, X, Y, scoring='accuracy', cv=10)\n",
    "\n",
    "# report performance\n",
    "print('Accuracy: %.3f (%.3f)' % (mean(scores), std(scores)))"
   ]
  }
 ],
 "metadata": {
  "kernelspec": {
   "display_name": "Python 3",
   "language": "python",
   "name": "python3"
  },
  "language_info": {
   "codemirror_mode": {
    "name": "ipython",
    "version": 3
   },
   "file_extension": ".py",
   "mimetype": "text/x-python",
   "name": "python",
   "nbconvert_exporter": "python",
   "pygments_lexer": "ipython3",
   "version": "3.8.3"
  }
 },
 "nbformat": 4,
 "nbformat_minor": 4
}

{
 "cells": [
  {
   "cell_type": "markdown",
   "metadata": {},
   "source": [
    "# TMDb data prep"
   ]
  },
  {
   "cell_type": "markdown",
   "metadata": {},
   "source": [
    "This notebook will be used to prepare a dataset to use to train the supervised learning model for our MSCI 446 final project"
   ]
  },
  {
   "cell_type": "markdown",
   "metadata": {},
   "source": [
    "## first part: just get page 1 of the discover TV shows and match up with details and then save to .csv for further processing"
   ]
  },
  {
   "cell_type": "code",
   "execution_count": 2,
   "metadata": {},
   "outputs": [],
   "source": [
    "import requests"
   ]
  },
  {
   "cell_type": "code",
   "execution_count": 3,
   "metadata": {},
   "outputs": [
    {
     "data": {
      "text/plain": [
       "True"
      ]
     },
     "execution_count": 3,
     "metadata": {},
     "output_type": "execute_result"
    }
   ],
   "source": [
    "import os\n",
    "from dotenv import load_dotenv\n",
    "load_dotenv()"
   ]
  },
  {
   "cell_type": "code",
   "execution_count": 4,
   "metadata": {},
   "outputs": [],
   "source": [
    "apikey = os.getenv(\"API_KEY\")"
   ]
  },
  {
   "cell_type": "code",
   "execution_count": 5,
   "metadata": {},
   "outputs": [
    {
     "name": "stdout",
     "output_type": "stream",
     "text": [
      "https://api.themoviedb.org/3/discover/tv?api_key=83930268a198760b8b6ed65003b56157&sort_by=popularity.desc\n"
     ]
    }
   ],
   "source": [
    "ploads = {'api_key':  apikey, 'sort_by': 'popularity.desc'}\n",
    "r = requests.get('https://api.themoviedb.org/3/discover/tv', params=ploads)\n",
    "print(r.url)"
   ]
  },
  {
   "cell_type": "code",
   "execution_count": 6,
   "metadata": {},
   "outputs": [],
   "source": [
    "import json"
   ]
  },
  {
   "cell_type": "code",
   "execution_count": 7,
   "metadata": {},
   "outputs": [],
   "source": [
    "resp = r.json()"
   ]
  },
  {
   "cell_type": "code",
   "execution_count": 8,
   "metadata": {},
   "outputs": [
    {
     "name": "stdout",
     "output_type": "stream",
     "text": [
      "{'page': 1, 'results': [{'backdrop_path': '/9ijMGlJKqcslswWUzTEwScm82Gs.jpg', 'first_air_date': '2019-11-12', 'genre_ids': [10765, 10759, 37], 'id': 82856, 'name': 'The Mandalorian', 'origin_country': ['US'], 'original_language': 'en', 'original_name': 'The Mandalorian', 'overview': 'After the fall of the Galactic Empire, lawlessness has spread throughout the galaxy. A lone gunfighter makes his way through the outer reaches, earning his keep as a bounty hunter.', 'popularity': 2252.745, 'poster_path': '/sWgBv7LV2PRoQgkxwlibdGXKz1S.jpg', 'vote_average': 8.5, 'vote_count': 3525}, {'backdrop_path': '/edmk8xjGBsYVIf4QtLY9WMaMcXZ.jpg', 'first_air_date': '2005-03-27', 'genre_ids': [18], 'id': 1416, 'name': \"Grey's Anatomy\", 'origin_country': ['US'], 'original_language': 'en', 'original_name': \"Grey's Anatomy\", 'overview': 'Follows the personal and professional lives of a group of doctors at Seattle’s Grey Sloan Memorial Hospital.', 'popularity': 897.866, 'poster_path': '/clnyhPqj1SNgpAdeSS6a6fwE6Bo.jpg', 'vote_average': 8.1, 'vote_count': 4532}, {'backdrop_path': '/iDbIEpCM9nhoayUDTwqFL1iVwzb.jpg', 'first_air_date': '2017-09-25', 'genre_ids': [18], 'id': 71712, 'name': 'The Good Doctor', 'origin_country': ['US'], 'original_language': 'en', 'original_name': 'The Good Doctor', 'overview': \"A young surgeon with Savant syndrome is recruited into the surgical unit of a prestigious hospital. The question will arise: can a person who doesn't have the ability to relate to people actually save their lives?\", 'popularity': 880.496, 'poster_path': '/6tfT03sGp9k4c0J3dypjrI8TSAI.jpg', 'vote_average': 8.6, 'vote_count': 5939}, {'backdrop_path': '/ta5oblpMlEcIPIS2YGcq9XEkWK2.jpg', 'first_air_date': '2016-01-25', 'genre_ids': [80, 10765], 'id': 63174, 'name': 'Lucifer', 'origin_country': ['US'], 'original_language': 'en', 'original_name': 'Lucifer', 'overview': \"Bored and unhappy as the Lord of Hell, Lucifer Morningstar abandoned his throne and retired to Los Angeles, where he has teamed up with LAPD detective Chloe Decker to take down criminals.\\xa0But the longer he's away from the underworld, the greater the threat that the worst of humanity could escape.\", 'popularity': 550.64, 'poster_path': '/4EYPN5mVIhKLfxGruy7Dy41dTVn.jpg', 'vote_average': 8.5, 'vote_count': 6628}, {'backdrop_path': '/34OGjFEbHj0E3lE2w0iTUVq0CBz.jpg', 'first_air_date': '2020-10-23', 'genre_ids': [18], 'id': 87739, 'name': \"The Queen's Gambit\", 'origin_country': ['US'], 'original_language': 'en', 'original_name': \"The Queen's Gambit\", 'overview': 'In a Kentucky orphanage in the 1950s, a young girl discovers an astonishing talent for chess while struggling with addiction.', 'popularity': 474.811, 'poster_path': '/zU0htwkhNvBQdVSIKB9s6hgVeFK.jpg', 'vote_average': 8.7, 'vote_count': 770}, {'backdrop_path': '/f8RGyElWxLiL1lLzC9KcPuUZIzf.jpg', 'first_air_date': '2020-11-29', 'genre_ids': [80, 9648, 18], 'id': 89844, 'name': '30 Coins', 'origin_country': ['ES'], 'original_language': 'es', 'original_name': '30 Monedas', 'overview': 'Father Vergara—an exorcist, boxer and ex-convict—lives in a remote village in Spain. Hoping to be lost and forgotten, Vergara’s demons catch up to him.', 'popularity': 443.685, 'poster_path': '/lw70w94nzCmIVSQvtMcuAjWHfWX.jpg', 'vote_average': 4.6, 'vote_count': 5}, {'backdrop_path': '/58PON1OrnBiX6CqEHgeWKVwrCn6.jpg', 'first_air_date': '2015-08-23', 'genre_ids': [10759, 18], 'id': 62286, 'name': 'Fear the Walking Dead', 'origin_country': ['US'], 'original_language': 'en', 'original_name': 'Fear the Walking Dead', 'overview': 'What did the world look like as it was transforming into the horrifying apocalypse depicted in \"The Walking Dead\"? This spin-off set in Los Angeles, following new characters as they face the beginning of the end of the world, will answer that question.', 'popularity': 418.23, 'poster_path': '/wGFUewXPeMErCe2xnCmmLEiHOGh.jpg', 'vote_average': 7.5, 'vote_count': 2779}, {'backdrop_path': '/9KnIzPCv9XpWA0MqmwiKBZvV1Sj.jpg', 'first_air_date': '2019-06-16', 'genre_ids': [18], 'id': 85552, 'name': 'Euphoria', 'origin_country': ['US'], 'original_language': 'en', 'original_name': 'Euphoria', 'overview': 'A group of high school students navigate love and friendships in a world of drugs, sex, trauma, and social media.', 'popularity': 367.117, 'poster_path': '/5mi3aRl16yKmfpQJMzvqN5TXkdA.jpg', 'vote_average': 8.5, 'vote_count': 3112}, {'backdrop_path': '/9yKCJTOh9m3Lol2RY3kw99QPH6x.jpg', 'first_air_date': '2019-11-03', 'genre_ids': [18, 10765], 'id': 68507, 'name': 'His Dark Materials', 'origin_country': ['GB'], 'original_language': 'en', 'original_name': 'His Dark Materials', 'overview': \"Lyra is an orphan who lives in a parallel universe in which science, theology and magic are entwined. Lyra's search for a kidnapped friend uncovers a sinister plot involving stolen children, and turns into a quest to understand a mysterious phenomenon called Dust. She is later joined on her journey by Will, a boy who possesses a knife that can cut windows between worlds. As Lyra learns the truth about her parents and her prophesied destiny, the two young people are caught up in a war against celestial powers that ranges across many worlds.\", 'popularity': 366.115, 'poster_path': '/g6tIKGc3f1H5QMz1dcgCwADKpZ7.jpg', 'vote_average': 8.1, 'vote_count': 609}, {'backdrop_path': '/wgEWTYAAY7F04o4F20j0L1DGB8i.jpg', 'first_air_date': '2019-07-23', 'genre_ids': [18], 'id': 91605, 'name': 'I Am...', 'origin_country': [], 'original_language': 'en', 'original_name': 'I Am...', 'overview': 'Each hour-long film follows a different women as they experience “moments that are emotionally raw, thought-provoking and utterly personal”.', 'popularity': 361.296, 'poster_path': '/oogunE22HDTcTxFakKQbwqfw1qo.jpg', 'vote_average': 4.4, 'vote_count': 7}, {'backdrop_path': '/mE3zzMkpP8yqlkzdjPsQmJHceoe.jpg', 'first_air_date': '2019-02-15', 'genre_ids': [10759, 10765, 35, 18], 'id': 75006, 'name': 'The Umbrella Academy', 'origin_country': ['US'], 'original_language': 'en', 'original_name': 'The Umbrella Academy', 'overview': \"A dysfunctional family of superheroes comes together to solve the mystery of their father's death, the threat of the apocalypse and more.\", 'popularity': 342.093, 'poster_path': '/scZlQQYnDVlnpxFTxaIv2g0BWnL.jpg', 'vote_average': 8.7, 'vote_count': 4518}, {'backdrop_path': '/mGVrXeIjyecj6TKmwPVpHlscEmw.jpg', 'first_air_date': '2019-07-25', 'genre_ids': [10765, 10759], 'id': 76479, 'name': 'The Boys', 'origin_country': ['US'], 'original_language': 'en', 'original_name': 'The Boys', 'overview': 'A group of vigilantes known informally as “The Boys” set out to take down corrupt superheroes with no more than blue-collar grit and a willingness to fight dirty.', 'popularity': 334.863, 'poster_path': '/mY7SeH4HFFxW1hiI6cWuwCRKptN.jpg', 'vote_average': 8.5, 'vote_count': 3690}, {'backdrop_path': '/9hvhGtcsGhQY58pukw8w55UEUbL.jpg', 'first_air_date': '2017-01-26', 'genre_ids': [18, 9648], 'id': 69050, 'name': 'Riverdale', 'origin_country': ['US'], 'original_language': 'en', 'original_name': 'Riverdale', 'overview': 'Set in the present, the series offers a bold, subversive take on Archie, Betty, Veronica and their friends, exploring the surreality of small-town life, the darkness and weirdness bubbling beneath Riverdale’s wholesome facade.', 'popularity': 329.715, 'poster_path': '/4X7o1ssOEvp4BFLim1AZmPNcYbU.jpg', 'vote_average': 8.6, 'vote_count': 6985}, {'backdrop_path': '/hpU2cHC9tk90hswCFEpf5AtbqoL.jpg', 'first_air_date': '1989-12-16', 'genre_ids': [16, 35, 10751, 18], 'id': 456, 'name': 'The Simpsons', 'origin_country': ['US'], 'original_language': 'en', 'original_name': 'The Simpsons', 'overview': 'Set in Springfield, the average American town, the show focuses on the antics and everyday adventures of the Simpson family; Homer, Marge, Bart, Lisa and Maggie, as well as a virtual cast of thousands. Since the beginning, the series has been a pop culture icon, attracting hundreds of celebrities to guest star. The show has also made name for itself in its fearless satirical take on politics, media and American life in general.', 'popularity': 315.169, 'poster_path': '/2IWouZK4gkgHhJa3oyYuSWfSqbG.jpg', 'vote_average': 7.8, 'vote_count': 5487}, {'backdrop_path': '/tJjwEzTglpxoWJXwEbZlKLppMhr.jpg', 'first_air_date': '2020-10-25', 'genre_ids': [18, 80, 9648], 'id': 83851, 'name': 'The Undoing', 'origin_country': ['US'], 'original_language': 'en', 'original_name': 'The Undoing', 'overview': 'Grace and Jonathan Fraser are living the only lives they ever wanted. Overnight a chasm opens in their lives: a violent death and a chain of terrible revelations. Left behind in the wake of a spreading and very public disaster, Grace must dismantle one life and create another for her child and her family.', 'popularity': 305.973, 'poster_path': '/3tDbJxobPN3EI2bBebL6zmusmw5.jpg', 'vote_average': 7.7, 'vote_count': 136}, {'backdrop_path': '/suopoADq0k8YZr4dQXcU6pToj6s.jpg', 'first_air_date': '2011-04-17', 'genre_ids': [10765, 18, 10759, 9648], 'id': 1399, 'name': 'Game of Thrones', 'origin_country': ['US'], 'original_language': 'en', 'original_name': 'Game of Thrones', 'overview': \"Seven noble families fight for control of the mythical land of Westeros. Friction between the houses leads to full-scale war. All while a very ancient evil awakens in the farthest north. Amidst the war, a neglected military order of misfits, the Night's Watch, is all that stands between the realms of men and icy horrors beyond.\", 'popularity': 299.742, 'poster_path': '/u3bZgnGQ9T01sWNhyveQz0wH0Hl.jpg', 'vote_average': 8.3, 'vote_count': 11753}, {'backdrop_path': '/hTExot1sfn7dHZjGrk0Aiwpntxt.jpg', 'first_air_date': '2014-03-19', 'genre_ids': [10765, 18, 10759], 'id': 48866, 'name': 'The 100', 'origin_country': ['US'], 'original_language': 'en', 'original_name': 'The 100', 'overview': \"100 years in the future, when the Earth has been abandoned due to radioactivity, the last surviving humans live on an ark orbiting the planet — but the ark won't last forever. So the repressive regime picks 100 expendable juvenile delinquents to send down to Earth to see if the planet is still habitable.\", 'popularity': 297.049, 'poster_path': '/wcaDIAG1QdXQLRaj4vC1EFdBT2.jpg', 'vote_average': 7.8, 'vote_count': 5147}, {'backdrop_path': '/k7T9xRyzP41wBVNyNeLmh8Ch7gD.jpg', 'first_air_date': '2009-09-10', 'genre_ids': [18, 14, 27, 10749], 'id': 18165, 'name': 'The Vampire Diaries', 'origin_country': ['US'], 'original_language': 'en', 'original_name': 'The Vampire Diaries', 'overview': 'The story of two vampire brothers obsessed with the same girl, who bears a striking resemblance to the beautiful but ruthless vampire they knew and loved in 1864.', 'popularity': 294.522, 'poster_path': '/aBkVgChtyyJaHyZh1gfd8DbzQon.jpg', 'vote_average': 8.3, 'vote_count': 4388}, {'backdrop_path': '/nVRyd8hlg0ZLxBn9RaI7mUMQLnz.jpg', 'first_air_date': '2005-09-13', 'genre_ids': [18, 9648, 10765], 'id': 1622, 'name': 'Supernatural', 'origin_country': ['US'], 'original_language': 'en', 'original_name': 'Supernatural', 'overview': \"When they were boys, Sam and Dean Winchester lost their mother to a mysterious and demonic supernatural force. Subsequently, their father raised them to be soldiers. He taught them about the paranormal evil that lives in the dark corners and on the back roads of America ... and he taught them how to kill it. Now, the Winchester brothers crisscross the country in their '67 Chevy Impala, battling every kind of supernatural threat they encounter along the way. \", 'popularity': 287.304, 'poster_path': '/KoYWXbnYuS3b0GyQPkbuexlVK9.jpg', 'vote_average': 8.1, 'vote_count': 4362}, {'backdrop_path': '/pLVrN9B750ehwTFdQ6n3HRUERLd.jpg', 'first_air_date': '2020-10-04', 'genre_ids': [18, 10765, 9648], 'id': 94305, 'name': 'The Walking Dead: World Beyond', 'origin_country': ['US'], 'original_language': 'en', 'original_name': 'The Walking Dead: World Beyond', 'overview': 'A heroic group of teens sheltered from the dangers of the post-apocalyptic world receive a message that inspires them to leave the safety of the only home they have ever known and embark on a cross-country journey to find the one man who can possibly save the world.', 'popularity': 277.423, 'poster_path': '/z31GxpVgDsFAF4paZR8PRsiP16D.jpg', 'vote_average': 7.8, 'vote_count': 500}], 'total_pages': 500, 'total_results': 10000}\n"
     ]
    }
   ],
   "source": [
    "print(resp)"
   ]
  },
  {
   "cell_type": "code",
   "execution_count": 10,
   "metadata": {},
   "outputs": [
    {
     "data": {
      "text/plain": [
       "'The Mandalorian'"
      ]
     },
     "execution_count": 10,
     "metadata": {},
     "output_type": "execute_result"
    }
   ],
   "source": [
    "resp['results'][0]['original_name']"
   ]
  },
  {
   "cell_type": "markdown",
   "metadata": {},
   "source": [
    "## resp reference now holds the response object which can be used directly"
   ]
  },
  {
   "cell_type": "code",
   "execution_count": 11,
   "metadata": {},
   "outputs": [],
   "source": [
    "import pandas as pd"
   ]
  },
  {
   "cell_type": "code",
   "execution_count": 12,
   "metadata": {},
   "outputs": [],
   "source": [
    "df = pd.DataFrame(resp['results'])"
   ]
  },
  {
   "cell_type": "code",
   "execution_count": 13,
   "metadata": {},
   "outputs": [
    {
     "data": {
      "text/html": [
       "<div>\n",
       "<style scoped>\n",
       "    .dataframe tbody tr th:only-of-type {\n",
       "        vertical-align: middle;\n",
       "    }\n",
       "\n",
       "    .dataframe tbody tr th {\n",
       "        vertical-align: top;\n",
       "    }\n",
       "\n",
       "    .dataframe thead th {\n",
       "        text-align: right;\n",
       "    }\n",
       "</style>\n",
       "<table border=\"1\" class=\"dataframe\">\n",
       "  <thead>\n",
       "    <tr style=\"text-align: right;\">\n",
       "      <th></th>\n",
       "      <th>backdrop_path</th>\n",
       "      <th>first_air_date</th>\n",
       "      <th>genre_ids</th>\n",
       "      <th>id</th>\n",
       "      <th>name</th>\n",
       "      <th>origin_country</th>\n",
       "      <th>original_language</th>\n",
       "      <th>original_name</th>\n",
       "      <th>overview</th>\n",
       "      <th>popularity</th>\n",
       "      <th>poster_path</th>\n",
       "      <th>vote_average</th>\n",
       "      <th>vote_count</th>\n",
       "    </tr>\n",
       "  </thead>\n",
       "  <tbody>\n",
       "    <tr>\n",
       "      <th>0</th>\n",
       "      <td>/9ijMGlJKqcslswWUzTEwScm82Gs.jpg</td>\n",
       "      <td>2019-11-12</td>\n",
       "      <td>[10765, 10759, 37]</td>\n",
       "      <td>82856</td>\n",
       "      <td>The Mandalorian</td>\n",
       "      <td>[US]</td>\n",
       "      <td>en</td>\n",
       "      <td>The Mandalorian</td>\n",
       "      <td>After the fall of the Galactic Empire, lawless...</td>\n",
       "      <td>2252.745</td>\n",
       "      <td>/sWgBv7LV2PRoQgkxwlibdGXKz1S.jpg</td>\n",
       "      <td>8.5</td>\n",
       "      <td>3525</td>\n",
       "    </tr>\n",
       "    <tr>\n",
       "      <th>1</th>\n",
       "      <td>/edmk8xjGBsYVIf4QtLY9WMaMcXZ.jpg</td>\n",
       "      <td>2005-03-27</td>\n",
       "      <td>[18]</td>\n",
       "      <td>1416</td>\n",
       "      <td>Grey's Anatomy</td>\n",
       "      <td>[US]</td>\n",
       "      <td>en</td>\n",
       "      <td>Grey's Anatomy</td>\n",
       "      <td>Follows the personal and professional lives of...</td>\n",
       "      <td>897.866</td>\n",
       "      <td>/clnyhPqj1SNgpAdeSS6a6fwE6Bo.jpg</td>\n",
       "      <td>8.1</td>\n",
       "      <td>4532</td>\n",
       "    </tr>\n",
       "    <tr>\n",
       "      <th>2</th>\n",
       "      <td>/iDbIEpCM9nhoayUDTwqFL1iVwzb.jpg</td>\n",
       "      <td>2017-09-25</td>\n",
       "      <td>[18]</td>\n",
       "      <td>71712</td>\n",
       "      <td>The Good Doctor</td>\n",
       "      <td>[US]</td>\n",
       "      <td>en</td>\n",
       "      <td>The Good Doctor</td>\n",
       "      <td>A young surgeon with Savant syndrome is recrui...</td>\n",
       "      <td>880.496</td>\n",
       "      <td>/6tfT03sGp9k4c0J3dypjrI8TSAI.jpg</td>\n",
       "      <td>8.6</td>\n",
       "      <td>5939</td>\n",
       "    </tr>\n",
       "    <tr>\n",
       "      <th>3</th>\n",
       "      <td>/ta5oblpMlEcIPIS2YGcq9XEkWK2.jpg</td>\n",
       "      <td>2016-01-25</td>\n",
       "      <td>[80, 10765]</td>\n",
       "      <td>63174</td>\n",
       "      <td>Lucifer</td>\n",
       "      <td>[US]</td>\n",
       "      <td>en</td>\n",
       "      <td>Lucifer</td>\n",
       "      <td>Bored and unhappy as the Lord of Hell, Lucifer...</td>\n",
       "      <td>550.640</td>\n",
       "      <td>/4EYPN5mVIhKLfxGruy7Dy41dTVn.jpg</td>\n",
       "      <td>8.5</td>\n",
       "      <td>6628</td>\n",
       "    </tr>\n",
       "    <tr>\n",
       "      <th>4</th>\n",
       "      <td>/34OGjFEbHj0E3lE2w0iTUVq0CBz.jpg</td>\n",
       "      <td>2020-10-23</td>\n",
       "      <td>[18]</td>\n",
       "      <td>87739</td>\n",
       "      <td>The Queen's Gambit</td>\n",
       "      <td>[US]</td>\n",
       "      <td>en</td>\n",
       "      <td>The Queen's Gambit</td>\n",
       "      <td>In a Kentucky orphanage in the 1950s, a young ...</td>\n",
       "      <td>474.811</td>\n",
       "      <td>/zU0htwkhNvBQdVSIKB9s6hgVeFK.jpg</td>\n",
       "      <td>8.7</td>\n",
       "      <td>770</td>\n",
       "    </tr>\n",
       "  </tbody>\n",
       "</table>\n",
       "</div>"
      ],
      "text/plain": [
       "                      backdrop_path first_air_date           genre_ids     id  \\\n",
       "0  /9ijMGlJKqcslswWUzTEwScm82Gs.jpg     2019-11-12  [10765, 10759, 37]  82856   \n",
       "1  /edmk8xjGBsYVIf4QtLY9WMaMcXZ.jpg     2005-03-27                [18]   1416   \n",
       "2  /iDbIEpCM9nhoayUDTwqFL1iVwzb.jpg     2017-09-25                [18]  71712   \n",
       "3  /ta5oblpMlEcIPIS2YGcq9XEkWK2.jpg     2016-01-25         [80, 10765]  63174   \n",
       "4  /34OGjFEbHj0E3lE2w0iTUVq0CBz.jpg     2020-10-23                [18]  87739   \n",
       "\n",
       "                 name origin_country original_language       original_name  \\\n",
       "0     The Mandalorian           [US]                en     The Mandalorian   \n",
       "1      Grey's Anatomy           [US]                en      Grey's Anatomy   \n",
       "2     The Good Doctor           [US]                en     The Good Doctor   \n",
       "3             Lucifer           [US]                en             Lucifer   \n",
       "4  The Queen's Gambit           [US]                en  The Queen's Gambit   \n",
       "\n",
       "                                            overview  popularity  \\\n",
       "0  After the fall of the Galactic Empire, lawless...    2252.745   \n",
       "1  Follows the personal and professional lives of...     897.866   \n",
       "2  A young surgeon with Savant syndrome is recrui...     880.496   \n",
       "3  Bored and unhappy as the Lord of Hell, Lucifer...     550.640   \n",
       "4  In a Kentucky orphanage in the 1950s, a young ...     474.811   \n",
       "\n",
       "                        poster_path  vote_average  vote_count  \n",
       "0  /sWgBv7LV2PRoQgkxwlibdGXKz1S.jpg           8.5        3525  \n",
       "1  /clnyhPqj1SNgpAdeSS6a6fwE6Bo.jpg           8.1        4532  \n",
       "2  /6tfT03sGp9k4c0J3dypjrI8TSAI.jpg           8.6        5939  \n",
       "3  /4EYPN5mVIhKLfxGruy7Dy41dTVn.jpg           8.5        6628  \n",
       "4  /zU0htwkhNvBQdVSIKB9s6hgVeFK.jpg           8.7         770  "
      ]
     },
     "execution_count": 13,
     "metadata": {},
     "output_type": "execute_result"
    }
   ],
   "source": [
    "df.head()"
   ]
  },
  {
   "cell_type": "markdown",
   "metadata": {},
   "source": [
    "## Get movie details for every entry in results"
   ]
  },
  {
   "cell_type": "code",
   "execution_count": 14,
   "metadata": {},
   "outputs": [],
   "source": [
    "ploads = {'api_key': apikey}\n",
    "\n",
    "right = pd.DataFrame()"
   ]
  },
  {
   "cell_type": "code",
   "execution_count": 15,
   "metadata": {},
   "outputs": [
    {
     "name": "stdout",
     "output_type": "stream",
     "text": [
      "82856\n",
      "1416\n",
      "71712\n",
      "63174\n",
      "87739\n",
      "89844\n",
      "62286\n",
      "85552\n",
      "68507\n",
      "91605\n",
      "75006\n",
      "76479\n",
      "69050\n",
      "456\n",
      "83851\n",
      "1399\n",
      "48866\n",
      "18165\n",
      "1622\n",
      "94305\n"
     ]
    }
   ],
   "source": [
    "details = []\n",
    "# API call for every ID, store all results in array of objects\n",
    "for index, row in df.iterrows():\n",
    "    print(row['id'])\n",
    "    r = requests.get('https://api.themoviedb.org/3/tv/%s' % row['id'], params=ploads)\n",
    "    details.append(r.json())\n",
    "    "
   ]
  },
  {
   "cell_type": "code",
   "execution_count": 22,
   "metadata": {},
   "outputs": [
    {
     "data": {
      "text/plain": [
       "list"
      ]
     },
     "execution_count": 22,
     "metadata": {},
     "output_type": "execute_result"
    }
   ],
   "source": [
    "type(details[0]['genres'])"
   ]
  },
  {
   "cell_type": "code",
   "execution_count": 28,
   "metadata": {},
   "outputs": [
    {
     "data": {
      "text/plain": [
       "list"
      ]
     },
     "execution_count": 28,
     "metadata": {},
     "output_type": "execute_result"
    }
   ],
   "source": [
    "type(details[0]['episode_run_time'])"
   ]
  },
  {
   "cell_type": "code",
   "execution_count": 29,
   "metadata": {},
   "outputs": [
    {
     "data": {
      "text/plain": [
       "[35, 48]"
      ]
     },
     "execution_count": 29,
     "metadata": {},
     "output_type": "execute_result"
    }
   ],
   "source": [
    "details[0]['episode_run_time']"
   ]
  },
  {
   "cell_type": "code",
   "execution_count": 16,
   "metadata": {},
   "outputs": [],
   "source": [
    "detailsDF = pd.DataFrame(details)"
   ]
  },
  {
   "cell_type": "code",
   "execution_count": 17,
   "metadata": {},
   "outputs": [],
   "source": [
    "columns_to_use = detailsDF.columns.difference(df.columns)"
   ]
  },
  {
   "cell_type": "code",
   "execution_count": 18,
   "metadata": {},
   "outputs": [],
   "source": [
    "complete_results = pd.merge(df, detailsDF, how='inner', on=['id','backdrop_path','first_air_date','original_language', 'popularity', 'poster_path','overview', 'vote_count','vote_average','original_name', 'name'])"
   ]
  },
  {
   "cell_type": "code",
   "execution_count": 19,
   "metadata": {},
   "outputs": [
    {
     "data": {
      "text/html": [
       "<div>\n",
       "<style scoped>\n",
       "    .dataframe tbody tr th:only-of-type {\n",
       "        vertical-align: middle;\n",
       "    }\n",
       "\n",
       "    .dataframe tbody tr th {\n",
       "        vertical-align: top;\n",
       "    }\n",
       "\n",
       "    .dataframe thead th {\n",
       "        text-align: right;\n",
       "    }\n",
       "</style>\n",
       "<table border=\"1\" class=\"dataframe\">\n",
       "  <thead>\n",
       "    <tr style=\"text-align: right;\">\n",
       "      <th></th>\n",
       "      <th>backdrop_path</th>\n",
       "      <th>first_air_date</th>\n",
       "      <th>genre_ids</th>\n",
       "      <th>id</th>\n",
       "      <th>name</th>\n",
       "      <th>origin_country_x</th>\n",
       "      <th>original_language</th>\n",
       "      <th>original_name</th>\n",
       "      <th>overview</th>\n",
       "      <th>popularity</th>\n",
       "      <th>...</th>\n",
       "      <th>number_of_episodes</th>\n",
       "      <th>number_of_seasons</th>\n",
       "      <th>origin_country_y</th>\n",
       "      <th>production_companies</th>\n",
       "      <th>production_countries</th>\n",
       "      <th>seasons</th>\n",
       "      <th>spoken_languages</th>\n",
       "      <th>status</th>\n",
       "      <th>tagline</th>\n",
       "      <th>type</th>\n",
       "    </tr>\n",
       "  </thead>\n",
       "  <tbody>\n",
       "    <tr>\n",
       "      <th>0</th>\n",
       "      <td>/wgEWTYAAY7F04o4F20j0L1DGB8i.jpg</td>\n",
       "      <td>2019-07-23</td>\n",
       "      <td>[18]</td>\n",
       "      <td>91605</td>\n",
       "      <td>I Am...</td>\n",
       "      <td>[]</td>\n",
       "      <td>en</td>\n",
       "      <td>I Am...</td>\n",
       "      <td>Each hour-long film follows a different women ...</td>\n",
       "      <td>361.296</td>\n",
       "      <td>...</td>\n",
       "      <td>3</td>\n",
       "      <td>1</td>\n",
       "      <td>[]</td>\n",
       "      <td>[]</td>\n",
       "      <td>[]</td>\n",
       "      <td>[{'air_date': '2019-07-23', 'episode_count': 3...</td>\n",
       "      <td>[{'english_name': 'English', 'iso_639_1': 'en'...</td>\n",
       "      <td>Returning Series</td>\n",
       "      <td></td>\n",
       "      <td>Miniseries</td>\n",
       "    </tr>\n",
       "    <tr>\n",
       "      <th>1</th>\n",
       "      <td>/nVRyd8hlg0ZLxBn9RaI7mUMQLnz.jpg</td>\n",
       "      <td>2005-09-13</td>\n",
       "      <td>[18, 9648, 10765]</td>\n",
       "      <td>1622</td>\n",
       "      <td>Supernatural</td>\n",
       "      <td>[US]</td>\n",
       "      <td>en</td>\n",
       "      <td>Supernatural</td>\n",
       "      <td>When they were boys, Sam and Dean Winchester l...</td>\n",
       "      <td>287.304</td>\n",
       "      <td>...</td>\n",
       "      <td>327</td>\n",
       "      <td>15</td>\n",
       "      <td>[US]</td>\n",
       "      <td>[{'id': 38398, 'logo_path': None, 'name': 'Kri...</td>\n",
       "      <td>[{'iso_3166_1': 'US', 'name': 'United States o...</td>\n",
       "      <td>[{'air_date': None, 'episode_count': 4, 'id': ...</td>\n",
       "      <td>[{'english_name': 'English', 'iso_639_1': 'en'...</td>\n",
       "      <td>Ended</td>\n",
       "      <td>Between darkness and deliverance</td>\n",
       "      <td>Scripted</td>\n",
       "    </tr>\n",
       "  </tbody>\n",
       "</table>\n",
       "<p>2 rows × 33 columns</p>\n",
       "</div>"
      ],
      "text/plain": [
       "                      backdrop_path first_air_date          genre_ids     id  \\\n",
       "0  /wgEWTYAAY7F04o4F20j0L1DGB8i.jpg     2019-07-23               [18]  91605   \n",
       "1  /nVRyd8hlg0ZLxBn9RaI7mUMQLnz.jpg     2005-09-13  [18, 9648, 10765]   1622   \n",
       "\n",
       "           name origin_country_x original_language original_name  \\\n",
       "0       I Am...               []                en       I Am...   \n",
       "1  Supernatural             [US]                en  Supernatural   \n",
       "\n",
       "                                            overview  popularity  ...  \\\n",
       "0  Each hour-long film follows a different women ...     361.296  ...   \n",
       "1  When they were boys, Sam and Dean Winchester l...     287.304  ...   \n",
       "\n",
       "  number_of_episodes  number_of_seasons  origin_country_y  \\\n",
       "0                  3                  1                []   \n",
       "1                327                 15              [US]   \n",
       "\n",
       "                                production_companies  \\\n",
       "0                                                 []   \n",
       "1  [{'id': 38398, 'logo_path': None, 'name': 'Kri...   \n",
       "\n",
       "                                production_countries  \\\n",
       "0                                                 []   \n",
       "1  [{'iso_3166_1': 'US', 'name': 'United States o...   \n",
       "\n",
       "                                             seasons  \\\n",
       "0  [{'air_date': '2019-07-23', 'episode_count': 3...   \n",
       "1  [{'air_date': None, 'episode_count': 4, 'id': ...   \n",
       "\n",
       "                                    spoken_languages            status  \\\n",
       "0  [{'english_name': 'English', 'iso_639_1': 'en'...  Returning Series   \n",
       "1  [{'english_name': 'English', 'iso_639_1': 'en'...             Ended   \n",
       "\n",
       "                            tagline        type  \n",
       "0                                    Miniseries  \n",
       "1  Between darkness and deliverance    Scripted  \n",
       "\n",
       "[2 rows x 33 columns]"
      ]
     },
     "execution_count": 19,
     "metadata": {},
     "output_type": "execute_result"
    }
   ],
   "source": [
    "complete_results.head()"
   ]
  },
  {
   "cell_type": "code",
   "execution_count": null,
   "metadata": {},
   "outputs": [],
   "source": []
  },
  {
   "cell_type": "code",
   "execution_count": 40,
   "metadata": {},
   "outputs": [
    {
     "data": {
      "text/plain": [
       "Index(['id', 'backdrop_path', 'genre_ids', 'first_air_date',\n",
       "       'original_language', 'popularity', 'poster_path', 'overview',\n",
       "       'vote_count', 'vote_average', 'original_name', 'origin_country_x',\n",
       "       'name', 'created_by', 'episode_run_time', 'genres', 'homepage',\n",
       "       'in_production', 'languages', 'last_air_date', 'last_episode_to_air',\n",
       "       'next_episode_to_air', 'networks', 'number_of_episodes',\n",
       "       'number_of_seasons', 'origin_country_y', 'production_companies',\n",
       "       'production_countries', 'seasons', 'spoken_languages', 'status',\n",
       "       'tagline', 'type'],\n",
       "      dtype='object')"
      ]
     },
     "execution_count": 40,
     "metadata": {},
     "output_type": "execute_result"
    }
   ],
   "source": [
    "complete_results.columns"
   ]
  },
  {
   "cell_type": "code",
   "execution_count": 23,
   "metadata": {},
   "outputs": [
    {
     "data": {
      "text/plain": [
       "0                        [{'id': 18, 'name': 'Drama'}]\n",
       "1    [{'id': 18, 'name': 'Drama'}, {'id': 9648, 'na...\n",
       "Name: genres, dtype: object"
      ]
     },
     "execution_count": 23,
     "metadata": {},
     "output_type": "execute_result"
    }
   ],
   "source": [
    "complete_results['genres'].head()"
   ]
  },
  {
   "cell_type": "code",
   "execution_count": 24,
   "metadata": {},
   "outputs": [
    {
     "data": {
      "text/plain": [
       "pandas.core.series.Series"
      ]
     },
     "execution_count": 24,
     "metadata": {},
     "output_type": "execute_result"
    }
   ],
   "source": [
    "type(complete_results['genres'])"
   ]
  },
  {
   "cell_type": "code",
   "execution_count": 27,
   "metadata": {},
   "outputs": [
    {
     "data": {
      "text/plain": [
       "18"
      ]
     },
     "execution_count": 27,
     "metadata": {},
     "output_type": "execute_result"
    }
   ],
   "source": [
    "complete_results['genres'][0][0]['id']"
   ]
  },
  {
   "cell_type": "code",
   "execution_count": 30,
   "metadata": {},
   "outputs": [
    {
     "data": {
      "text/plain": [
       "pandas.core.series.Series"
      ]
     },
     "execution_count": 30,
     "metadata": {},
     "output_type": "execute_result"
    }
   ],
   "source": [
    "type(complete_results['episode_run_time'])"
   ]
  },
  {
   "cell_type": "code",
   "execution_count": 31,
   "metadata": {},
   "outputs": [
    {
     "data": {
      "text/plain": [
       "[50]"
      ]
     },
     "execution_count": 31,
     "metadata": {},
     "output_type": "execute_result"
    }
   ],
   "source": [
    "complete_results['episode_run_time'][0]"
   ]
  },
  {
   "cell_type": "markdown",
   "metadata": {},
   "source": [
    "## Repeat this process for all 500 pages in original request"
   ]
  },
  {
   "cell_type": "markdown",
   "metadata": {},
   "source": [
    "## iterate over the next 2-500 pages, append to complete_results df"
   ]
  },
  {
   "cell_type": "code",
   "execution_count": 43,
   "metadata": {},
   "outputs": [],
   "source": [
    "import time"
   ]
  },
  {
   "cell_type": "code",
   "execution_count": 46,
   "metadata": {},
   "outputs": [],
   "source": [
    "frames = []\n",
    "\n",
    "for i in range(2, 501):\n",
    "    ploads = {'api_key':  apikey, 'sort_by': 'popularity.desc', 'page':i}\n",
    "    r = requests.get('https://api.themoviedb.org/3/discover/tv', params=ploads)\n",
    "    resp = r.json()\n",
    "    left = pd.DataFrame(resp['results'])\n",
    "    \n",
    "    details = []\n",
    "    # API call for every ID, store all results in array of objects\n",
    "    for index, row in left.iterrows():\n",
    "        r = requests.get('https://api.themoviedb.org/3/tv/%s' % row['id'], params=ploads)\n",
    "        details.append(r.json())\n",
    "    right = pd.DataFrame(details)\n",
    "    merged = pd.merge(left, right, how='inner', on=['id','backdrop_path','first_air_date','original_language', 'popularity', 'poster_path','overview', 'vote_count','vote_average','original_name', 'name'])\n",
    "    frames.append(merged)\n",
    "    time.sleep(5)\n",
    "    "
   ]
  },
  {
   "cell_type": "code",
   "execution_count": 47,
   "metadata": {},
   "outputs": [],
   "source": [
    "result = pd.concat(frames)"
   ]
  },
  {
   "cell_type": "code",
   "execution_count": 48,
   "metadata": {},
   "outputs": [
    {
     "data": {
      "text/html": [
       "<div>\n",
       "<style scoped>\n",
       "    .dataframe tbody tr th:only-of-type {\n",
       "        vertical-align: middle;\n",
       "    }\n",
       "\n",
       "    .dataframe tbody tr th {\n",
       "        vertical-align: top;\n",
       "    }\n",
       "\n",
       "    .dataframe thead th {\n",
       "        text-align: right;\n",
       "    }\n",
       "</style>\n",
       "<table border=\"1\" class=\"dataframe\">\n",
       "  <thead>\n",
       "    <tr style=\"text-align: right;\">\n",
       "      <th></th>\n",
       "      <th>id</th>\n",
       "      <th>popularity</th>\n",
       "      <th>vote_count</th>\n",
       "      <th>name</th>\n",
       "      <th>first_air_date</th>\n",
       "      <th>backdrop_path</th>\n",
       "      <th>overview</th>\n",
       "      <th>genre_ids</th>\n",
       "      <th>original_name</th>\n",
       "      <th>original_language</th>\n",
       "      <th>...</th>\n",
       "      <th>number_of_episodes</th>\n",
       "      <th>number_of_seasons</th>\n",
       "      <th>origin_country_y</th>\n",
       "      <th>production_companies</th>\n",
       "      <th>production_countries</th>\n",
       "      <th>seasons</th>\n",
       "      <th>spoken_languages</th>\n",
       "      <th>status</th>\n",
       "      <th>tagline</th>\n",
       "      <th>type</th>\n",
       "    </tr>\n",
       "  </thead>\n",
       "  <tbody>\n",
       "    <tr>\n",
       "      <th>0</th>\n",
       "      <td>76773</td>\n",
       "      <td>238.249</td>\n",
       "      <td>550</td>\n",
       "      <td>Station 19</td>\n",
       "      <td>2018-03-22</td>\n",
       "      <td>/PB1agKtni7zo4fea8yk6y4iE5L.jpg</td>\n",
       "      <td>A group of heroic firefighters at Seattle Fire...</td>\n",
       "      <td>[10759, 18]</td>\n",
       "      <td>Station 19</td>\n",
       "      <td>en</td>\n",
       "      <td>...</td>\n",
       "      <td>46</td>\n",
       "      <td>4</td>\n",
       "      <td>[US]</td>\n",
       "      <td>[{'id': 34209, 'logo_path': '/chuOOQxixQL4fa9L...</td>\n",
       "      <td>[{'iso_3166_1': 'US', 'name': 'United States o...</td>\n",
       "      <td>[{'air_date': '2018-03-22', 'episode_count': 1...</td>\n",
       "      <td>[{'english_name': 'English', 'iso_639_1': 'en'...</td>\n",
       "      <td>Returning Series</td>\n",
       "      <td>Courage under fire.</td>\n",
       "      <td>Scripted</td>\n",
       "    </tr>\n",
       "    <tr>\n",
       "      <th>1</th>\n",
       "      <td>71790</td>\n",
       "      <td>230.154</td>\n",
       "      <td>303</td>\n",
       "      <td>S.W.A.T.</td>\n",
       "      <td>2017-11-02</td>\n",
       "      <td>/gJSqr2prvTegFbL0cEWK9Qti3Vs.jpg</td>\n",
       "      <td>A locally born and bred S.W.A.T. lieutenant is...</td>\n",
       "      <td>[10759, 80, 18]</td>\n",
       "      <td>S.W.A.T.</td>\n",
       "      <td>en</td>\n",
       "      <td>...</td>\n",
       "      <td>71</td>\n",
       "      <td>4</td>\n",
       "      <td>[US]</td>\n",
       "      <td>[{'id': 11073, 'logo_path': '/wHs44fktdoj6c378...</td>\n",
       "      <td>[{'iso_3166_1': 'US', 'name': 'United States o...</td>\n",
       "      <td>[{'air_date': '2017-11-02', 'episode_count': 2...</td>\n",
       "      <td>[{'english_name': 'English', 'iso_639_1': 'en'...</td>\n",
       "      <td>Returning Series</td>\n",
       "      <td>Serve • Protect • Unite</td>\n",
       "      <td>Scripted</td>\n",
       "    </tr>\n",
       "    <tr>\n",
       "      <th>2</th>\n",
       "      <td>65494</td>\n",
       "      <td>253.691</td>\n",
       "      <td>647</td>\n",
       "      <td>The Crown</td>\n",
       "      <td>2016-11-04</td>\n",
       "      <td>/4InrdamBEM31unNiuEHGYTPX1e2.jpg</td>\n",
       "      <td>The gripping, decades-spanning inside story of...</td>\n",
       "      <td>[18]</td>\n",
       "      <td>The Crown</td>\n",
       "      <td>en</td>\n",
       "      <td>...</td>\n",
       "      <td>40</td>\n",
       "      <td>4</td>\n",
       "      <td>[GB, US]</td>\n",
       "      <td>[{'id': 5340, 'logo_path': '/zHQ48Hg1In6SJB7WW...</td>\n",
       "      <td>[{'iso_3166_1': 'GB', 'name': 'United Kingdom'...</td>\n",
       "      <td>[{'air_date': '2016-11-04', 'episode_count': 1...</td>\n",
       "      <td>[{'english_name': 'English', 'iso_639_1': 'en'...</td>\n",
       "      <td>Returning Series</td>\n",
       "      <td>Times change. Duty endures.</td>\n",
       "      <td>Scripted</td>\n",
       "    </tr>\n",
       "    <tr>\n",
       "      <th>3</th>\n",
       "      <td>60735</td>\n",
       "      <td>231.088</td>\n",
       "      <td>6222</td>\n",
       "      <td>The Flash</td>\n",
       "      <td>2014-10-07</td>\n",
       "      <td>/z59kJfcElR9eHO9rJbWp4qWMuee.jpg</td>\n",
       "      <td>After a particle accelerator causes a freak st...</td>\n",
       "      <td>[18, 10765]</td>\n",
       "      <td>The Flash</td>\n",
       "      <td>en</td>\n",
       "      <td>...</td>\n",
       "      <td>134</td>\n",
       "      <td>7</td>\n",
       "      <td>[US]</td>\n",
       "      <td>[{'id': 1957, 'logo_path': '/3T19XSr6yqaLNK8uJ...</td>\n",
       "      <td>[{'iso_3166_1': 'US', 'name': 'United States o...</td>\n",
       "      <td>[{'air_date': '2016-04-19', 'episode_count': 5...</td>\n",
       "      <td>[{'english_name': 'English', 'iso_639_1': 'en'...</td>\n",
       "      <td>Returning Series</td>\n",
       "      <td>The fastest man alive.</td>\n",
       "      <td>Scripted</td>\n",
       "    </tr>\n",
       "    <tr>\n",
       "      <th>4</th>\n",
       "      <td>44006</td>\n",
       "      <td>214.268</td>\n",
       "      <td>965</td>\n",
       "      <td>Chicago Fire</td>\n",
       "      <td>2012-10-10</td>\n",
       "      <td>/W5geO8tq68ng4TsXyZ81phcPiz.jpg</td>\n",
       "      <td>An edge-of-your-seat view into the lives of ev...</td>\n",
       "      <td>[18]</td>\n",
       "      <td>Chicago Fire</td>\n",
       "      <td>en</td>\n",
       "      <td>...</td>\n",
       "      <td>182</td>\n",
       "      <td>9</td>\n",
       "      <td>[US]</td>\n",
       "      <td>[{'id': 26727, 'logo_path': '/jeTxdjXhzgKZyLr3...</td>\n",
       "      <td>[{'iso_3166_1': 'US', 'name': 'United States o...</td>\n",
       "      <td>[{'air_date': '2012-10-10', 'episode_count': 2...</td>\n",
       "      <td>[{'english_name': 'English', 'iso_639_1': 'en'...</td>\n",
       "      <td>Returning Series</td>\n",
       "      <td>Feel the heat</td>\n",
       "      <td>Scripted</td>\n",
       "    </tr>\n",
       "  </tbody>\n",
       "</table>\n",
       "<p>5 rows × 33 columns</p>\n",
       "</div>"
      ],
      "text/plain": [
       "      id  popularity  vote_count          name first_air_date  \\\n",
       "0  76773     238.249         550    Station 19     2018-03-22   \n",
       "1  71790     230.154         303      S.W.A.T.     2017-11-02   \n",
       "2  65494     253.691         647     The Crown     2016-11-04   \n",
       "3  60735     231.088        6222     The Flash     2014-10-07   \n",
       "4  44006     214.268         965  Chicago Fire     2012-10-10   \n",
       "\n",
       "                      backdrop_path  \\\n",
       "0   /PB1agKtni7zo4fea8yk6y4iE5L.jpg   \n",
       "1  /gJSqr2prvTegFbL0cEWK9Qti3Vs.jpg   \n",
       "2  /4InrdamBEM31unNiuEHGYTPX1e2.jpg   \n",
       "3  /z59kJfcElR9eHO9rJbWp4qWMuee.jpg   \n",
       "4   /W5geO8tq68ng4TsXyZ81phcPiz.jpg   \n",
       "\n",
       "                                            overview        genre_ids  \\\n",
       "0  A group of heroic firefighters at Seattle Fire...      [10759, 18]   \n",
       "1  A locally born and bred S.W.A.T. lieutenant is...  [10759, 80, 18]   \n",
       "2  The gripping, decades-spanning inside story of...             [18]   \n",
       "3  After a particle accelerator causes a freak st...      [18, 10765]   \n",
       "4  An edge-of-your-seat view into the lives of ev...             [18]   \n",
       "\n",
       "  original_name original_language  ...  number_of_episodes number_of_seasons  \\\n",
       "0    Station 19                en  ...                  46                 4   \n",
       "1      S.W.A.T.                en  ...                  71                 4   \n",
       "2     The Crown                en  ...                  40                 4   \n",
       "3     The Flash                en  ...                 134                 7   \n",
       "4  Chicago Fire                en  ...                 182                 9   \n",
       "\n",
       "  origin_country_y                               production_companies  \\\n",
       "0             [US]  [{'id': 34209, 'logo_path': '/chuOOQxixQL4fa9L...   \n",
       "1             [US]  [{'id': 11073, 'logo_path': '/wHs44fktdoj6c378...   \n",
       "2         [GB, US]  [{'id': 5340, 'logo_path': '/zHQ48Hg1In6SJB7WW...   \n",
       "3             [US]  [{'id': 1957, 'logo_path': '/3T19XSr6yqaLNK8uJ...   \n",
       "4             [US]  [{'id': 26727, 'logo_path': '/jeTxdjXhzgKZyLr3...   \n",
       "\n",
       "                                production_countries  \\\n",
       "0  [{'iso_3166_1': 'US', 'name': 'United States o...   \n",
       "1  [{'iso_3166_1': 'US', 'name': 'United States o...   \n",
       "2  [{'iso_3166_1': 'GB', 'name': 'United Kingdom'...   \n",
       "3  [{'iso_3166_1': 'US', 'name': 'United States o...   \n",
       "4  [{'iso_3166_1': 'US', 'name': 'United States o...   \n",
       "\n",
       "                                             seasons  \\\n",
       "0  [{'air_date': '2018-03-22', 'episode_count': 1...   \n",
       "1  [{'air_date': '2017-11-02', 'episode_count': 2...   \n",
       "2  [{'air_date': '2016-11-04', 'episode_count': 1...   \n",
       "3  [{'air_date': '2016-04-19', 'episode_count': 5...   \n",
       "4  [{'air_date': '2012-10-10', 'episode_count': 2...   \n",
       "\n",
       "                                    spoken_languages            status  \\\n",
       "0  [{'english_name': 'English', 'iso_639_1': 'en'...  Returning Series   \n",
       "1  [{'english_name': 'English', 'iso_639_1': 'en'...  Returning Series   \n",
       "2  [{'english_name': 'English', 'iso_639_1': 'en'...  Returning Series   \n",
       "3  [{'english_name': 'English', 'iso_639_1': 'en'...  Returning Series   \n",
       "4  [{'english_name': 'English', 'iso_639_1': 'en'...  Returning Series   \n",
       "\n",
       "                       tagline      type  \n",
       "0          Courage under fire.  Scripted  \n",
       "1      Serve • Protect • Unite  Scripted  \n",
       "2  Times change. Duty endures.  Scripted  \n",
       "3       The fastest man alive.  Scripted  \n",
       "4                Feel the heat  Scripted  \n",
       "\n",
       "[5 rows x 33 columns]"
      ]
     },
     "execution_count": 48,
     "metadata": {},
     "output_type": "execute_result"
    }
   ],
   "source": [
    "result.head()"
   ]
  },
  {
   "cell_type": "code",
   "execution_count": 51,
   "metadata": {},
   "outputs": [
    {
     "data": {
      "text/plain": [
       "<bound method NDFrame.describe of        id  popularity  vote_count             name first_air_date  \\\n",
       "0   76773     238.249         550       Station 19     2018-03-22   \n",
       "1   71790     230.154         303         S.W.A.T.     2017-11-02   \n",
       "2   65494     253.691         647        The Crown     2016-11-04   \n",
       "3   60735     231.088        6222        The Flash     2014-10-07   \n",
       "4   44006     214.268         965     Chicago Fire     2012-10-10   \n",
       "..    ...         ...         ...              ...            ...   \n",
       "13  64614      18.248           2  En mode Salvail     2013-10-28   \n",
       "14  62565      14.382         172  My Love Story!!     2015-04-09   \n",
       "15   2343      14.652          49            Lewis     2007-02-18   \n",
       "16  85854      12.630          31        The Widow     2019-02-28   \n",
       "17   3476      15.592          64  Inspector Morse     1987-01-06   \n",
       "\n",
       "                       backdrop_path  \\\n",
       "0    /PB1agKtni7zo4fea8yk6y4iE5L.jpg   \n",
       "1   /gJSqr2prvTegFbL0cEWK9Qti3Vs.jpg   \n",
       "2   /4InrdamBEM31unNiuEHGYTPX1e2.jpg   \n",
       "3   /z59kJfcElR9eHO9rJbWp4qWMuee.jpg   \n",
       "4    /W5geO8tq68ng4TsXyZ81phcPiz.jpg   \n",
       "..                               ...   \n",
       "13  /gyFyjfpPUiNPDXciFLxGgUK4W7L.jpg   \n",
       "14  /baO2jzutSsHyDW7eJlSTAGUzSDx.jpg   \n",
       "15  /quLu79iZ3KioB1FaVcDxzQuVjv5.jpg   \n",
       "16  /iJVgkjFf6TrxDlic97XCkS4fEuc.jpg   \n",
       "17  /lMafjedMJKWaMYV3ohaWjavHeSa.jpg   \n",
       "\n",
       "                                             overview        genre_ids  \\\n",
       "0   A group of heroic firefighters at Seattle Fire...      [10759, 18]   \n",
       "1   A locally born and bred S.W.A.T. lieutenant is...  [10759, 80, 18]   \n",
       "2   The gripping, decades-spanning inside story of...             [18]   \n",
       "3   After a particle accelerator causes a freak st...      [18, 10765]   \n",
       "4   An edge-of-your-seat view into the lives of ev...             [18]   \n",
       "..                                                ...              ...   \n",
       "13  What to expect: interviews, musical performanc...      [35, 10767]   \n",
       "14  Takeo Godau is a giant guy with a giant heart....         [16, 35]   \n",
       "15  Inspector Robert Lewis and Sergeant James Hath...   [80, 18, 9648]   \n",
       "16  A woman's search to uncover the mystery of the...      [18, 10759]   \n",
       "17  Inspector Morse is a detective drama based on ...   [80, 18, 9648]   \n",
       "\n",
       "      original_name original_language  ...  number_of_episodes  \\\n",
       "0        Station 19                en  ...                  46   \n",
       "1          S.W.A.T.                en  ...                  71   \n",
       "2         The Crown                en  ...                  40   \n",
       "3         The Flash                en  ...                 134   \n",
       "4      Chicago Fire                en  ...                 182   \n",
       "..              ...               ...  ...                 ...   \n",
       "13  En mode Salvail                fr  ...                 398   \n",
       "14            俺物語!!                ja  ...                  24   \n",
       "15            Lewis                en  ...                  41   \n",
       "16        The Widow                en  ...                   8   \n",
       "17  Inspector Morse                en  ...                  28   \n",
       "\n",
       "   number_of_seasons origin_country_y  \\\n",
       "0                  4             [US]   \n",
       "1                  4             [US]   \n",
       "2                  4         [GB, US]   \n",
       "3                  7             [US]   \n",
       "4                  9             [US]   \n",
       "..               ...              ...   \n",
       "13                 5             [CA]   \n",
       "14                 1             [JP]   \n",
       "15                 9             [GB]   \n",
       "16                 1             [GB]   \n",
       "17                 7             [GB]   \n",
       "\n",
       "                                 production_companies  \\\n",
       "0   [{'id': 34209, 'logo_path': '/chuOOQxixQL4fa9L...   \n",
       "1   [{'id': 11073, 'logo_path': '/wHs44fktdoj6c378...   \n",
       "2   [{'id': 5340, 'logo_path': '/zHQ48Hg1In6SJB7WW...   \n",
       "3   [{'id': 1957, 'logo_path': '/3T19XSr6yqaLNK8uJ...   \n",
       "4   [{'id': 26727, 'logo_path': '/jeTxdjXhzgKZyLr3...   \n",
       "..                                                ...   \n",
       "13  [{'id': 69536, 'logo_path': None, 'name': 'Sal...   \n",
       "14  [{'id': 3464, 'logo_path': '/9k0nr75nwnNeT2MHe...   \n",
       "15  [{'id': 71541, 'logo_path': None, 'name': 'ITV...   \n",
       "16  [{'id': 36609, 'logo_path': '/n2Ja3OamKkBnGCF4...   \n",
       "17  [{'id': 3644, 'logo_path': None, 'name': 'Zeni...   \n",
       "\n",
       "                                 production_countries  \\\n",
       "0   [{'iso_3166_1': 'US', 'name': 'United States o...   \n",
       "1   [{'iso_3166_1': 'US', 'name': 'United States o...   \n",
       "2   [{'iso_3166_1': 'GB', 'name': 'United Kingdom'...   \n",
       "3   [{'iso_3166_1': 'US', 'name': 'United States o...   \n",
       "4   [{'iso_3166_1': 'US', 'name': 'United States o...   \n",
       "..                                                ...   \n",
       "13           [{'iso_3166_1': 'CA', 'name': 'Canada'}]   \n",
       "14            [{'iso_3166_1': 'JP', 'name': 'Japan'}]   \n",
       "15   [{'iso_3166_1': 'GB', 'name': 'United Kingdom'}]   \n",
       "16   [{'iso_3166_1': 'GB', 'name': 'United Kingdom'}]   \n",
       "17   [{'iso_3166_1': 'GB', 'name': 'United Kingdom'}]   \n",
       "\n",
       "                                              seasons  \\\n",
       "0   [{'air_date': '2018-03-22', 'episode_count': 1...   \n",
       "1   [{'air_date': '2017-11-02', 'episode_count': 2...   \n",
       "2   [{'air_date': '2016-11-04', 'episode_count': 1...   \n",
       "3   [{'air_date': '2016-04-19', 'episode_count': 5...   \n",
       "4   [{'air_date': '2012-10-10', 'episode_count': 2...   \n",
       "..                                                ...   \n",
       "13  [{'air_date': '2013-10-28', 'episode_count': 8...   \n",
       "14  [{'air_date': '2015-04-09', 'episode_count': 2...   \n",
       "15  [{'air_date': '2006-01-29', 'episode_count': 1...   \n",
       "16  [{'air_date': '2019-02-28', 'episode_count': 8...   \n",
       "17  [{'air_date': '1995-11-29', 'episode_count': 8...   \n",
       "\n",
       "                                     spoken_languages            status  \\\n",
       "0   [{'english_name': 'English', 'iso_639_1': 'en'...  Returning Series   \n",
       "1   [{'english_name': 'English', 'iso_639_1': 'en'...  Returning Series   \n",
       "2   [{'english_name': 'English', 'iso_639_1': 'en'...  Returning Series   \n",
       "3   [{'english_name': 'English', 'iso_639_1': 'en'...  Returning Series   \n",
       "4   [{'english_name': 'English', 'iso_639_1': 'en'...  Returning Series   \n",
       "..                                                ...               ...   \n",
       "13  [{'english_name': 'French', 'iso_639_1': 'fr',...          Canceled   \n",
       "14  [{'english_name': 'Japanese', 'iso_639_1': 'ja...             Ended   \n",
       "15  [{'english_name': 'English', 'iso_639_1': 'en'...             Ended   \n",
       "16  [{'english_name': 'French', 'iso_639_1': 'fr',...             Ended   \n",
       "17  [{'english_name': 'English', 'iso_639_1': 'en'...             Ended   \n",
       "\n",
       "                        tagline        type  \n",
       "0           Courage under fire.    Scripted  \n",
       "1       Serve • Protect • Unite    Scripted  \n",
       "2   Times change. Duty endures.    Scripted  \n",
       "3        The fastest man alive.    Scripted  \n",
       "4                 Feel the heat    Scripted  \n",
       "..                          ...         ...  \n",
       "13                                Talk Show  \n",
       "14                                 Scripted  \n",
       "15                                 Scripted  \n",
       "16                               Miniseries  \n",
       "17                                 Scripted  \n",
       "\n",
       "[1557 rows x 33 columns]>"
      ]
     },
     "execution_count": 51,
     "metadata": {},
     "output_type": "execute_result"
    }
   ],
   "source": [
    "result.describe"
   ]
  },
  {
   "cell_type": "code",
   "execution_count": 56,
   "metadata": {},
   "outputs": [],
   "source": [
    "result.to_csv(path_or_buf='tmdb_tv_dataset_small.csv', index=False)"
   ]
  }
 ],
 "metadata": {
  "kernelspec": {
   "display_name": "Python 3",
   "language": "python",
   "name": "python3"
  },
  "language_info": {
   "codemirror_mode": {
    "name": "ipython",
    "version": 3
   },
   "file_extension": ".py",
   "mimetype": "text/x-python",
   "name": "python",
   "nbconvert_exporter": "python",
   "pygments_lexer": "ipython3",
   "version": "3.8.3"
  }
 },
 "nbformat": 4,
 "nbformat_minor": 4
}

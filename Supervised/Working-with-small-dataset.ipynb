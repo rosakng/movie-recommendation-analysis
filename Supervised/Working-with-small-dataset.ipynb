{
 "cells": [
  {
   "cell_type": "code",
   "execution_count": 1,
   "metadata": {},
   "outputs": [],
   "source": [
    "import pandas as pd"
   ]
  },
  {
   "cell_type": "markdown",
   "metadata": {},
   "source": [
    "## Import the small dataset we created and determine possible linear regression configurations"
   ]
  },
  {
   "cell_type": "code",
   "execution_count": 2,
   "metadata": {},
   "outputs": [],
   "source": [
    "df = pd.read_csv('tmdb_tv_dataset_small.csv')"
   ]
  },
  {
   "cell_type": "code",
   "execution_count": 3,
   "metadata": {},
   "outputs": [
    {
     "data": {
      "text/html": [
       "<div>\n",
       "<style scoped>\n",
       "    .dataframe tbody tr th:only-of-type {\n",
       "        vertical-align: middle;\n",
       "    }\n",
       "\n",
       "    .dataframe tbody tr th {\n",
       "        vertical-align: top;\n",
       "    }\n",
       "\n",
       "    .dataframe thead th {\n",
       "        text-align: right;\n",
       "    }\n",
       "</style>\n",
       "<table border=\"1\" class=\"dataframe\">\n",
       "  <thead>\n",
       "    <tr style=\"text-align: right;\">\n",
       "      <th></th>\n",
       "      <th>id</th>\n",
       "      <th>popularity</th>\n",
       "      <th>vote_count</th>\n",
       "      <th>name</th>\n",
       "      <th>first_air_date</th>\n",
       "      <th>backdrop_path</th>\n",
       "      <th>overview</th>\n",
       "      <th>genre_ids</th>\n",
       "      <th>original_name</th>\n",
       "      <th>original_language</th>\n",
       "      <th>...</th>\n",
       "      <th>number_of_episodes</th>\n",
       "      <th>number_of_seasons</th>\n",
       "      <th>origin_country_y</th>\n",
       "      <th>production_companies</th>\n",
       "      <th>production_countries</th>\n",
       "      <th>seasons</th>\n",
       "      <th>spoken_languages</th>\n",
       "      <th>status</th>\n",
       "      <th>tagline</th>\n",
       "      <th>type</th>\n",
       "    </tr>\n",
       "  </thead>\n",
       "  <tbody>\n",
       "    <tr>\n",
       "      <th>0</th>\n",
       "      <td>76773</td>\n",
       "      <td>238.249</td>\n",
       "      <td>550</td>\n",
       "      <td>Station 19</td>\n",
       "      <td>2018-03-22</td>\n",
       "      <td>/PB1agKtni7zo4fea8yk6y4iE5L.jpg</td>\n",
       "      <td>A group of heroic firefighters at Seattle Fire...</td>\n",
       "      <td>[10759, 18]</td>\n",
       "      <td>Station 19</td>\n",
       "      <td>en</td>\n",
       "      <td>...</td>\n",
       "      <td>46</td>\n",
       "      <td>4</td>\n",
       "      <td>['US']</td>\n",
       "      <td>[{'id': 34209, 'logo_path': '/chuOOQxixQL4fa9L...</td>\n",
       "      <td>[{'iso_3166_1': 'US', 'name': 'United States o...</td>\n",
       "      <td>[{'air_date': '2018-03-22', 'episode_count': 1...</td>\n",
       "      <td>[{'english_name': 'English', 'iso_639_1': 'en'...</td>\n",
       "      <td>Returning Series</td>\n",
       "      <td>Courage under fire.</td>\n",
       "      <td>Scripted</td>\n",
       "    </tr>\n",
       "    <tr>\n",
       "      <th>1</th>\n",
       "      <td>71790</td>\n",
       "      <td>230.154</td>\n",
       "      <td>303</td>\n",
       "      <td>S.W.A.T.</td>\n",
       "      <td>2017-11-02</td>\n",
       "      <td>/gJSqr2prvTegFbL0cEWK9Qti3Vs.jpg</td>\n",
       "      <td>A locally born and bred S.W.A.T. lieutenant is...</td>\n",
       "      <td>[10759, 80, 18]</td>\n",
       "      <td>S.W.A.T.</td>\n",
       "      <td>en</td>\n",
       "      <td>...</td>\n",
       "      <td>71</td>\n",
       "      <td>4</td>\n",
       "      <td>['US']</td>\n",
       "      <td>[{'id': 11073, 'logo_path': '/wHs44fktdoj6c378...</td>\n",
       "      <td>[{'iso_3166_1': 'US', 'name': 'United States o...</td>\n",
       "      <td>[{'air_date': '2017-11-02', 'episode_count': 2...</td>\n",
       "      <td>[{'english_name': 'English', 'iso_639_1': 'en'...</td>\n",
       "      <td>Returning Series</td>\n",
       "      <td>Serve • Protect • Unite</td>\n",
       "      <td>Scripted</td>\n",
       "    </tr>\n",
       "    <tr>\n",
       "      <th>2</th>\n",
       "      <td>65494</td>\n",
       "      <td>253.691</td>\n",
       "      <td>647</td>\n",
       "      <td>The Crown</td>\n",
       "      <td>2016-11-04</td>\n",
       "      <td>/4InrdamBEM31unNiuEHGYTPX1e2.jpg</td>\n",
       "      <td>The gripping, decades-spanning inside story of...</td>\n",
       "      <td>[18]</td>\n",
       "      <td>The Crown</td>\n",
       "      <td>en</td>\n",
       "      <td>...</td>\n",
       "      <td>40</td>\n",
       "      <td>4</td>\n",
       "      <td>['GB', 'US']</td>\n",
       "      <td>[{'id': 5340, 'logo_path': '/zHQ48Hg1In6SJB7WW...</td>\n",
       "      <td>[{'iso_3166_1': 'GB', 'name': 'United Kingdom'...</td>\n",
       "      <td>[{'air_date': '2016-11-04', 'episode_count': 1...</td>\n",
       "      <td>[{'english_name': 'English', 'iso_639_1': 'en'...</td>\n",
       "      <td>Returning Series</td>\n",
       "      <td>Times change. Duty endures.</td>\n",
       "      <td>Scripted</td>\n",
       "    </tr>\n",
       "    <tr>\n",
       "      <th>3</th>\n",
       "      <td>60735</td>\n",
       "      <td>231.088</td>\n",
       "      <td>6222</td>\n",
       "      <td>The Flash</td>\n",
       "      <td>2014-10-07</td>\n",
       "      <td>/z59kJfcElR9eHO9rJbWp4qWMuee.jpg</td>\n",
       "      <td>After a particle accelerator causes a freak st...</td>\n",
       "      <td>[18, 10765]</td>\n",
       "      <td>The Flash</td>\n",
       "      <td>en</td>\n",
       "      <td>...</td>\n",
       "      <td>134</td>\n",
       "      <td>7</td>\n",
       "      <td>['US']</td>\n",
       "      <td>[{'id': 1957, 'logo_path': '/3T19XSr6yqaLNK8uJ...</td>\n",
       "      <td>[{'iso_3166_1': 'US', 'name': 'United States o...</td>\n",
       "      <td>[{'air_date': '2016-04-19', 'episode_count': 5...</td>\n",
       "      <td>[{'english_name': 'English', 'iso_639_1': 'en'...</td>\n",
       "      <td>Returning Series</td>\n",
       "      <td>The fastest man alive.</td>\n",
       "      <td>Scripted</td>\n",
       "    </tr>\n",
       "    <tr>\n",
       "      <th>4</th>\n",
       "      <td>44006</td>\n",
       "      <td>214.268</td>\n",
       "      <td>965</td>\n",
       "      <td>Chicago Fire</td>\n",
       "      <td>2012-10-10</td>\n",
       "      <td>/W5geO8tq68ng4TsXyZ81phcPiz.jpg</td>\n",
       "      <td>An edge-of-your-seat view into the lives of ev...</td>\n",
       "      <td>[18]</td>\n",
       "      <td>Chicago Fire</td>\n",
       "      <td>en</td>\n",
       "      <td>...</td>\n",
       "      <td>182</td>\n",
       "      <td>9</td>\n",
       "      <td>['US']</td>\n",
       "      <td>[{'id': 26727, 'logo_path': '/jeTxdjXhzgKZyLr3...</td>\n",
       "      <td>[{'iso_3166_1': 'US', 'name': 'United States o...</td>\n",
       "      <td>[{'air_date': '2012-10-10', 'episode_count': 2...</td>\n",
       "      <td>[{'english_name': 'English', 'iso_639_1': 'en'...</td>\n",
       "      <td>Returning Series</td>\n",
       "      <td>Feel the heat</td>\n",
       "      <td>Scripted</td>\n",
       "    </tr>\n",
       "  </tbody>\n",
       "</table>\n",
       "<p>5 rows × 33 columns</p>\n",
       "</div>"
      ],
      "text/plain": [
       "      id  popularity  vote_count          name first_air_date  \\\n",
       "0  76773     238.249         550    Station 19     2018-03-22   \n",
       "1  71790     230.154         303      S.W.A.T.     2017-11-02   \n",
       "2  65494     253.691         647     The Crown     2016-11-04   \n",
       "3  60735     231.088        6222     The Flash     2014-10-07   \n",
       "4  44006     214.268         965  Chicago Fire     2012-10-10   \n",
       "\n",
       "                      backdrop_path  \\\n",
       "0   /PB1agKtni7zo4fea8yk6y4iE5L.jpg   \n",
       "1  /gJSqr2prvTegFbL0cEWK9Qti3Vs.jpg   \n",
       "2  /4InrdamBEM31unNiuEHGYTPX1e2.jpg   \n",
       "3  /z59kJfcElR9eHO9rJbWp4qWMuee.jpg   \n",
       "4   /W5geO8tq68ng4TsXyZ81phcPiz.jpg   \n",
       "\n",
       "                                            overview        genre_ids  \\\n",
       "0  A group of heroic firefighters at Seattle Fire...      [10759, 18]   \n",
       "1  A locally born and bred S.W.A.T. lieutenant is...  [10759, 80, 18]   \n",
       "2  The gripping, decades-spanning inside story of...             [18]   \n",
       "3  After a particle accelerator causes a freak st...      [18, 10765]   \n",
       "4  An edge-of-your-seat view into the lives of ev...             [18]   \n",
       "\n",
       "  original_name original_language  ...  number_of_episodes number_of_seasons  \\\n",
       "0    Station 19                en  ...                  46                 4   \n",
       "1      S.W.A.T.                en  ...                  71                 4   \n",
       "2     The Crown                en  ...                  40                 4   \n",
       "3     The Flash                en  ...                 134                 7   \n",
       "4  Chicago Fire                en  ...                 182                 9   \n",
       "\n",
       "  origin_country_y                               production_companies  \\\n",
       "0           ['US']  [{'id': 34209, 'logo_path': '/chuOOQxixQL4fa9L...   \n",
       "1           ['US']  [{'id': 11073, 'logo_path': '/wHs44fktdoj6c378...   \n",
       "2     ['GB', 'US']  [{'id': 5340, 'logo_path': '/zHQ48Hg1In6SJB7WW...   \n",
       "3           ['US']  [{'id': 1957, 'logo_path': '/3T19XSr6yqaLNK8uJ...   \n",
       "4           ['US']  [{'id': 26727, 'logo_path': '/jeTxdjXhzgKZyLr3...   \n",
       "\n",
       "                                production_countries  \\\n",
       "0  [{'iso_3166_1': 'US', 'name': 'United States o...   \n",
       "1  [{'iso_3166_1': 'US', 'name': 'United States o...   \n",
       "2  [{'iso_3166_1': 'GB', 'name': 'United Kingdom'...   \n",
       "3  [{'iso_3166_1': 'US', 'name': 'United States o...   \n",
       "4  [{'iso_3166_1': 'US', 'name': 'United States o...   \n",
       "\n",
       "                                             seasons  \\\n",
       "0  [{'air_date': '2018-03-22', 'episode_count': 1...   \n",
       "1  [{'air_date': '2017-11-02', 'episode_count': 2...   \n",
       "2  [{'air_date': '2016-11-04', 'episode_count': 1...   \n",
       "3  [{'air_date': '2016-04-19', 'episode_count': 5...   \n",
       "4  [{'air_date': '2012-10-10', 'episode_count': 2...   \n",
       "\n",
       "                                    spoken_languages            status  \\\n",
       "0  [{'english_name': 'English', 'iso_639_1': 'en'...  Returning Series   \n",
       "1  [{'english_name': 'English', 'iso_639_1': 'en'...  Returning Series   \n",
       "2  [{'english_name': 'English', 'iso_639_1': 'en'...  Returning Series   \n",
       "3  [{'english_name': 'English', 'iso_639_1': 'en'...  Returning Series   \n",
       "4  [{'english_name': 'English', 'iso_639_1': 'en'...  Returning Series   \n",
       "\n",
       "                       tagline      type  \n",
       "0          Courage under fire.  Scripted  \n",
       "1      Serve • Protect • Unite  Scripted  \n",
       "2  Times change. Duty endures.  Scripted  \n",
       "3       The fastest man alive.  Scripted  \n",
       "4                Feel the heat  Scripted  \n",
       "\n",
       "[5 rows x 33 columns]"
      ]
     },
     "execution_count": 3,
     "metadata": {},
     "output_type": "execute_result"
    }
   ],
   "source": [
    "df.head()"
   ]
  },
  {
   "cell_type": "markdown",
   "metadata": {},
   "source": [
    "## Data visualization and Statistics"
   ]
  },
  {
   "cell_type": "markdown",
   "metadata": {},
   "source": [
    "First, we will investigate the statistics of the dataset we are working with"
   ]
  },
  {
   "cell_type": "markdown",
   "metadata": {},
   "source": [
    "Data exploration\n",
    "\n",
    "Whole dataset\n",
    "\n",
    "- Number of records: SELECT COUNT(*)\n",
    "\n",
    "For each numeric variable/column\n",
    "\n",
    "- Mean, median, mode, minimum, maximum\n",
    "\n",
    "For each categorical variable\n",
    "- Number of distinct values\n",
    "\n",
    "For both types of variables\n",
    "- Histogram\n",
    "- Number of missing values"
   ]
  },
  {
   "cell_type": "code",
   "execution_count": 4,
   "metadata": {},
   "outputs": [
    {
     "data": {
      "text/plain": [
       "1557"
      ]
     },
     "execution_count": 4,
     "metadata": {},
     "output_type": "execute_result"
    }
   ],
   "source": [
    "# Number of records\n",
    "len(df.index)"
   ]
  },
  {
   "cell_type": "code",
   "execution_count": 5,
   "metadata": {},
   "outputs": [
    {
     "data": {
      "text/plain": [
       "51381"
      ]
     },
     "execution_count": 5,
     "metadata": {},
     "output_type": "execute_result"
    }
   ],
   "source": [
    "# Number of items (rows x columns)\n",
    "df.size"
   ]
  },
  {
   "cell_type": "code",
   "execution_count": 6,
   "metadata": {},
   "outputs": [
    {
     "data": {
      "text/plain": [
       "(1557, 33)"
      ]
     },
     "execution_count": 6,
     "metadata": {},
     "output_type": "execute_result"
    }
   ],
   "source": [
    "# Number of rows, number of columns\n",
    "df.shape"
   ]
  },
  {
   "cell_type": "code",
   "execution_count": 7,
   "metadata": {},
   "outputs": [
    {
     "data": {
      "text/plain": [
       "id                        int64\n",
       "popularity              float64\n",
       "vote_count                int64\n",
       "name                     object\n",
       "first_air_date           object\n",
       "backdrop_path            object\n",
       "overview                 object\n",
       "genre_ids                object\n",
       "original_name            object\n",
       "original_language        object\n",
       "vote_average            float64\n",
       "poster_path              object\n",
       "origin_country_x         object\n",
       "created_by               object\n",
       "episode_run_time         object\n",
       "genres                   object\n",
       "homepage                 object\n",
       "in_production              bool\n",
       "languages                object\n",
       "last_air_date            object\n",
       "last_episode_to_air      object\n",
       "next_episode_to_air      object\n",
       "networks                 object\n",
       "number_of_episodes        int64\n",
       "number_of_seasons         int64\n",
       "origin_country_y         object\n",
       "production_companies     object\n",
       "production_countries     object\n",
       "seasons                  object\n",
       "spoken_languages         object\n",
       "status                   object\n",
       "tagline                  object\n",
       "type                     object\n",
       "dtype: object"
      ]
     },
     "execution_count": 7,
     "metadata": {},
     "output_type": "execute_result"
    }
   ],
   "source": [
    "df.dtypes"
   ]
  },
  {
   "cell_type": "markdown",
   "metadata": {},
   "source": [
    "## From here, we can split the dataset into categorical and numeric columns"
   ]
  },
  {
   "cell_type": "code",
   "execution_count": 8,
   "metadata": {},
   "outputs": [],
   "source": [
    "all_cols = set(df.columns)\n",
    "numeric_cols = set(['id','popularity','vote_count','vote_average','number_of_episodes','number_of_seasons'])\n",
    "categorical_cols = all_cols - numeric_cols"
   ]
  },
  {
   "cell_type": "code",
   "execution_count": 9,
   "metadata": {},
   "outputs": [],
   "source": [
    "numeric = df[list(numeric_cols)].copy()\n",
    "categorical = df[list(categorical_cols)].copy()"
   ]
  },
  {
   "cell_type": "code",
   "execution_count": 10,
   "metadata": {},
   "outputs": [
    {
     "data": {
      "text/html": [
       "<div>\n",
       "<style scoped>\n",
       "    .dataframe tbody tr th:only-of-type {\n",
       "        vertical-align: middle;\n",
       "    }\n",
       "\n",
       "    .dataframe tbody tr th {\n",
       "        vertical-align: top;\n",
       "    }\n",
       "\n",
       "    .dataframe thead th {\n",
       "        text-align: right;\n",
       "    }\n",
       "</style>\n",
       "<table border=\"1\" class=\"dataframe\">\n",
       "  <thead>\n",
       "    <tr style=\"text-align: right;\">\n",
       "      <th></th>\n",
       "      <th>number_of_seasons</th>\n",
       "      <th>popularity</th>\n",
       "      <th>vote_count</th>\n",
       "      <th>id</th>\n",
       "      <th>vote_average</th>\n",
       "      <th>number_of_episodes</th>\n",
       "    </tr>\n",
       "  </thead>\n",
       "  <tbody>\n",
       "    <tr>\n",
       "      <th>0</th>\n",
       "      <td>4</td>\n",
       "      <td>238.249</td>\n",
       "      <td>550</td>\n",
       "      <td>76773</td>\n",
       "      <td>8.2</td>\n",
       "      <td>46</td>\n",
       "    </tr>\n",
       "    <tr>\n",
       "      <th>1</th>\n",
       "      <td>4</td>\n",
       "      <td>230.154</td>\n",
       "      <td>303</td>\n",
       "      <td>71790</td>\n",
       "      <td>7.6</td>\n",
       "      <td>71</td>\n",
       "    </tr>\n",
       "    <tr>\n",
       "      <th>2</th>\n",
       "      <td>4</td>\n",
       "      <td>253.691</td>\n",
       "      <td>647</td>\n",
       "      <td>65494</td>\n",
       "      <td>8.2</td>\n",
       "      <td>40</td>\n",
       "    </tr>\n",
       "    <tr>\n",
       "      <th>3</th>\n",
       "      <td>7</td>\n",
       "      <td>231.088</td>\n",
       "      <td>6222</td>\n",
       "      <td>60735</td>\n",
       "      <td>7.6</td>\n",
       "      <td>134</td>\n",
       "    </tr>\n",
       "    <tr>\n",
       "      <th>4</th>\n",
       "      <td>9</td>\n",
       "      <td>214.268</td>\n",
       "      <td>965</td>\n",
       "      <td>44006</td>\n",
       "      <td>8.3</td>\n",
       "      <td>182</td>\n",
       "    </tr>\n",
       "  </tbody>\n",
       "</table>\n",
       "</div>"
      ],
      "text/plain": [
       "   number_of_seasons  popularity  vote_count     id  vote_average  \\\n",
       "0                  4     238.249         550  76773           8.2   \n",
       "1                  4     230.154         303  71790           7.6   \n",
       "2                  4     253.691         647  65494           8.2   \n",
       "3                  7     231.088        6222  60735           7.6   \n",
       "4                  9     214.268         965  44006           8.3   \n",
       "\n",
       "   number_of_episodes  \n",
       "0                  46  \n",
       "1                  71  \n",
       "2                  40  \n",
       "3                 134  \n",
       "4                 182  "
      ]
     },
     "execution_count": 10,
     "metadata": {},
     "output_type": "execute_result"
    }
   ],
   "source": [
    "numeric.head()"
   ]
  },
  {
   "cell_type": "code",
   "execution_count": 11,
   "metadata": {},
   "outputs": [
    {
     "data": {
      "text/html": [
       "<div>\n",
       "<style scoped>\n",
       "    .dataframe tbody tr th:only-of-type {\n",
       "        vertical-align: middle;\n",
       "    }\n",
       "\n",
       "    .dataframe tbody tr th {\n",
       "        vertical-align: top;\n",
       "    }\n",
       "\n",
       "    .dataframe thead th {\n",
       "        text-align: right;\n",
       "    }\n",
       "</style>\n",
       "<table border=\"1\" class=\"dataframe\">\n",
       "  <thead>\n",
       "    <tr style=\"text-align: right;\">\n",
       "      <th></th>\n",
       "      <th>number_of_seasons</th>\n",
       "      <th>popularity</th>\n",
       "      <th>vote_count</th>\n",
       "      <th>id</th>\n",
       "      <th>vote_average</th>\n",
       "      <th>number_of_episodes</th>\n",
       "    </tr>\n",
       "  </thead>\n",
       "  <tbody>\n",
       "    <tr>\n",
       "      <th>count</th>\n",
       "      <td>1557.000000</td>\n",
       "      <td>1557.000000</td>\n",
       "      <td>1557.000000</td>\n",
       "      <td>1557.000000</td>\n",
       "      <td>1557.000000</td>\n",
       "      <td>1557.000000</td>\n",
       "    </tr>\n",
       "    <tr>\n",
       "      <th>mean</th>\n",
       "      <td>4.712909</td>\n",
       "      <td>30.688473</td>\n",
       "      <td>197.073218</td>\n",
       "      <td>48528.310212</td>\n",
       "      <td>7.096275</td>\n",
       "      <td>166.496468</td>\n",
       "    </tr>\n",
       "    <tr>\n",
       "      <th>std</th>\n",
       "      <td>6.316557</td>\n",
       "      <td>25.204725</td>\n",
       "      <td>360.319468</td>\n",
       "      <td>34150.439568</td>\n",
       "      <td>1.556956</td>\n",
       "      <td>522.294566</td>\n",
       "    </tr>\n",
       "    <tr>\n",
       "      <th>min</th>\n",
       "      <td>1.000000</td>\n",
       "      <td>9.965000</td>\n",
       "      <td>0.000000</td>\n",
       "      <td>29.000000</td>\n",
       "      <td>0.000000</td>\n",
       "      <td>1.000000</td>\n",
       "    </tr>\n",
       "    <tr>\n",
       "      <th>25%</th>\n",
       "      <td>1.000000</td>\n",
       "      <td>17.939000</td>\n",
       "      <td>26.000000</td>\n",
       "      <td>10317.000000</td>\n",
       "      <td>6.800000</td>\n",
       "      <td>18.000000</td>\n",
       "    </tr>\n",
       "    <tr>\n",
       "      <th>50%</th>\n",
       "      <td>3.000000</td>\n",
       "      <td>22.861000</td>\n",
       "      <td>87.000000</td>\n",
       "      <td>60654.000000</td>\n",
       "      <td>7.400000</td>\n",
       "      <td>51.000000</td>\n",
       "    </tr>\n",
       "    <tr>\n",
       "      <th>75%</th>\n",
       "      <td>5.000000</td>\n",
       "      <td>32.855000</td>\n",
       "      <td>226.000000</td>\n",
       "      <td>76231.000000</td>\n",
       "      <td>7.900000</td>\n",
       "      <td>128.000000</td>\n",
       "    </tr>\n",
       "    <tr>\n",
       "      <th>max</th>\n",
       "      <td>62.000000</td>\n",
       "      <td>253.691000</td>\n",
       "      <td>6222.000000</td>\n",
       "      <td>112878.000000</td>\n",
       "      <td>10.000000</td>\n",
       "      <td>7771.000000</td>\n",
       "    </tr>\n",
       "  </tbody>\n",
       "</table>\n",
       "</div>"
      ],
      "text/plain": [
       "       number_of_seasons   popularity   vote_count             id  \\\n",
       "count        1557.000000  1557.000000  1557.000000    1557.000000   \n",
       "mean            4.712909    30.688473   197.073218   48528.310212   \n",
       "std             6.316557    25.204725   360.319468   34150.439568   \n",
       "min             1.000000     9.965000     0.000000      29.000000   \n",
       "25%             1.000000    17.939000    26.000000   10317.000000   \n",
       "50%             3.000000    22.861000    87.000000   60654.000000   \n",
       "75%             5.000000    32.855000   226.000000   76231.000000   \n",
       "max            62.000000   253.691000  6222.000000  112878.000000   \n",
       "\n",
       "       vote_average  number_of_episodes  \n",
       "count   1557.000000         1557.000000  \n",
       "mean       7.096275          166.496468  \n",
       "std        1.556956          522.294566  \n",
       "min        0.000000            1.000000  \n",
       "25%        6.800000           18.000000  \n",
       "50%        7.400000           51.000000  \n",
       "75%        7.900000          128.000000  \n",
       "max       10.000000         7771.000000  "
      ]
     },
     "execution_count": 11,
     "metadata": {},
     "output_type": "execute_result"
    }
   ],
   "source": [
    "numeric.describe()"
   ]
  },
  {
   "cell_type": "code",
   "execution_count": 12,
   "metadata": {},
   "outputs": [
    {
     "data": {
      "text/plain": [
       "number_of_seasons     0\n",
       "popularity            0\n",
       "vote_count            0\n",
       "id                    0\n",
       "vote_average          0\n",
       "number_of_episodes    0\n",
       "dtype: int64"
      ]
     },
     "execution_count": 12,
     "metadata": {},
     "output_type": "execute_result"
    }
   ],
   "source": [
    "numeric.isnull().sum()"
   ]
  },
  {
   "cell_type": "code",
   "execution_count": 13,
   "metadata": {},
   "outputs": [
    {
     "data": {
      "text/html": [
       "<div>\n",
       "<style scoped>\n",
       "    .dataframe tbody tr th:only-of-type {\n",
       "        vertical-align: middle;\n",
       "    }\n",
       "\n",
       "    .dataframe tbody tr th {\n",
       "        vertical-align: top;\n",
       "    }\n",
       "\n",
       "    .dataframe thead th {\n",
       "        text-align: right;\n",
       "    }\n",
       "</style>\n",
       "<table border=\"1\" class=\"dataframe\">\n",
       "  <thead>\n",
       "    <tr style=\"text-align: right;\">\n",
       "      <th></th>\n",
       "      <th>last_episode_to_air</th>\n",
       "      <th>homepage</th>\n",
       "      <th>production_countries</th>\n",
       "      <th>original_name</th>\n",
       "      <th>status</th>\n",
       "      <th>poster_path</th>\n",
       "      <th>production_companies</th>\n",
       "      <th>networks</th>\n",
       "      <th>in_production</th>\n",
       "      <th>original_language</th>\n",
       "      <th>...</th>\n",
       "      <th>type</th>\n",
       "      <th>origin_country_y</th>\n",
       "      <th>seasons</th>\n",
       "      <th>origin_country_x</th>\n",
       "      <th>episode_run_time</th>\n",
       "      <th>created_by</th>\n",
       "      <th>tagline</th>\n",
       "      <th>languages</th>\n",
       "      <th>name</th>\n",
       "      <th>genre_ids</th>\n",
       "    </tr>\n",
       "  </thead>\n",
       "  <tbody>\n",
       "    <tr>\n",
       "      <th>count</th>\n",
       "      <td>1554</td>\n",
       "      <td>1192</td>\n",
       "      <td>1557</td>\n",
       "      <td>1557</td>\n",
       "      <td>1557</td>\n",
       "      <td>1533</td>\n",
       "      <td>1557</td>\n",
       "      <td>1557</td>\n",
       "      <td>1557</td>\n",
       "      <td>1557</td>\n",
       "      <td>...</td>\n",
       "      <td>1557</td>\n",
       "      <td>1557</td>\n",
       "      <td>1557</td>\n",
       "      <td>1557</td>\n",
       "      <td>1557</td>\n",
       "      <td>1557</td>\n",
       "      <td>318</td>\n",
       "      <td>1557</td>\n",
       "      <td>1557</td>\n",
       "      <td>1557</td>\n",
       "    </tr>\n",
       "    <tr>\n",
       "      <th>unique</th>\n",
       "      <td>1554</td>\n",
       "      <td>1192</td>\n",
       "      <td>83</td>\n",
       "      <td>1541</td>\n",
       "      <td>6</td>\n",
       "      <td>1533</td>\n",
       "      <td>1001</td>\n",
       "      <td>421</td>\n",
       "      <td>2</td>\n",
       "      <td>24</td>\n",
       "      <td>...</td>\n",
       "      <td>7</td>\n",
       "      <td>61</td>\n",
       "      <td>1557</td>\n",
       "      <td>61</td>\n",
       "      <td>191</td>\n",
       "      <td>1232</td>\n",
       "      <td>318</td>\n",
       "      <td>91</td>\n",
       "      <td>1538</td>\n",
       "      <td>327</td>\n",
       "    </tr>\n",
       "    <tr>\n",
       "      <th>top</th>\n",
       "      <td>{'air_date': '2019-08-14', 'episode_number': 1...</td>\n",
       "      <td>https://www.netflix.com/de-en/title/80017537</td>\n",
       "      <td>[{'iso_3166_1': 'US', 'name': 'United States o...</td>\n",
       "      <td>The Twilight Zone</td>\n",
       "      <td>Ended</td>\n",
       "      <td>/gBnbkQ7t6Ctri0A4nKDYWqIVF3f.jpg</td>\n",
       "      <td>[]</td>\n",
       "      <td>[{'name': 'Netflix', 'id': 213, 'logo_path': '...</td>\n",
       "      <td>False</td>\n",
       "      <td>en</td>\n",
       "      <td>...</td>\n",
       "      <td>Scripted</td>\n",
       "      <td>['US']</td>\n",
       "      <td>[{'air_date': '2002-09-18', 'episode_count': 4...</td>\n",
       "      <td>['US']</td>\n",
       "      <td>[24]</td>\n",
       "      <td>[]</td>\n",
       "      <td>In the complex process of determining guilt an...</td>\n",
       "      <td>['en']</td>\n",
       "      <td>The Twilight Zone</td>\n",
       "      <td>[18]</td>\n",
       "    </tr>\n",
       "    <tr>\n",
       "      <th>freq</th>\n",
       "      <td>1</td>\n",
       "      <td>1</td>\n",
       "      <td>469</td>\n",
       "      <td>4</td>\n",
       "      <td>893</td>\n",
       "      <td>1</td>\n",
       "      <td>348</td>\n",
       "      <td>119</td>\n",
       "      <td>1058</td>\n",
       "      <td>1006</td>\n",
       "      <td>...</td>\n",
       "      <td>1384</td>\n",
       "      <td>828</td>\n",
       "      <td>1</td>\n",
       "      <td>828</td>\n",
       "      <td>172</td>\n",
       "      <td>326</td>\n",
       "      <td>1</td>\n",
       "      <td>905</td>\n",
       "      <td>4</td>\n",
       "      <td>183</td>\n",
       "    </tr>\n",
       "  </tbody>\n",
       "</table>\n",
       "<p>4 rows × 27 columns</p>\n",
       "</div>"
      ],
      "text/plain": [
       "                                      last_episode_to_air  \\\n",
       "count                                                1554   \n",
       "unique                                               1554   \n",
       "top     {'air_date': '2019-08-14', 'episode_number': 1...   \n",
       "freq                                                    1   \n",
       "\n",
       "                                            homepage  \\\n",
       "count                                           1192   \n",
       "unique                                          1192   \n",
       "top     https://www.netflix.com/de-en/title/80017537   \n",
       "freq                                               1   \n",
       "\n",
       "                                     production_countries      original_name  \\\n",
       "count                                                1557               1557   \n",
       "unique                                                 83               1541   \n",
       "top     [{'iso_3166_1': 'US', 'name': 'United States o...  The Twilight Zone   \n",
       "freq                                                  469                  4   \n",
       "\n",
       "       status                       poster_path production_companies  \\\n",
       "count    1557                              1533                 1557   \n",
       "unique      6                              1533                 1001   \n",
       "top     Ended  /gBnbkQ7t6Ctri0A4nKDYWqIVF3f.jpg                   []   \n",
       "freq      893                                 1                  348   \n",
       "\n",
       "                                                 networks in_production  \\\n",
       "count                                                1557          1557   \n",
       "unique                                                421             2   \n",
       "top     [{'name': 'Netflix', 'id': 213, 'logo_path': '...         False   \n",
       "freq                                                  119          1058   \n",
       "\n",
       "       original_language  ...      type origin_country_y  \\\n",
       "count               1557  ...      1557             1557   \n",
       "unique                24  ...         7               61   \n",
       "top                   en  ...  Scripted           ['US']   \n",
       "freq                1006  ...      1384              828   \n",
       "\n",
       "                                                  seasons origin_country_x  \\\n",
       "count                                                1557             1557   \n",
       "unique                                               1557               61   \n",
       "top     [{'air_date': '2002-09-18', 'episode_count': 4...           ['US']   \n",
       "freq                                                    1              828   \n",
       "\n",
       "       episode_run_time created_by  \\\n",
       "count              1557       1557   \n",
       "unique              191       1232   \n",
       "top                [24]         []   \n",
       "freq                172        326   \n",
       "\n",
       "                                                  tagline languages  \\\n",
       "count                                                 318      1557   \n",
       "unique                                                318        91   \n",
       "top     In the complex process of determining guilt an...    ['en']   \n",
       "freq                                                    1       905   \n",
       "\n",
       "                     name genre_ids  \n",
       "count                1557      1557  \n",
       "unique               1538       327  \n",
       "top     The Twilight Zone      [18]  \n",
       "freq                    4       183  \n",
       "\n",
       "[4 rows x 27 columns]"
      ]
     },
     "execution_count": 13,
     "metadata": {},
     "output_type": "execute_result"
    }
   ],
   "source": [
    "categorical.describe()"
   ]
  },
  {
   "cell_type": "code",
   "execution_count": 14,
   "metadata": {},
   "outputs": [
    {
     "data": {
      "text/plain": [
       "last_episode_to_air        3\n",
       "homepage                 365\n",
       "production_countries       0\n",
       "original_name              0\n",
       "status                     0\n",
       "poster_path               24\n",
       "production_companies       0\n",
       "networks                   0\n",
       "in_production              0\n",
       "original_language          0\n",
       "genres                     0\n",
       "spoken_languages           0\n",
       "first_air_date             0\n",
       "overview                  54\n",
       "next_episode_to_air     1451\n",
       "backdrop_path             94\n",
       "last_air_date              3\n",
       "type                       0\n",
       "origin_country_y           0\n",
       "seasons                    0\n",
       "origin_country_x           0\n",
       "episode_run_time           0\n",
       "created_by                 0\n",
       "tagline                 1239\n",
       "languages                  0\n",
       "name                       0\n",
       "genre_ids                  0\n",
       "dtype: int64"
      ]
     },
     "execution_count": 14,
     "metadata": {},
     "output_type": "execute_result"
    }
   ],
   "source": [
    "categorical.isnull().sum()"
   ]
  },
  {
   "cell_type": "code",
   "execution_count": 16,
   "metadata": {},
   "outputs": [],
   "source": [
    "import matplotlib.pyplot as plt"
   ]
  },
  {
   "cell_type": "code",
   "execution_count": 17,
   "metadata": {},
   "outputs": [
    {
     "data": {
      "text/plain": [
       "(array([ 35.,  12.,   9.,   8.,  25.,  63., 314., 718., 352.,  21.]),\n",
       " array([ 0.,  1.,  2.,  3.,  4.,  5.,  6.,  7.,  8.,  9., 10.]),\n",
       " <a list of 10 Patch objects>)"
      ]
     },
     "execution_count": 17,
     "metadata": {},
     "output_type": "execute_result"
    },
    {
     "data": {
      "image/png": "[encoded data removed]",
      "text/plain": [
       "<Figure size 432x288 with 1 Axes>"
      ]
     },
     "metadata": {
      "needs_background": "light"
     },
     "output_type": "display_data"
    }
   ],
   "source": [
    "# Histogram of vote_average (current target we are looking at)\n",
    "plt.hist(numeric['vote_average'])"
   ]
  },
  {
   "cell_type": "code",
   "execution_count": 18,
   "metadata": {},
   "outputs": [
    {
     "data": {
      "text/plain": [
       "(array([487.,   0., 893.,   0., 166.,   0.,   9.,   0.,   1.,   1.]),\n",
       " array([0. , 0.5, 1. , 1.5, 2. , 2.5, 3. , 3.5, 4. , 4.5, 5. ]),\n",
       " <a list of 10 Patch objects>)"
      ]
     },
     "execution_count": 18,
     "metadata": {},
     "output_type": "execute_result"
    },
    {
     "data": {
      "image/png": "[encoded data removed]",
      "text/plain": [
       "<Figure size 432x288 with 1 Axes>"
      ]
     },
     "metadata": {
      "needs_background": "light"
     },
     "output_type": "display_data"
    }
   ],
   "source": [
    "# Histogram of vote_count (current target we are looking at)\n",
    "plt.hist(categorical['status'])"
   ]
  },
  {
   "cell_type": "markdown",
   "metadata": {},
   "source": [
    "## Visualizing correlation between vote_average and other numeric variables"
   ]
  },
  {
   "cell_type": "code",
   "execution_count": 19,
   "metadata": {},
   "outputs": [
    {
     "data": {
      "text/plain": [
       "Text(0, 0.5, 'vote_average')"
      ]
     },
     "execution_count": 19,
     "metadata": {},
     "output_type": "execute_result"
    },
    {
     "data": {
      "image/png": "[encoded data removed]",
      "text/plain": [
       "<Figure size 432x288 with 1 Axes>"
      ]
     },
     "metadata": {
      "needs_background": "light"
     },
     "output_type": "display_data"
    }
   ],
   "source": [
    "# popularity vs vote_average\n",
    "plt.scatter(numeric['popularity'],numeric['vote_average'])\n",
    "\n",
    "#label\n",
    "plt.xlabel(\"TMDB popularity score\")\n",
    "plt.ylabel('vote_average')"
   ]
  },
  {
   "cell_type": "markdown",
   "metadata": {},
   "source": [
    "Based on this, we can see that there is little correlation between the TMDB assigned popularity score and the vote_average. Additionally, the popularity metric is actually an assigned value from TMDB which is calculated based on internal metrics, and changes daily. Thus, we can safely ignore this variable as a potential explanatory variable"
   ]
  },
  {
   "cell_type": "code",
   "execution_count": 20,
   "metadata": {},
   "outputs": [
    {
     "data": {
      "text/plain": [
       "Text(0, 0.5, 'vote_average')"
      ]
     },
     "execution_count": 20,
     "metadata": {},
     "output_type": "execute_result"
    },
    {
     "data": {
      "image/png": "[encoded data removed]",
      "text/plain": [
       "<Figure size 432x288 with 1 Axes>"
      ]
     },
     "metadata": {
      "needs_background": "light"
     },
     "output_type": "display_data"
    }
   ],
   "source": [
    "# popularity vs vote_average\n",
    "plt.scatter(numeric['number_of_seasons'],numeric['vote_average'])\n",
    "\n",
    "#label\n",
    "plt.xlabel(\"number of seasons\")\n",
    "plt.ylabel('vote_average')"
   ]
  },
  {
   "cell_type": "code",
   "execution_count": 21,
   "metadata": {},
   "outputs": [
    {
     "data": {
      "text/plain": [
       "Text(0, 0.5, 'vote_average')"
      ]
     },
     "execution_count": 21,
     "metadata": {},
     "output_type": "execute_result"
    },
    {
     "data": {
      "image/png": "[encoded data removed]",
      "text/plain": [
       "<Figure size 432x288 with 1 Axes>"
      ]
     },
     "metadata": {
      "needs_background": "light"
     },
     "output_type": "display_data"
    }
   ],
   "source": [
    "# popularity vs vote_average\n",
    "plt.scatter(numeric['vote_count'],numeric['vote_average'])\n",
    "\n",
    "#label\n",
    "plt.xlabel(\"vote_count\")\n",
    "plt.ylabel('vote_average')"
   ]
  },
  {
   "cell_type": "code",
   "execution_count": 22,
   "metadata": {},
   "outputs": [
    {
     "data": {
      "text/plain": [
       "Text(0, 0.5, 'vote_average')"
      ]
     },
     "execution_count": 22,
     "metadata": {},
     "output_type": "execute_result"
    },
    {
     "data": {
      "image/png": "[encoded data removed]",
      "text/plain": [
       "<Figure size 432x288 with 1 Axes>"
      ]
     },
     "metadata": {
      "needs_background": "light"
     },
     "output_type": "display_data"
    }
   ],
   "source": [
    "# popularity vs vote_average\n",
    "plt.scatter(numeric['number_of_episodes'],numeric['vote_average'])\n",
    "\n",
    "#label\n",
    "plt.xlabel(\"number_of_episodes\")\n",
    "plt.ylabel('vote_average')"
   ]
  },
  {
   "cell_type": "markdown",
   "metadata": {},
   "source": [
    "## Visualizing correlation between vote count and other numeric variables"
   ]
  },
  {
   "cell_type": "code",
   "execution_count": 23,
   "metadata": {},
   "outputs": [
    {
     "data": {
      "text/plain": [
       "Text(0, 0.5, 'vote_count')"
      ]
     },
     "execution_count": 23,
     "metadata": {},
     "output_type": "execute_result"
    },
    {
     "data": {
      "image/png": "[encoded data removed]",
      "text/plain": [
       "<Figure size 432x288 with 1 Axes>"
      ]
     },
     "metadata": {
      "needs_background": "light"
     },
     "output_type": "display_data"
    }
   ],
   "source": [
    "# popularity vs vote_average\n",
    "plt.scatter(numeric['popularity'],numeric['vote_count'])\n",
    "\n",
    "#label\n",
    "plt.xlabel(\"popularity\")\n",
    "plt.ylabel('vote_count')"
   ]
  },
  {
   "cell_type": "code",
   "execution_count": 24,
   "metadata": {},
   "outputs": [
    {
     "data": {
      "text/plain": [
       "Text(0, 0.5, 'vote_count')"
      ]
     },
     "execution_count": 24,
     "metadata": {},
     "output_type": "execute_result"
    },
    {
     "data": {
      "image/png": "[encoded data removed]",
      "text/plain": [
       "<Figure size 432x288 with 1 Axes>"
      ]
     },
     "metadata": {
      "needs_background": "light"
     },
     "output_type": "display_data"
    }
   ],
   "source": [
    "# popularity vs vote_average\n",
    "plt.scatter(numeric['number_of_seasons'],numeric['vote_count'])\n",
    "\n",
    "#label\n",
    "plt.xlabel(\"number of seasons\")\n",
    "plt.ylabel('vote_count')"
   ]
  },
  {
   "cell_type": "code",
   "execution_count": 25,
   "metadata": {},
   "outputs": [
    {
     "data": {
      "text/plain": [
       "Text(0, 0.5, 'vote_count')"
      ]
     },
     "execution_count": 25,
     "metadata": {},
     "output_type": "execute_result"
    },
    {
     "data": {
      "image/png": "[encoded data removed]",
      "text/plain": [
       "<Figure size 432x288 with 1 Axes>"
      ]
     },
     "metadata": {
      "needs_background": "light"
     },
     "output_type": "display_data"
    }
   ],
   "source": [
    "# popularity vs vote_average\n",
    "plt.scatter(numeric['vote_average'],numeric['vote_count'])\n",
    "\n",
    "#label\n",
    "plt.xlabel(\"vote_average\")\n",
    "plt.ylabel('vote_count')"
   ]
  },
  {
   "cell_type": "code",
   "execution_count": 26,
   "metadata": {},
   "outputs": [
    {
     "data": {
      "text/plain": [
       "Text(0, 0.5, 'vote_count')"
      ]
     },
     "execution_count": 26,
     "metadata": {},
     "output_type": "execute_result"
    },
    {
     "data": {
      "image/png": "[encoded data removed]",
      "text/plain": [
       "<Figure size 432x288 with 1 Axes>"
      ]
     },
     "metadata": {
      "needs_background": "light"
     },
     "output_type": "display_data"
    }
   ],
   "source": [
    "# popularity vs vote_average\n",
    "plt.scatter(numeric['number_of_episodes'],numeric['vote_count'])\n",
    "\n",
    "#label\n",
    "plt.xlabel(\"number_of_episodes\")\n",
    "plt.ylabel('vote_count')"
   ]
  },
  {
   "cell_type": "markdown",
   "metadata": {},
   "source": [
    "Based on this, we can conclude that although there is some more correlation between vote count and other numeric variables, the strongest predictors are vote_average and popularity, both of which seem to be proprietary to TMDB, and as such the predicting power may not be replicated when looking at more standardized datasets (IMDB, Netflix, etc.)"
   ]
  },
  {
   "cell_type": "markdown",
   "metadata": {},
   "source": [
    "From these findings, it seems to be worthwhile to pursue classification "
   ]
  },
  {
   "cell_type": "markdown",
   "metadata": {},
   "source": [
    "## Decision tree to predict if a TV shows current status"
   ]
  },
  {
   "cell_type": "code",
   "execution_count": 27,
   "metadata": {},
   "outputs": [],
   "source": [
    "from sklearn import tree\n",
    "from sklearn.tree import DecisionTreeClassifier, export_graphviz\n",
    "from sklearn.model_selection import train_test_split\n",
    "\n",
    "import matplotlib.pyplot as plt\n",
    "import seaborn as sns\n",
    "\n",
    "%matplotlib inline"
   ]
  },
  {
   "cell_type": "markdown",
   "metadata": {},
   "source": [
    "Since we lack intuition regarding which columns have predictive correlation to the column we wish to predict, in this case 'status', we will explore all of the columns that we have in the full dataset right now "
   ]
  },
  {
   "cell_type": "code",
   "execution_count": 28,
   "metadata": {},
   "outputs": [],
   "source": [
    "train, test = train_test_split(df,test_size=0.15)"
   ]
  },
  {
   "cell_type": "code",
   "execution_count": 29,
   "metadata": {},
   "outputs": [],
   "source": [
    "# Custom Color Palette \n",
    "red_blue = ['#19B5FE','#EF4836']\n",
    "pallete = sns.color_palette(red_blue)\n",
    "sns.set_palette(pallete)\n",
    "sns.set_style('white')"
   ]
  },
  {
   "cell_type": "markdown",
   "metadata": {},
   "source": [
    "Lets take a look at the distinct values of the 'status' column"
   ]
  },
  {
   "cell_type": "code",
   "execution_count": 30,
   "metadata": {},
   "outputs": [],
   "source": [
    "statuses = df.drop_duplicates(subset=['status'])['status']"
   ]
  },
  {
   "cell_type": "code",
   "execution_count": 31,
   "metadata": {},
   "outputs": [
    {
     "data": {
      "text/plain": [
       "0       Returning Series\n",
       "7                  Ended\n",
       "32              Canceled\n",
       "284        In Production\n",
       "366              Planned\n",
       "1419               Pilot\n",
       "Name: status, dtype: object"
      ]
     },
     "execution_count": 31,
     "metadata": {},
     "output_type": "execute_result"
    }
   ],
   "source": [
    "statuses"
   ]
  },
  {
   "cell_type": "markdown",
   "metadata": {},
   "source": [
    "From our previous histogram, we can see that the main statuses we would be interested in here for this discovery are 'ended', 'cancelled', or 'in production'. Intuitively, some of the most probable explanatory variables are 'vote_count', 'first_air_date', 'original_language', 'vote_average', 'episode_run_time', 'genres', 'number_of_episodes', 'number_of_seasons', 'production_companies', and 'production_countries'"
   ]
  },
  {
   "cell_type": "code",
   "execution_count": 32,
   "metadata": {},
   "outputs": [],
   "source": [
    "# vote_count\n",
    "ended_vote_count = df[df['status'] == 'Ended']['vote_count']\n",
    "cancelled_vote_count = df[df['status'] == 'Canceled']['vote_count']\n",
    "in_prod_vote_count = df[df['status'] == 'In Production']['vote_count']\n",
    "\n",
    "# first_air_date\n",
    "ended_first_air_date = df[df['status'] == 'Ended']['first_air_date']\n",
    "cancelled_first_air_date = df[df['status'] == 'Canceled']['first_air_date']\n",
    "in_prod_first_air_date = df[df['status'] == 'In Production']['first_air_date']\n",
    "\n",
    "# original_language\n",
    "ended_original_language = df[df['status'] == 'Ended']['original_language']\n",
    "cancelled_original_language = df[df['status'] == 'Canceled']['original_language']\n",
    "in_prod_original_language = df[df['status'] == 'In Production']['original_language']\n",
    "\n",
    "# vote_average\n",
    "ended_vote_average = df[df['status'] == 'Ended']['vote_average']\n",
    "cancelled_vote_average = df[df['status'] == 'Canceled']['vote_average']\n",
    "in_prod_vote_average = df[df['status'] == 'In Production']['vote_average']\n",
    "\n",
    "# episode_run_time\n",
    "ended_episode_run_time = df[df['status'] == 'Ended']['episode_run_time']\n",
    "cancelled_episode_run_time = df[df['status'] == 'Canceled']['episode_run_time']\n",
    "in_prod_episode_run_time = df[df['status'] == 'In Production']['episode_run_time']\n",
    "\n",
    "# genres\n",
    "ended_genres = df[df['status'] == 'Ended']['genres']\n",
    "cancelled_genres = df[df['status'] == 'Canceled']['genres']\n",
    "in_prod_genres = df[df['status'] == 'In Production']['genres']\n",
    "\n",
    "# number_of_episodes\n",
    "ended_number_of_episodes = df[df['status'] == 'Ended']['number_of_episodes']\n",
    "cancelled_number_of_episodes = df[df['status'] == 'Canceled']['number_of_episodes']\n",
    "in_prod_number_of_episodes = df[df['status'] == 'In Production']['number_of_episodes']\n",
    "\n",
    "# number_of_seasons\n",
    "ended_number_of_seasons = df[df['status'] == 'Ended']['number_of_seasons']\n",
    "cancelled_number_of_seasons = df[df['status'] == 'Canceled']['number_of_seasons']\n",
    "in_prod_number_of_seasons = df[df['status'] == 'In Production']['number_of_seasons']\n",
    "\n",
    "# production_companies\n",
    "ended_production_companies = df[df['status'] == 'Ended']['production_companies']\n",
    "cancelled_production_companies = df[df['status'] == 'Canceled']['production_companies']\n",
    "in_prod_production_companies = df[df['status'] == 'In Production']['production_companies']\n",
    "\n",
    "# production_countries\n",
    "ended_production_countries = df[df['status'] == 'Ended']['production_countries']\n",
    "cancelled_production_countries = df[df['status'] == 'Canceled']['production_countries']\n",
    "in_prod_production_countries = df[df['status'] == 'In Production']['production_countries']"
   ]
  },
  {
   "cell_type": "markdown",
   "metadata": {},
   "source": [
    "## Some visualizations here"
   ]
  },
  {
   "cell_type": "code",
   "execution_count": 33,
   "metadata": {},
   "outputs": [],
   "source": [
    "c = DecisionTreeClassifier(min_samples_split=100)"
   ]
  },
  {
   "cell_type": "code",
   "execution_count": 34,
   "metadata": {},
   "outputs": [],
   "source": [
    "# one hot encode categorical features\n",
    "categorical_features = ['original_language', 'genres', 'production_companies', 'production_countries']"
   ]
  },
  {
   "cell_type": "code",
   "execution_count": 35,
   "metadata": {},
   "outputs": [],
   "source": [
    "features = ['vote_count', 'original_language', 'vote_average', 'episode_run_time', 'genres', 'number_of_episodes', 'number_of_seasons', 'production_companies', 'production_countries']"
   ]
  },
  {
   "cell_type": "code",
   "execution_count": 36,
   "metadata": {},
   "outputs": [],
   "source": [
    "X_train = train[features]\n",
    "y_train = train['status']\n",
    "\n",
    "X_test = test[features]\n",
    "y_test = test['status']"
   ]
  },
  {
   "cell_type": "code",
   "execution_count": 37,
   "metadata": {},
   "outputs": [
    {
     "ename": "ValueError",
     "evalue": "could not convert string to float: 'de'",
     "output_type": "error",
     "traceback": [
      "\u001b[0;31m---------------------------------------------------------------------------\u001b[0m",
      "\u001b[0;31mValueError\u001b[0m                                Traceback (most recent call last)",
      "\u001b[0;32m<ipython-input-37-a666d52ba556>\u001b[0m in \u001b[0;36m<module>\u001b[0;34m\u001b[0m\n\u001b[0;32m----> 1\u001b[0;31m \u001b[0mc\u001b[0m\u001b[0;34m.\u001b[0m\u001b[0mfit\u001b[0m\u001b[0;34m(\u001b[0m\u001b[0mX_train\u001b[0m\u001b[0;34m,\u001b[0m\u001b[0my_train\u001b[0m\u001b[0;34m)\u001b[0m\u001b[0;34m\u001b[0m\u001b[0;34m\u001b[0m\u001b[0m\n\u001b[0m",
      "\u001b[0;32m~/opt/anaconda3/lib/python3.8/site-packages/sklearn/tree/_classes.py\u001b[0m in \u001b[0;36mfit\u001b[0;34m(self, X, y, sample_weight, check_input, X_idx_sorted)\u001b[0m\n\u001b[1;32m    888\u001b[0m         \"\"\"\n\u001b[1;32m    889\u001b[0m \u001b[0;34m\u001b[0m\u001b[0m\n\u001b[0;32m--> 890\u001b[0;31m         super().fit(\n\u001b[0m\u001b[1;32m    891\u001b[0m             \u001b[0mX\u001b[0m\u001b[0;34m,\u001b[0m \u001b[0my\u001b[0m\u001b[0;34m,\u001b[0m\u001b[0;34m\u001b[0m\u001b[0;34m\u001b[0m\u001b[0m\n\u001b[1;32m    892\u001b[0m             \u001b[0msample_weight\u001b[0m\u001b[0;34m=\u001b[0m\u001b[0msample_weight\u001b[0m\u001b[0;34m,\u001b[0m\u001b[0;34m\u001b[0m\u001b[0;34m\u001b[0m\u001b[0m\n",
      "\u001b[0;32m~/opt/anaconda3/lib/python3.8/site-packages/sklearn/tree/_classes.py\u001b[0m in \u001b[0;36mfit\u001b[0;34m(self, X, y, sample_weight, check_input, X_idx_sorted)\u001b[0m\n\u001b[1;32m    154\u001b[0m             \u001b[0mcheck_X_params\u001b[0m \u001b[0;34m=\u001b[0m \u001b[0mdict\u001b[0m\u001b[0;34m(\u001b[0m\u001b[0mdtype\u001b[0m\u001b[0;34m=\u001b[0m\u001b[0mDTYPE\u001b[0m\u001b[0;34m,\u001b[0m \u001b[0maccept_sparse\u001b[0m\u001b[0;34m=\u001b[0m\u001b[0;34m\"csc\"\u001b[0m\u001b[0;34m)\u001b[0m\u001b[0;34m\u001b[0m\u001b[0;34m\u001b[0m\u001b[0m\n\u001b[1;32m    155\u001b[0m             \u001b[0mcheck_y_params\u001b[0m \u001b[0;34m=\u001b[0m \u001b[0mdict\u001b[0m\u001b[0;34m(\u001b[0m\u001b[0mensure_2d\u001b[0m\u001b[0;34m=\u001b[0m\u001b[0;32mFalse\u001b[0m\u001b[0;34m,\u001b[0m \u001b[0mdtype\u001b[0m\u001b[0;34m=\u001b[0m\u001b[0;32mNone\u001b[0m\u001b[0;34m)\u001b[0m\u001b[0;34m\u001b[0m\u001b[0;34m\u001b[0m\u001b[0m\n\u001b[0;32m--> 156\u001b[0;31m             X, y = self._validate_data(X, y,\n\u001b[0m\u001b[1;32m    157\u001b[0m                                        validate_separately=(check_X_params,\n\u001b[1;32m    158\u001b[0m                                                             check_y_params))\n",
      "\u001b[0;32m~/opt/anaconda3/lib/python3.8/site-packages/sklearn/base.py\u001b[0m in \u001b[0;36m_validate_data\u001b[0;34m(self, X, y, reset, validate_separately, **check_params)\u001b[0m\n\u001b[1;32m    427\u001b[0m                 \u001b[0;31m# :(\u001b[0m\u001b[0;34m\u001b[0m\u001b[0;34m\u001b[0m\u001b[0;34m\u001b[0m\u001b[0m\n\u001b[1;32m    428\u001b[0m                 \u001b[0mcheck_X_params\u001b[0m\u001b[0;34m,\u001b[0m \u001b[0mcheck_y_params\u001b[0m \u001b[0;34m=\u001b[0m \u001b[0mvalidate_separately\u001b[0m\u001b[0;34m\u001b[0m\u001b[0;34m\u001b[0m\u001b[0m\n\u001b[0;32m--> 429\u001b[0;31m                 \u001b[0mX\u001b[0m \u001b[0;34m=\u001b[0m \u001b[0mcheck_array\u001b[0m\u001b[0;34m(\u001b[0m\u001b[0mX\u001b[0m\u001b[0;34m,\u001b[0m \u001b[0;34m**\u001b[0m\u001b[0mcheck_X_params\u001b[0m\u001b[0;34m)\u001b[0m\u001b[0;34m\u001b[0m\u001b[0;34m\u001b[0m\u001b[0m\n\u001b[0m\u001b[1;32m    430\u001b[0m                 \u001b[0my\u001b[0m \u001b[0;34m=\u001b[0m \u001b[0mcheck_array\u001b[0m\u001b[0;34m(\u001b[0m\u001b[0my\u001b[0m\u001b[0;34m,\u001b[0m \u001b[0;34m**\u001b[0m\u001b[0mcheck_y_params\u001b[0m\u001b[0;34m)\u001b[0m\u001b[0;34m\u001b[0m\u001b[0;34m\u001b[0m\u001b[0m\n\u001b[1;32m    431\u001b[0m             \u001b[0;32melse\u001b[0m\u001b[0;34m:\u001b[0m\u001b[0;34m\u001b[0m\u001b[0;34m\u001b[0m\u001b[0m\n",
      "\u001b[0;32m~/opt/anaconda3/lib/python3.8/site-packages/sklearn/utils/validation.py\u001b[0m in \u001b[0;36minner_f\u001b[0;34m(*args, **kwargs)\u001b[0m\n\u001b[1;32m     71\u001b[0m                           FutureWarning)\n\u001b[1;32m     72\u001b[0m         \u001b[0mkwargs\u001b[0m\u001b[0;34m.\u001b[0m\u001b[0mupdate\u001b[0m\u001b[0;34m(\u001b[0m\u001b[0;34m{\u001b[0m\u001b[0mk\u001b[0m\u001b[0;34m:\u001b[0m \u001b[0marg\u001b[0m \u001b[0;32mfor\u001b[0m \u001b[0mk\u001b[0m\u001b[0;34m,\u001b[0m \u001b[0marg\u001b[0m \u001b[0;32min\u001b[0m \u001b[0mzip\u001b[0m\u001b[0;34m(\u001b[0m\u001b[0msig\u001b[0m\u001b[0;34m.\u001b[0m\u001b[0mparameters\u001b[0m\u001b[0;34m,\u001b[0m \u001b[0margs\u001b[0m\u001b[0;34m)\u001b[0m\u001b[0;34m}\u001b[0m\u001b[0;34m)\u001b[0m\u001b[0;34m\u001b[0m\u001b[0;34m\u001b[0m\u001b[0m\n\u001b[0;32m---> 73\u001b[0;31m         \u001b[0;32mreturn\u001b[0m \u001b[0mf\u001b[0m\u001b[0;34m(\u001b[0m\u001b[0;34m**\u001b[0m\u001b[0mkwargs\u001b[0m\u001b[0;34m)\u001b[0m\u001b[0;34m\u001b[0m\u001b[0;34m\u001b[0m\u001b[0m\n\u001b[0m\u001b[1;32m     74\u001b[0m     \u001b[0;32mreturn\u001b[0m \u001b[0minner_f\u001b[0m\u001b[0;34m\u001b[0m\u001b[0;34m\u001b[0m\u001b[0m\n\u001b[1;32m     75\u001b[0m \u001b[0;34m\u001b[0m\u001b[0m\n",
      "\u001b[0;32m~/opt/anaconda3/lib/python3.8/site-packages/sklearn/utils/validation.py\u001b[0m in \u001b[0;36mcheck_array\u001b[0;34m(array, accept_sparse, accept_large_sparse, dtype, order, copy, force_all_finite, ensure_2d, allow_nd, ensure_min_samples, ensure_min_features, estimator)\u001b[0m\n\u001b[1;32m    597\u001b[0m                     \u001b[0marray\u001b[0m \u001b[0;34m=\u001b[0m \u001b[0marray\u001b[0m\u001b[0;34m.\u001b[0m\u001b[0mastype\u001b[0m\u001b[0;34m(\u001b[0m\u001b[0mdtype\u001b[0m\u001b[0;34m,\u001b[0m \u001b[0mcasting\u001b[0m\u001b[0;34m=\u001b[0m\u001b[0;34m\"unsafe\"\u001b[0m\u001b[0;34m,\u001b[0m \u001b[0mcopy\u001b[0m\u001b[0;34m=\u001b[0m\u001b[0;32mFalse\u001b[0m\u001b[0;34m)\u001b[0m\u001b[0;34m\u001b[0m\u001b[0;34m\u001b[0m\u001b[0m\n\u001b[1;32m    598\u001b[0m                 \u001b[0;32melse\u001b[0m\u001b[0;34m:\u001b[0m\u001b[0;34m\u001b[0m\u001b[0;34m\u001b[0m\u001b[0m\n\u001b[0;32m--> 599\u001b[0;31m                     \u001b[0marray\u001b[0m \u001b[0;34m=\u001b[0m \u001b[0mnp\u001b[0m\u001b[0;34m.\u001b[0m\u001b[0masarray\u001b[0m\u001b[0;34m(\u001b[0m\u001b[0marray\u001b[0m\u001b[0;34m,\u001b[0m \u001b[0morder\u001b[0m\u001b[0;34m=\u001b[0m\u001b[0morder\u001b[0m\u001b[0;34m,\u001b[0m \u001b[0mdtype\u001b[0m\u001b[0;34m=\u001b[0m\u001b[0mdtype\u001b[0m\u001b[0;34m)\u001b[0m\u001b[0;34m\u001b[0m\u001b[0;34m\u001b[0m\u001b[0m\n\u001b[0m\u001b[1;32m    600\u001b[0m             \u001b[0;32mexcept\u001b[0m \u001b[0mComplexWarning\u001b[0m\u001b[0;34m:\u001b[0m\u001b[0;34m\u001b[0m\u001b[0;34m\u001b[0m\u001b[0m\n\u001b[1;32m    601\u001b[0m                 raise ValueError(\"Complex data not supported\\n\"\n",
      "\u001b[0;32m~/opt/anaconda3/lib/python3.8/site-packages/numpy/core/_asarray.py\u001b[0m in \u001b[0;36masarray\u001b[0;34m(a, dtype, order)\u001b[0m\n\u001b[1;32m     83\u001b[0m \u001b[0;34m\u001b[0m\u001b[0m\n\u001b[1;32m     84\u001b[0m     \"\"\"\n\u001b[0;32m---> 85\u001b[0;31m     \u001b[0;32mreturn\u001b[0m \u001b[0marray\u001b[0m\u001b[0;34m(\u001b[0m\u001b[0ma\u001b[0m\u001b[0;34m,\u001b[0m \u001b[0mdtype\u001b[0m\u001b[0;34m,\u001b[0m \u001b[0mcopy\u001b[0m\u001b[0;34m=\u001b[0m\u001b[0;32mFalse\u001b[0m\u001b[0;34m,\u001b[0m \u001b[0morder\u001b[0m\u001b[0;34m=\u001b[0m\u001b[0morder\u001b[0m\u001b[0;34m)\u001b[0m\u001b[0;34m\u001b[0m\u001b[0;34m\u001b[0m\u001b[0m\n\u001b[0m\u001b[1;32m     86\u001b[0m \u001b[0;34m\u001b[0m\u001b[0m\n\u001b[1;32m     87\u001b[0m \u001b[0;34m\u001b[0m\u001b[0m\n",
      "\u001b[0;31mValueError\u001b[0m: could not convert string to float: 'de'"
     ]
    }
   ],
   "source": [
    "c.fit(X_train,y_train)"
   ]
  },
  {
   "cell_type": "markdown",
   "metadata": {},
   "source": [
    "## Linear regression to predict number of votes"
   ]
  },
  {
   "cell_type": "markdown",
   "metadata": {},
   "source": [
    "A naive approach that we can take here to get a sense of features that might be good predictors of an overall \"popularity\" measurement can be to test on existing data, i.e. vote_count. Vote count as the sole descriptor of the overall popularity of a TV show may not be the most accurate, however it can be a good starting point."
   ]
  },
  {
   "cell_type": "code",
   "execution_count": null,
   "metadata": {},
   "outputs": [],
   "source": [
    "# Histogram of vote_count (current target we are looking at)\n",
    "plt.hist(numeric['vote_average'])"
   ]
  }
 ],
 "metadata": {
  "kernelspec": {
   "display_name": "Python 3",
   "language": "python",
   "name": "python3"
  },
  "language_info": {
   "codemirror_mode": {
    "name": "ipython",
    "version": 3
   },
   "file_extension": ".py",
   "mimetype": "text/x-python",
   "name": "python",
   "nbconvert_exporter": "python",
   "pygments_lexer": "ipython3",
   "version": "3.8.3"
  }
 },
 "nbformat": 4,
 "nbformat_minor": 4
}
